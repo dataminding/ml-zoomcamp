{
 "cells": [
  {
   "cell_type": "markdown",
   "id": "5fbfc270",
   "metadata": {},
   "source": [
    "Solutions for https://github.com/alexeygrigorev/mlbookcamp-code/blob/master/course-zoomcamp/02-regression/homework.md"
   ]
  },
  {
   "cell_type": "code",
   "execution_count": 83,
   "id": "46d14e4f",
   "metadata": {},
   "outputs": [],
   "source": [
    "import pandas as pd\n",
    "import numpy as np\n",
    "\n",
    "import seaborn as sns\n",
    "from matplotlib import pyplot as plt\n",
    "%matplotlib inline"
   ]
  },
  {
   "cell_type": "code",
   "execution_count": 4,
   "id": "cdf72b1a",
   "metadata": {},
   "outputs": [
    {
     "name": "stdout",
     "output_type": "stream",
     "text": [
      "  % Total    % Received % Xferd  Average Speed   Time    Time     Time  Current\n",
      "                                 Dload  Upload   Total   Spent    Left  Speed\n",
      "100 6912k  100 6912k    0     0  6691k      0  0:00:01  0:00:01 --:--:-- 6691k\n"
     ]
    }
   ],
   "source": [
    "! curl https://raw.githubusercontent.com/alexeygrigorev/datasets/master/AB_NYC_2019.csv --output AB_NYC_2019.csv "
   ]
  },
  {
   "cell_type": "code",
   "execution_count": 10,
   "id": "feef89fe",
   "metadata": {
    "scrolled": true
   },
   "outputs": [
    {
     "data": {
      "text/html": [
       "<div>\n",
       "<style scoped>\n",
       "    .dataframe tbody tr th:only-of-type {\n",
       "        vertical-align: middle;\n",
       "    }\n",
       "\n",
       "    .dataframe tbody tr th {\n",
       "        vertical-align: top;\n",
       "    }\n",
       "\n",
       "    .dataframe thead th {\n",
       "        text-align: right;\n",
       "    }\n",
       "</style>\n",
       "<table border=\"1\" class=\"dataframe\">\n",
       "  <thead>\n",
       "    <tr style=\"text-align: right;\">\n",
       "      <th></th>\n",
       "      <th>id</th>\n",
       "      <th>name</th>\n",
       "      <th>host_id</th>\n",
       "      <th>host_name</th>\n",
       "      <th>neighbourhood_group</th>\n",
       "      <th>neighbourhood</th>\n",
       "      <th>latitude</th>\n",
       "      <th>longitude</th>\n",
       "      <th>room_type</th>\n",
       "      <th>price</th>\n",
       "      <th>minimum_nights</th>\n",
       "      <th>number_of_reviews</th>\n",
       "      <th>last_review</th>\n",
       "      <th>reviews_per_month</th>\n",
       "      <th>calculated_host_listings_count</th>\n",
       "      <th>availability_365</th>\n",
       "    </tr>\n",
       "  </thead>\n",
       "  <tbody>\n",
       "    <tr>\n",
       "      <th>0</th>\n",
       "      <td>2539</td>\n",
       "      <td>Clean &amp; quiet apt home by the park</td>\n",
       "      <td>2787</td>\n",
       "      <td>John</td>\n",
       "      <td>Brooklyn</td>\n",
       "      <td>Kensington</td>\n",
       "      <td>40.64749</td>\n",
       "      <td>-73.97237</td>\n",
       "      <td>Private room</td>\n",
       "      <td>149</td>\n",
       "      <td>1</td>\n",
       "      <td>9</td>\n",
       "      <td>2018-10-19</td>\n",
       "      <td>0.21</td>\n",
       "      <td>6</td>\n",
       "      <td>365</td>\n",
       "    </tr>\n",
       "    <tr>\n",
       "      <th>1</th>\n",
       "      <td>2595</td>\n",
       "      <td>Skylit Midtown Castle</td>\n",
       "      <td>2845</td>\n",
       "      <td>Jennifer</td>\n",
       "      <td>Manhattan</td>\n",
       "      <td>Midtown</td>\n",
       "      <td>40.75362</td>\n",
       "      <td>-73.98377</td>\n",
       "      <td>Entire home/apt</td>\n",
       "      <td>225</td>\n",
       "      <td>1</td>\n",
       "      <td>45</td>\n",
       "      <td>2019-05-21</td>\n",
       "      <td>0.38</td>\n",
       "      <td>2</td>\n",
       "      <td>355</td>\n",
       "    </tr>\n",
       "    <tr>\n",
       "      <th>2</th>\n",
       "      <td>3647</td>\n",
       "      <td>THE VILLAGE OF HARLEM....NEW YORK !</td>\n",
       "      <td>4632</td>\n",
       "      <td>Elisabeth</td>\n",
       "      <td>Manhattan</td>\n",
       "      <td>Harlem</td>\n",
       "      <td>40.80902</td>\n",
       "      <td>-73.94190</td>\n",
       "      <td>Private room</td>\n",
       "      <td>150</td>\n",
       "      <td>3</td>\n",
       "      <td>0</td>\n",
       "      <td>NaN</td>\n",
       "      <td>NaN</td>\n",
       "      <td>1</td>\n",
       "      <td>365</td>\n",
       "    </tr>\n",
       "    <tr>\n",
       "      <th>3</th>\n",
       "      <td>3831</td>\n",
       "      <td>Cozy Entire Floor of Brownstone</td>\n",
       "      <td>4869</td>\n",
       "      <td>LisaRoxanne</td>\n",
       "      <td>Brooklyn</td>\n",
       "      <td>Clinton Hill</td>\n",
       "      <td>40.68514</td>\n",
       "      <td>-73.95976</td>\n",
       "      <td>Entire home/apt</td>\n",
       "      <td>89</td>\n",
       "      <td>1</td>\n",
       "      <td>270</td>\n",
       "      <td>2019-07-05</td>\n",
       "      <td>4.64</td>\n",
       "      <td>1</td>\n",
       "      <td>194</td>\n",
       "    </tr>\n",
       "    <tr>\n",
       "      <th>4</th>\n",
       "      <td>5022</td>\n",
       "      <td>Entire Apt: Spacious Studio/Loft by central park</td>\n",
       "      <td>7192</td>\n",
       "      <td>Laura</td>\n",
       "      <td>Manhattan</td>\n",
       "      <td>East Harlem</td>\n",
       "      <td>40.79851</td>\n",
       "      <td>-73.94399</td>\n",
       "      <td>Entire home/apt</td>\n",
       "      <td>80</td>\n",
       "      <td>10</td>\n",
       "      <td>9</td>\n",
       "      <td>2018-11-19</td>\n",
       "      <td>0.10</td>\n",
       "      <td>1</td>\n",
       "      <td>0</td>\n",
       "    </tr>\n",
       "  </tbody>\n",
       "</table>\n",
       "</div>"
      ],
      "text/plain": [
       "     id                                              name  host_id  \\\n",
       "0  2539                Clean & quiet apt home by the park     2787   \n",
       "1  2595                             Skylit Midtown Castle     2845   \n",
       "2  3647               THE VILLAGE OF HARLEM....NEW YORK !     4632   \n",
       "3  3831                   Cozy Entire Floor of Brownstone     4869   \n",
       "4  5022  Entire Apt: Spacious Studio/Loft by central park     7192   \n",
       "\n",
       "     host_name neighbourhood_group neighbourhood  latitude  longitude  \\\n",
       "0         John            Brooklyn    Kensington  40.64749  -73.97237   \n",
       "1     Jennifer           Manhattan       Midtown  40.75362  -73.98377   \n",
       "2    Elisabeth           Manhattan        Harlem  40.80902  -73.94190   \n",
       "3  LisaRoxanne            Brooklyn  Clinton Hill  40.68514  -73.95976   \n",
       "4        Laura           Manhattan   East Harlem  40.79851  -73.94399   \n",
       "\n",
       "         room_type  price  minimum_nights  number_of_reviews last_review  \\\n",
       "0     Private room    149               1                  9  2018-10-19   \n",
       "1  Entire home/apt    225               1                 45  2019-05-21   \n",
       "2     Private room    150               3                  0         NaN   \n",
       "3  Entire home/apt     89               1                270  2019-07-05   \n",
       "4  Entire home/apt     80              10                  9  2018-11-19   \n",
       "\n",
       "   reviews_per_month  calculated_host_listings_count  availability_365  \n",
       "0               0.21                               6               365  \n",
       "1               0.38                               2               355  \n",
       "2                NaN                               1               365  \n",
       "3               4.64                               1               194  \n",
       "4               0.10                               1                 0  "
      ]
     },
     "execution_count": 10,
     "metadata": {},
     "output_type": "execute_result"
    }
   ],
   "source": [
    "df = pd.read_csv(\"AB_NYC_2019.csv\",header=0, sep=\",\")\n",
    "df.head()"
   ]
  },
  {
   "cell_type": "markdown",
   "id": "2ba1f550",
   "metadata": {},
   "source": [
    "## distribution of prices"
   ]
  },
  {
   "cell_type": "code",
   "execution_count": 24,
   "id": "57be512a",
   "metadata": {},
   "outputs": [
    {
     "data": {
      "image/png": "[encoded data removed]",
      "text/plain": [
       "<Figure size 720x360 with 1 Axes>"
      ]
     },
     "metadata": {
      "needs_background": "light"
     },
     "output_type": "display_data"
    }
   ],
   "source": [
    "plt.figure(figsize=(10, 5))\n",
    "\n",
    "sns.histplot(df[\"price\"], color='red', alpha=1, bins=50)\n",
    "plt.ylabel('Frequency')\n",
    "plt.xlabel('Price')\n",
    "plt.title('Distribution of prices')\n",
    "\n",
    "plt.show()"
   ]
  },
  {
   "cell_type": "code",
   "execution_count": 25,
   "id": "64208793",
   "metadata": {},
   "outputs": [],
   "source": [
    "columns = [\"longitude\", \"latitude\", \"price\", \"minimum_nights\", \"number_of_reviews\", \"reviews_per_month\",\n",
    "          \"calculated_host_listings_count\", \"availability_365\"]"
   ]
  },
  {
   "cell_type": "code",
   "execution_count": 26,
   "id": "0a6b5c69",
   "metadata": {},
   "outputs": [
    {
     "data": {
      "text/html": [
       "<div>\n",
       "<style scoped>\n",
       "    .dataframe tbody tr th:only-of-type {\n",
       "        vertical-align: middle;\n",
       "    }\n",
       "\n",
       "    .dataframe tbody tr th {\n",
       "        vertical-align: top;\n",
       "    }\n",
       "\n",
       "    .dataframe thead th {\n",
       "        text-align: right;\n",
       "    }\n",
       "</style>\n",
       "<table border=\"1\" class=\"dataframe\">\n",
       "  <thead>\n",
       "    <tr style=\"text-align: right;\">\n",
       "      <th></th>\n",
       "      <th>longitude</th>\n",
       "      <th>latitude</th>\n",
       "      <th>price</th>\n",
       "      <th>minimum_nights</th>\n",
       "      <th>number_of_reviews</th>\n",
       "      <th>reviews_per_month</th>\n",
       "      <th>calculated_host_listings_count</th>\n",
       "      <th>availability_365</th>\n",
       "    </tr>\n",
       "  </thead>\n",
       "  <tbody>\n",
       "    <tr>\n",
       "      <th>0</th>\n",
       "      <td>-73.97237</td>\n",
       "      <td>40.64749</td>\n",
       "      <td>149</td>\n",
       "      <td>1</td>\n",
       "      <td>9</td>\n",
       "      <td>0.21</td>\n",
       "      <td>6</td>\n",
       "      <td>365</td>\n",
       "    </tr>\n",
       "    <tr>\n",
       "      <th>1</th>\n",
       "      <td>-73.98377</td>\n",
       "      <td>40.75362</td>\n",
       "      <td>225</td>\n",
       "      <td>1</td>\n",
       "      <td>45</td>\n",
       "      <td>0.38</td>\n",
       "      <td>2</td>\n",
       "      <td>355</td>\n",
       "    </tr>\n",
       "    <tr>\n",
       "      <th>2</th>\n",
       "      <td>-73.94190</td>\n",
       "      <td>40.80902</td>\n",
       "      <td>150</td>\n",
       "      <td>3</td>\n",
       "      <td>0</td>\n",
       "      <td>NaN</td>\n",
       "      <td>1</td>\n",
       "      <td>365</td>\n",
       "    </tr>\n",
       "    <tr>\n",
       "      <th>3</th>\n",
       "      <td>-73.95976</td>\n",
       "      <td>40.68514</td>\n",
       "      <td>89</td>\n",
       "      <td>1</td>\n",
       "      <td>270</td>\n",
       "      <td>4.64</td>\n",
       "      <td>1</td>\n",
       "      <td>194</td>\n",
       "    </tr>\n",
       "    <tr>\n",
       "      <th>4</th>\n",
       "      <td>-73.94399</td>\n",
       "      <td>40.79851</td>\n",
       "      <td>80</td>\n",
       "      <td>10</td>\n",
       "      <td>9</td>\n",
       "      <td>0.10</td>\n",
       "      <td>1</td>\n",
       "      <td>0</td>\n",
       "    </tr>\n",
       "  </tbody>\n",
       "</table>\n",
       "</div>"
      ],
      "text/plain": [
       "   longitude  latitude  price  minimum_nights  number_of_reviews  \\\n",
       "0  -73.97237  40.64749    149               1                  9   \n",
       "1  -73.98377  40.75362    225               1                 45   \n",
       "2  -73.94190  40.80902    150               3                  0   \n",
       "3  -73.95976  40.68514     89               1                270   \n",
       "4  -73.94399  40.79851     80              10                  9   \n",
       "\n",
       "   reviews_per_month  calculated_host_listings_count  availability_365  \n",
       "0               0.21                               6               365  \n",
       "1               0.38                               2               355  \n",
       "2                NaN                               1               365  \n",
       "3               4.64                               1               194  \n",
       "4               0.10                               1                 0  "
      ]
     },
     "execution_count": 26,
     "metadata": {},
     "output_type": "execute_result"
    }
   ],
   "source": [
    "df = df[columns]\n",
    "df.head()"
   ]
  },
  {
   "cell_type": "markdown",
   "id": "e71e1f8f",
   "metadata": {},
   "source": [
    "## Q1 Feature with missing values"
   ]
  },
  {
   "cell_type": "code",
   "execution_count": 85,
   "id": "b8f223eb",
   "metadata": {},
   "outputs": [
    {
     "data": {
      "text/plain": [
       "['reviews_per_month']"
      ]
     },
     "execution_count": 85,
     "metadata": {},
     "output_type": "execute_result"
    }
   ],
   "source": [
    "missings= [k for k,v in dict(df.isnull().sum()).items() if v>0]\n",
    "missings"
   ]
  },
  {
   "cell_type": "markdown",
   "id": "e20dbadb",
   "metadata": {},
   "source": [
    "## Q2 median of `minimum_nights`"
   ]
  },
  {
   "cell_type": "code",
   "execution_count": 47,
   "id": "ef007805",
   "metadata": {},
   "outputs": [
    {
     "data": {
      "text/plain": [
       "3.0"
      ]
     },
     "execution_count": 47,
     "metadata": {},
     "output_type": "execute_result"
    }
   ],
   "source": [
    "df[\"minimum_nights\"].median(axis=0)"
   ]
  },
  {
   "cell_type": "markdown",
   "id": "2b08b552",
   "metadata": {},
   "source": [
    "### splitting the data"
   ]
  },
  {
   "cell_type": "code",
   "execution_count": 54,
   "id": "5fb37463",
   "metadata": {},
   "outputs": [],
   "source": [
    "RANDOM_SEED=42\n",
    "N = df.shape[0]"
   ]
  },
  {
   "cell_type": "code",
   "execution_count": 59,
   "id": "19f92cfe",
   "metadata": {},
   "outputs": [],
   "source": [
    "np.random.seed(RANDOM_SEED)\n",
    "\n",
    "N_TEST = int(0.2 * N)\n",
    "N_VAL = int(0.2 * N)\n",
    "N_TRAIN = N - (N_TEST + N_VAL)\n",
    "assert N_TEST+N_VAL+N_TRAIN == N"
   ]
  },
  {
   "cell_type": "code",
   "execution_count": 64,
   "id": "41079c65",
   "metadata": {},
   "outputs": [
    {
     "data": {
      "text/plain": [
       "0    1.793530\n",
       "1    1.859501\n",
       "2    1.794635\n",
       "3    1.704713\n",
       "4    1.685370\n",
       "Name: price, dtype: float64"
      ]
     },
     "execution_count": 64,
     "metadata": {},
     "output_type": "execute_result"
    }
   ],
   "source": [
    "df[\"price\"] = np.log1p(df[\"price\"])\n",
    "df[\"price\"].head()"
   ]
  },
  {
   "cell_type": "code",
   "execution_count": 66,
   "id": "e47039e8",
   "metadata": {},
   "outputs": [
    {
     "data": {
      "text/html": [
       "<div>\n",
       "<style scoped>\n",
       "    .dataframe tbody tr th:only-of-type {\n",
       "        vertical-align: middle;\n",
       "    }\n",
       "\n",
       "    .dataframe tbody tr th {\n",
       "        vertical-align: top;\n",
       "    }\n",
       "\n",
       "    .dataframe thead th {\n",
       "        text-align: right;\n",
       "    }\n",
       "</style>\n",
       "<table border=\"1\" class=\"dataframe\">\n",
       "  <thead>\n",
       "    <tr style=\"text-align: right;\">\n",
       "      <th></th>\n",
       "      <th>longitude</th>\n",
       "      <th>latitude</th>\n",
       "      <th>price</th>\n",
       "      <th>minimum_nights</th>\n",
       "      <th>number_of_reviews</th>\n",
       "      <th>reviews_per_month</th>\n",
       "      <th>calculated_host_listings_count</th>\n",
       "      <th>availability_365</th>\n",
       "    </tr>\n",
       "  </thead>\n",
       "  <tbody>\n",
       "    <tr>\n",
       "      <th>33684</th>\n",
       "      <td>-73.90795</td>\n",
       "      <td>40.74465</td>\n",
       "      <td>1.545194</td>\n",
       "      <td>30</td>\n",
       "      <td>0</td>\n",
       "      <td>NaN</td>\n",
       "      <td>103</td>\n",
       "      <td>0</td>\n",
       "    </tr>\n",
       "    <tr>\n",
       "      <th>18067</th>\n",
       "      <td>-73.85219</td>\n",
       "      <td>40.75134</td>\n",
       "      <td>1.683065</td>\n",
       "      <td>2</td>\n",
       "      <td>83</td>\n",
       "      <td>2.32</td>\n",
       "      <td>6</td>\n",
       "      <td>320</td>\n",
       "    </tr>\n",
       "    <tr>\n",
       "      <th>33335</th>\n",
       "      <td>-73.94709</td>\n",
       "      <td>40.78351</td>\n",
       "      <td>1.673489</td>\n",
       "      <td>1</td>\n",
       "      <td>6</td>\n",
       "      <td>0.66</td>\n",
       "      <td>1</td>\n",
       "      <td>0</td>\n",
       "    </tr>\n",
       "    <tr>\n",
       "      <th>15553</th>\n",
       "      <td>-73.94405</td>\n",
       "      <td>40.72191</td>\n",
       "      <td>1.631370</td>\n",
       "      <td>1</td>\n",
       "      <td>2</td>\n",
       "      <td>0.05</td>\n",
       "      <td>1</td>\n",
       "      <td>0</td>\n",
       "    </tr>\n",
       "    <tr>\n",
       "      <th>28914</th>\n",
       "      <td>-73.93262</td>\n",
       "      <td>40.69049</td>\n",
       "      <td>1.646667</td>\n",
       "      <td>2</td>\n",
       "      <td>23</td>\n",
       "      <td>1.25</td>\n",
       "      <td>4</td>\n",
       "      <td>319</td>\n",
       "    </tr>\n",
       "  </tbody>\n",
       "</table>\n",
       "</div>"
      ],
      "text/plain": [
       "       longitude  latitude     price  minimum_nights  number_of_reviews  \\\n",
       "33684  -73.90795  40.74465  1.545194              30                  0   \n",
       "18067  -73.85219  40.75134  1.683065               2                 83   \n",
       "33335  -73.94709  40.78351  1.673489               1                  6   \n",
       "15553  -73.94405  40.72191  1.631370               1                  2   \n",
       "28914  -73.93262  40.69049  1.646667               2                 23   \n",
       "\n",
       "       reviews_per_month  calculated_host_listings_count  availability_365  \n",
       "33684                NaN                             103                 0  \n",
       "18067               2.32                               6               320  \n",
       "33335               0.66                               1                 0  \n",
       "15553               0.05                               1                 0  \n",
       "28914               1.25                               4               319  "
      ]
     },
     "execution_count": 66,
     "metadata": {},
     "output_type": "execute_result"
    }
   ],
   "source": [
    "idx = np.arange(N)\n",
    "np.random.shuffle(idx)\n",
    "df_shfld = df.iloc[idx]\n",
    "df_shfld.head()"
   ]
  },
  {
   "cell_type": "code",
   "execution_count": 128,
   "id": "40bda263",
   "metadata": {},
   "outputs": [
    {
     "data": {
      "text/html": [
       "<div>\n",
       "<style scoped>\n",
       "    .dataframe tbody tr th:only-of-type {\n",
       "        vertical-align: middle;\n",
       "    }\n",
       "\n",
       "    .dataframe tbody tr th {\n",
       "        vertical-align: top;\n",
       "    }\n",
       "\n",
       "    .dataframe thead th {\n",
       "        text-align: right;\n",
       "    }\n",
       "</style>\n",
       "<table border=\"1\" class=\"dataframe\">\n",
       "  <thead>\n",
       "    <tr style=\"text-align: right;\">\n",
       "      <th></th>\n",
       "      <th>longitude</th>\n",
       "      <th>latitude</th>\n",
       "      <th>price</th>\n",
       "      <th>minimum_nights</th>\n",
       "      <th>number_of_reviews</th>\n",
       "      <th>reviews_per_month</th>\n",
       "      <th>calculated_host_listings_count</th>\n",
       "      <th>availability_365</th>\n",
       "    </tr>\n",
       "  </thead>\n",
       "  <tbody>\n",
       "    <tr>\n",
       "      <th>33684</th>\n",
       "      <td>-73.90795</td>\n",
       "      <td>40.74465</td>\n",
       "      <td>1.545194</td>\n",
       "      <td>30</td>\n",
       "      <td>0</td>\n",
       "      <td>NaN</td>\n",
       "      <td>103</td>\n",
       "      <td>0</td>\n",
       "    </tr>\n",
       "    <tr>\n",
       "      <th>18067</th>\n",
       "      <td>-73.85219</td>\n",
       "      <td>40.75134</td>\n",
       "      <td>1.683065</td>\n",
       "      <td>2</td>\n",
       "      <td>83</td>\n",
       "      <td>2.32</td>\n",
       "      <td>6</td>\n",
       "      <td>320</td>\n",
       "    </tr>\n",
       "    <tr>\n",
       "      <th>33335</th>\n",
       "      <td>-73.94709</td>\n",
       "      <td>40.78351</td>\n",
       "      <td>1.673489</td>\n",
       "      <td>1</td>\n",
       "      <td>6</td>\n",
       "      <td>0.66</td>\n",
       "      <td>1</td>\n",
       "      <td>0</td>\n",
       "    </tr>\n",
       "    <tr>\n",
       "      <th>15553</th>\n",
       "      <td>-73.94405</td>\n",
       "      <td>40.72191</td>\n",
       "      <td>1.631370</td>\n",
       "      <td>1</td>\n",
       "      <td>2</td>\n",
       "      <td>0.05</td>\n",
       "      <td>1</td>\n",
       "      <td>0</td>\n",
       "    </tr>\n",
       "    <tr>\n",
       "      <th>28914</th>\n",
       "      <td>-73.93262</td>\n",
       "      <td>40.69049</td>\n",
       "      <td>1.646667</td>\n",
       "      <td>2</td>\n",
       "      <td>23</td>\n",
       "      <td>1.25</td>\n",
       "      <td>4</td>\n",
       "      <td>319</td>\n",
       "    </tr>\n",
       "  </tbody>\n",
       "</table>\n",
       "</div>"
      ],
      "text/plain": [
       "       longitude  latitude     price  minimum_nights  number_of_reviews  \\\n",
       "33684  -73.90795  40.74465  1.545194              30                  0   \n",
       "18067  -73.85219  40.75134  1.683065               2                 83   \n",
       "33335  -73.94709  40.78351  1.673489               1                  6   \n",
       "15553  -73.94405  40.72191  1.631370               1                  2   \n",
       "28914  -73.93262  40.69049  1.646667               2                 23   \n",
       "\n",
       "       reviews_per_month  calculated_host_listings_count  availability_365  \n",
       "33684                NaN                             103                 0  \n",
       "18067               2.32                               6               320  \n",
       "33335               0.66                               1                 0  \n",
       "15553               0.05                               1                 0  \n",
       "28914               1.25                               4               319  "
      ]
     },
     "execution_count": 128,
     "metadata": {},
     "output_type": "execute_result"
    }
   ],
   "source": [
    "df_train = df_shfld.iloc[:N_TRAIN].copy()\n",
    "df_train.head()"
   ]
  },
  {
   "cell_type": "code",
   "execution_count": 129,
   "id": "4ea052a9",
   "metadata": {},
   "outputs": [],
   "source": [
    "df_val = df_shfld.iloc[N_TRAIN:N_TRAIN+N_VAL].copy()\n",
    "df_test = df_shfld.iloc[N_TRAIN+N_VAL:].copy()"
   ]
  },
  {
   "cell_type": "code",
   "execution_count": 130,
   "id": "9172a236",
   "metadata": {},
   "outputs": [
    {
     "data": {
      "text/plain": [
       "(29337, 9779, 9779)"
      ]
     },
     "execution_count": 130,
     "metadata": {},
     "output_type": "execute_result"
    }
   ],
   "source": [
    "len(df_train), len(df_val), len(df_test)"
   ]
  },
  {
   "cell_type": "code",
   "execution_count": 131,
   "id": "2bcaa4bc",
   "metadata": {},
   "outputs": [],
   "source": [
    "y_train = df_train[\"price\"]\n",
    "del df_train[\"price\"]\n",
    "y_test = df_test[\"price\"]\n",
    "del df_test[\"price\"]\n",
    "y_val = df_val[\"price\"]\n",
    "del df_val[\"price\"]"
   ]
  },
  {
   "cell_type": "markdown",
   "id": "7acd5c74",
   "metadata": {},
   "source": [
    "## Q3 Best way to fill NAs"
   ]
  },
  {
   "cell_type": "code",
   "execution_count": 177,
   "id": "32ae5885",
   "metadata": {},
   "outputs": [
    {
     "data": {
      "text/plain": [
       "'reviews_per_month'"
      ]
     },
     "execution_count": 177,
     "metadata": {},
     "output_type": "execute_result"
    }
   ],
   "source": [
    "missings[0]"
   ]
  },
  {
   "cell_type": "code",
   "execution_count": 133,
   "id": "bd9c2c17",
   "metadata": {
    "scrolled": true
   },
   "outputs": [],
   "source": [
    "df_train_na0 = df_train.copy()\n",
    "X_train_na0 = df_train_na0.fillna(0).values\n",
    "df_train_namean = df_train.copy()\n",
    "X_train_namean = df_train_namean.fillna(df_train_namean[\"reviews_per_month\"].mean()).values"
   ]
  },
  {
   "cell_type": "code",
   "execution_count": 147,
   "id": "1400ddff",
   "metadata": {},
   "outputs": [],
   "source": [
    "X_val_na0 = df_val.copy().fillna(0).values\n",
    "X_val_namean = df_val.copy().fillna(df_train_namean[\"reviews_per_month\"].mean()).values"
   ]
  },
  {
   "cell_type": "code",
   "execution_count": 232,
   "id": "88fc491b",
   "metadata": {},
   "outputs": [],
   "source": [
    "def rmse(y, y_pred):\n",
    "    error = y_pred - y\n",
    "    mse = (error ** 2).mean()\n",
    "    return np.sqrt(mse)\n",
    "\n",
    "def train_linear_regression(X, y):\n",
    "    ones = np.ones(X.shape[0])\n",
    "    X = np.column_stack([ones, X])\n",
    "\n",
    "    XTX = X.T.dot(X)\n",
    "    XTX_inv = np.linalg.inv(XTX)\n",
    "    w = XTX_inv.dot(X.T).dot(y)\n",
    "    \n",
    "    return w[0], w[1:]"
   ]
  },
  {
   "cell_type": "code",
   "execution_count": 149,
   "id": "fb6765f9",
   "metadata": {},
   "outputs": [
    {
     "name": "stdout",
     "output_type": "stream",
     "text": [
      "trained w/ na=0: 0.11285601260605871\n"
     ]
    }
   ],
   "source": [
    "w_0_na0, w_na0 = train_linear_regression(X_train_na0, y_train.values)\n",
    "\n",
    "y_pred_na0 = w_0_na0 + X_val_na0.dot(w_na0)\n",
    "\n",
    "rmse_na0 = rmse(y_val.values, y_pred_na0)\n",
    "print(f'trained w/ na=0: {rmse_na0}')\n"
   ]
  },
  {
   "cell_type": "code",
   "execution_count": 150,
   "id": "58ebb7e3",
   "metadata": {
    "scrolled": true
   },
   "outputs": [
    {
     "name": "stdout",
     "output_type": "stream",
     "text": [
      "trained w/ na filled w/ means: 0.11283767377796487\n"
     ]
    }
   ],
   "source": [
    "w0_namean, w_namean = train_linear_regression(X_train_namean, y_train.values)\n",
    "\n",
    "y_namean = w0_namean + X_val_namean.dot(w_namean)\n",
    "\n",
    "rmse_namean = rmse(y_val.values, y_namean)\n",
    "print(f'trained w/ na filled w/ means: {rmse_namean}')\n"
   ]
  },
  {
   "cell_type": "code",
   "execution_count": 151,
   "id": "83edae6f",
   "metadata": {},
   "outputs": [
    {
     "name": "stdout",
     "output_type": "stream",
     "text": [
      "let's see which method for filling missing values is better:\n"
     ]
    },
    {
     "data": {
      "text/plain": [
       "(0.11, 0.11)"
      ]
     },
     "execution_count": 151,
     "metadata": {},
     "output_type": "execute_result"
    }
   ],
   "source": [
    "print(\"let's see which method for filling missing values is better:\")\n",
    "round(rmse_na0,2) , round(rmse_namean,2)"
   ]
  },
  {
   "cell_type": "markdown",
   "id": "73f398be",
   "metadata": {},
   "source": [
    "## Q4 Best regularization parameter r "
   ]
  },
  {
   "cell_type": "code",
   "execution_count": 347,
   "id": "e65901d3",
   "metadata": {},
   "outputs": [],
   "source": [
    "def train_linear_regression_reg(X, y, r=0.0):\n",
    "    ones = np.ones(X.shape[0])\n",
    "    X = np.column_stack([ones, X])\n",
    "\n",
    "    XTX = X.T.dot(X)\n",
    "    reg = r * np.eye(XTX.shape[0])\n",
    "    XTX = XTX + reg\n",
    "\n",
    "    XTX_inv = np.linalg.inv(XTX)\n",
    "    w = XTX_inv.dot(X.T).dot(y)\n",
    "    \n",
    "    return w[0], w[1:]"
   ]
  },
  {
   "cell_type": "code",
   "execution_count": 163,
   "id": "7ba9a28a",
   "metadata": {},
   "outputs": [],
   "source": [
    "X_train = df_train.fillna(0).copy()\n",
    "X_val = df_val.fillna(0).copy()\n",
    "y_train = y_train.values\n",
    "y_val=y_val.values\n",
    "rfl = [0, 0.000001, 0.0001, 0.001, 0.01, 0.1, 1, 5, 10]"
   ]
  },
  {
   "cell_type": "code",
   "execution_count": 169,
   "id": "2d1e4e91",
   "metadata": {},
   "outputs": [],
   "source": [
    "results = dict()\n",
    "for r in rfl:\n",
    "    w0, w = train_linear_regression_reg(X_train, y_train, r)\n",
    "    y_pred = w0 + X_val.dot(w)\n",
    "    _rmse = rmse(y_val, y_pred)\n",
    "    results[r]=_rmse"
   ]
  },
  {
   "cell_type": "code",
   "execution_count": 178,
   "id": "126f2cab",
   "metadata": {},
   "outputs": [
    {
     "name": "stdout",
     "output_type": "stream",
     "text": [
      "r= 0 : RMSE: 0.11285601260605871\n",
      "r= 1e-06 : RMSE: 0.11285609914701861\n",
      "r= 0.0001 : RMSE: 0.11286546346768472\n",
      "r= 0.001 : RMSE: 0.11300740125405336\n",
      "r= 0.01 : RMSE: 0.11517926658669758\n",
      "r= 0.1 : RMSE: 0.11902183396356932\n",
      "r= 1 : RMSE: 0.11991019704882605\n",
      "r= 5 : RMSE: 0.12000226592562595\n",
      "r= 10 : RMSE: 0.12001870830706979\n",
      "--------------\n",
      "Best performing R: 0 and its RMSE: 0.11285601260605871\n"
     ]
    }
   ],
   "source": [
    "opt_r = [1000,None]\n",
    "for k,v in results.items():\n",
    "    #v= round(v,2)\n",
    "    print(f\"r= {k} : RMSE: {v}\")\n",
    "    if opt_r[0] > v:\n",
    "        opt_r[0] = v\n",
    "        opt_r[1] = k\n",
    "\n",
    "print(f\"--------------\\nBest performing R: {opt_r[1]} and its RMSE: {opt_r[0]}\")\n",
    "    "
   ]
  },
  {
   "cell_type": "markdown",
   "id": "26f212dc",
   "metadata": {},
   "source": [
    "#### conclusion : so we found that in this case we don't need regularization :)"
   ]
  },
  {
   "cell_type": "markdown",
   "id": "d015920c",
   "metadata": {},
   "source": [
    "## Q5 STD of RMSE scores for different seeds "
   ]
  },
  {
   "cell_type": "code",
   "execution_count": null,
   "id": "b957b591",
   "metadata": {},
   "outputs": [],
   "source": [
    "\"\"\"\n",
    "    We used seed 42 for splitting the data. Let's find out how selecting the seed influences our score.\n",
    "    Try different seed values: [0, 1, 2, 3, 4, 5, 6, 7, 8, 9].\n",
    "    For each seed, do the train/validation/test split with 60%/20%/20% distribution.\n",
    "    Fill the missing values with 0 and train a model without regularization.\n",
    "    For each seed, evaluate the model on the validation dataset and collect the RMSE scores.\n",
    "    What's the standard deviation of all the scores? To compute the standard deviation, use np.std.\n",
    "    Round the result to 3 decimal digits (round(std, 3))\n",
    "\n",
    "    Note: Standard deviation shows how different the values are. \n",
    "    If it's low, then all values are approximately the same. \n",
    "    If it's high, the values are different. If standard deviation of scores is low, then our model is stable.\n",
    "\"\"\""
   ]
  },
  {
   "cell_type": "code",
   "execution_count": 296,
   "id": "2f79a245",
   "metadata": {},
   "outputs": [],
   "source": [
    "def split_data_by_seed(df, random_seed, train_part=0.6, validation_part=0.2):\n",
    "    _df = df.copy()\n",
    "    N=len(_df)\n",
    "    idx = np.arange(N)\n",
    "    np.random.seed(random_seed)\n",
    "    np.random.shuffle(idx)\n",
    "    _df = _df.iloc[idx]\n",
    "    n_train = int(train_part*N)\n",
    "    n_val = int(validation_part*N)\n",
    "    n_test = N - n_train - n_val\n",
    "    assert N == n_train+n_val+n_test\n",
    "    _df_train = _df.iloc[:n_train].copy()\n",
    "    _df_val = _df.iloc[n_train:n_train+n_val].copy()\n",
    "    _y_train = _df_train[\"price\"].values\n",
    "    _y_val = _df_val[\"price\"].values\n",
    "    del _df_train[\"price\"]\n",
    "    del _df_val[\"price\"]\n",
    "    return _df_train, _y_train , _df_val, _y_val"
   ]
  },
  {
   "cell_type": "code",
   "execution_count": 297,
   "id": "53e0bddd",
   "metadata": {},
   "outputs": [],
   "source": [
    "def run_and_eval_regression(X_t, y_t, X_v, y_v):\n",
    "    w0, w = train_linear_regression(X_t, y_t)\n",
    "    y_pred = w0 + X_v.dot(w)\n",
    "    return rmse(y_v, y_pred)"
   ]
  },
  {
   "cell_type": "code",
   "execution_count": 298,
   "id": "5c19ffd5",
   "metadata": {},
   "outputs": [],
   "source": [
    "SEEDS = [0, 1, 2, 3, 4, 5, 6, 7, 8, 9]\n",
    "dfs = pd.read_csv(\"AB_NYC_2019.csv\",header=0, sep=\",\")\n",
    "dfs = dfs[columns]\n",
    "dfs[\"price\"] = np.log1p(dfs[\"price\"])\n",
    "dfs = dfs.fillna(0)\n"
   ]
  },
  {
   "cell_type": "code",
   "execution_count": 325,
   "id": "38d98f37",
   "metadata": {},
   "outputs": [
    {
     "data": {
      "text/plain": [
       "{0: 0.6549779960755547,\n",
       " 1: 0.6462523685702768,\n",
       " 2: 0.6476558177642316,\n",
       " 3: 0.6375145069795572,\n",
       " 4: 0.6445809083894904,\n",
       " 5: 0.6305809995772125,\n",
       " 6: 0.6297851917050146,\n",
       " 7: 0.6506184266732509,\n",
       " 8: 0.6489780353190494,\n",
       " 9: 0.6437565168397322}"
      ]
     },
     "execution_count": 325,
     "metadata": {},
     "output_type": "execute_result"
    }
   ],
   "source": [
    "results= dict()\n",
    "for seed in SEEDS:\n",
    "    Xtrain, ytrain, Xval,  yval =  split_data_by_seed(dfs, seed)\n",
    "    results[seed] = run_and_eval_regression(Xtrain, ytrain, Xval,  yval)\n",
    "results"
   ]
  },
  {
   "cell_type": "code",
   "execution_count": 326,
   "id": "f926f814",
   "metadata": {},
   "outputs": [
    {
     "data": {
      "text/plain": [
       "0.008"
      ]
     },
     "execution_count": 326,
     "metadata": {},
     "output_type": "execute_result"
    }
   ],
   "source": [
    "round(np.std([v for v in results.values()]),3)"
   ]
  },
  {
   "cell_type": "markdown",
   "id": "9fafa53c",
   "metadata": {},
   "source": [
    "## Q6 RMSE on test "
   ]
  },
  {
   "cell_type": "code",
   "execution_count": null,
   "id": "5fcc6405",
   "metadata": {},
   "outputs": [],
   "source": [
    "\"\"\"\n",
    "    Split the dataset like previously, use seed 9.\n",
    "    Combine train and validation datasets.\n",
    "    Fill the missing values with 0 and train a model with r=0.001.\n",
    "    What's the RMSE on the test dataset?\n",
    "\"\"\""
   ]
  },
  {
   "cell_type": "code",
   "execution_count": 370,
   "id": "1757014c",
   "metadata": {},
   "outputs": [],
   "source": [
    "df6 = pd.read_csv(\"AB_NYC_2019.csv\",header=0, sep=\",\")\n",
    "df6 = dfs[columns]\n",
    "df6[\"price\"] = np.log1p(df6[\"price\"])\n",
    "df6 = df6.fillna(0)"
   ]
  },
  {
   "cell_type": "code",
   "execution_count": 369,
   "id": "55d733f4",
   "metadata": {},
   "outputs": [],
   "source": [
    "n6 = len(df6)\n",
    "idx6 = np.arange(n6)\n",
    "np.random.seed(9)\n",
    "np.random.shuffle(idx6)\n",
    "df6sh=df6.iloc[idx6]"
   ]
  },
  {
   "cell_type": "code",
   "execution_count": 361,
   "id": "6f645ce8",
   "metadata": {},
   "outputs": [],
   "source": [
    "n_train = int(0.8*n6)\n",
    "n_test = int(0.2*n6)\n",
    "assert n6 == n_train+n_test\n",
    "\n",
    "df6_train = df6sh.iloc[:n_train].copy()\n",
    "df6_test = df6sh.iloc[n_train:].copy()\n",
    "y6_train = df6_train[\"price\"].values\n",
    "y6_test = df6_test[\"price\"].values\n",
    "del df6_train[\"price\"]\n",
    "del df6_test[\"price\"]\n"
   ]
  },
  {
   "cell_type": "code",
   "execution_count": 365,
   "id": "d36b477e",
   "metadata": {},
   "outputs": [
    {
     "data": {
      "text/plain": [
       "0.11066689867758164"
      ]
     },
     "execution_count": 365,
     "metadata": {},
     "output_type": "execute_result"
    }
   ],
   "source": [
    "w0 , w = train_linear_regression_reg(df6_train, y6_train, r=0.001)\n",
    "\n",
    "y_pred = w0 + df6_test.dot(w)\n",
    "\n",
    "rmse6 = rmse(y_pred,y6_test)\n",
    "rmse6"
   ]
  }
 ],
 "metadata": {
  "kernelspec": {
   "display_name": "Python 3 (ipykernel)",
   "language": "python",
   "name": "python3"
  },
  "language_info": {
   "codemirror_mode": {
    "name": "ipython",
    "version": 3
   },
   "file_extension": ".py",
   "mimetype": "text/x-python",
   "name": "python",
   "nbconvert_exporter": "python",
   "pygments_lexer": "ipython3",
   "version": "3.9.7"
  }
 },
 "nbformat": 4,
 "nbformat_minor": 5
}
