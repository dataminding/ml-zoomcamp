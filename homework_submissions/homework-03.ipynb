{
 "cells": [
  {
   "cell_type": "code",
   "execution_count": 29,
   "id": "ce6e8b98",
   "metadata": {},
   "outputs": [],
   "source": [
    "import pandas as pd\n",
    "from sklearn.linear_model import LogisticRegression\n",
    "from sklearn.model_selection import train_test_split"
   ]
  },
  {
   "cell_type": "code",
   "execution_count": 3,
   "id": "59b372f0",
   "metadata": {},
   "outputs": [
    {
     "name": "stdout",
     "output_type": "stream",
     "text": [
      "  % Total    % Received % Xferd  Average Speed   Time    Time     Time  Current\n",
      "                                 Dload  Upload   Total   Spent    Left  Speed\n",
      "100 6912k  100 6912k    0     0  3657k      0  0:00:01  0:00:01 --:--:-- 3655k\n"
     ]
    }
   ],
   "source": [
    "! curl https://raw.githubusercontent.com/alexeygrigorev/datasets/master/AB_NYC_2019.csv --output AB_NYC_2019.csv"
   ]
  },
  {
   "cell_type": "code",
   "execution_count": 69,
   "id": "738ed88f",
   "metadata": {},
   "outputs": [],
   "source": [
    "df_raw = pd.read_csv(\"AB_NYC_2019.csv\", header=0) "
   ]
  },
  {
   "cell_type": "code",
   "execution_count": 163,
   "id": "6bcba30a",
   "metadata": {},
   "outputs": [],
   "source": [
    "num_features = [\"longitude\", \"latitude\", \n",
    "             \"minimum_nights\", \"number_of_reviews\", \"reviews_per_month\",\n",
    "          \"calculated_host_listings_count\", \"availability_365\"]\n",
    "cat_features = [\"neighbourhood_group\",\"room_type\", ]\n",
    "features = cat_features+num_features\n",
    "all_cols = features+[\"price\"]"
   ]
  },
  {
   "cell_type": "code",
   "execution_count": 164,
   "id": "be3ac808",
   "metadata": {},
   "outputs": [],
   "source": [
    "df_base = df_raw[all_cols].fillna(0)"
   ]
  },
  {
   "cell_type": "markdown",
   "id": "3250ab3d",
   "metadata": {},
   "source": [
    "### Q1 What is the most frequent observation (mode) for the column 'neighbourhood_group'?"
   ]
  },
  {
   "cell_type": "code",
   "execution_count": 72,
   "id": "e4de586b",
   "metadata": {},
   "outputs": [
    {
     "data": {
      "text/plain": [
       "Manhattan        0.443011\n",
       "Brooklyn         0.411167\n",
       "Queens           0.115881\n",
       "Bronx            0.022313\n",
       "Staten Island    0.007629\n",
       "Name: neighbourhood_group, dtype: float64"
      ]
     },
     "execution_count": 72,
     "metadata": {},
     "output_type": "execute_result"
    }
   ],
   "source": [
    "df_base.neighbourhood_group.value_counts(normalize=True)"
   ]
  },
  {
   "cell_type": "markdown",
   "id": "01c0c761",
   "metadata": {},
   "source": [
    "#### building the validation framework"
   ]
  },
  {
   "cell_type": "code",
   "execution_count": 78,
   "id": "c0d95d1e",
   "metadata": {},
   "outputs": [],
   "source": [
    "RANDOM_SEED=42"
   ]
  },
  {
   "cell_type": "code",
   "execution_count": 147,
   "id": "bd3346de",
   "metadata": {},
   "outputs": [],
   "source": [
    "train_validation_df, test_df  = train_test_split(df_base, test_size=0.2, train_size=0.8, random_state=RANDOM_SEED)"
   ]
  },
  {
   "cell_type": "code",
   "execution_count": 74,
   "id": "c8626d3e",
   "metadata": {},
   "outputs": [
    {
     "data": {
      "text/plain": [
       "(39116, 9779)"
      ]
     },
     "execution_count": 74,
     "metadata": {},
     "output_type": "execute_result"
    }
   ],
   "source": [
    "len(train_validation_df), len(test_df)"
   ]
  },
  {
   "cell_type": "code",
   "execution_count": 148,
   "id": "defd1382",
   "metadata": {},
   "outputs": [],
   "source": [
    "test_df.reset_index(drop=True) \n",
    "y_test = test_df[\"price\"]\n",
    "del test_df[\"price\"]\n",
    "X_test = test_df"
   ]
  },
  {
   "cell_type": "code",
   "execution_count": 149,
   "id": "899f60b1",
   "metadata": {},
   "outputs": [],
   "source": [
    "train_df, validation_df = train_test_split(train_validation_df, \n",
    "                                           test_size=0.25, \n",
    "                                           train_size=0.75, \n",
    "                                           random_state=RANDOM_SEED)"
   ]
  },
  {
   "cell_type": "code",
   "execution_count": 150,
   "id": "ef28998b",
   "metadata": {},
   "outputs": [],
   "source": [
    "train_df.reset_index(drop=True)\n",
    "y_train = train_df[\"price\"]\n",
    "del train_df[\"price\"]\n",
    "X_train = train_df\n",
    "\n",
    "validation_df.reset_index(drop=True)\n",
    "y_val = validation_df[\"price\"]\n",
    "del validation_df[\"price\"]\n",
    "X_val = validation_df"
   ]
  },
  {
   "cell_type": "code",
   "execution_count": 83,
   "id": "d6e73718",
   "metadata": {},
   "outputs": [
    {
     "data": {
      "text/plain": [
       "(48895, 48895)"
      ]
     },
     "execution_count": 83,
     "metadata": {},
     "output_type": "execute_result"
    }
   ],
   "source": [
    "len(df_base) , len(X_test)+ len(X_train)+ len(X_val)"
   ]
  },
  {
   "cell_type": "markdown",
   "id": "30565746",
   "metadata": {},
   "source": [
    "### Q2 correlation matrix of numerical variables"
   ]
  },
  {
   "cell_type": "code",
   "execution_count": 100,
   "id": "d52eda0a",
   "metadata": {},
   "outputs": [
    {
     "data": {
      "text/html": [
       "<div>\n",
       "<style scoped>\n",
       "    .dataframe tbody tr th:only-of-type {\n",
       "        vertical-align: middle;\n",
       "    }\n",
       "\n",
       "    .dataframe tbody tr th {\n",
       "        vertical-align: top;\n",
       "    }\n",
       "\n",
       "    .dataframe thead th {\n",
       "        text-align: right;\n",
       "    }\n",
       "</style>\n",
       "<table border=\"1\" class=\"dataframe\">\n",
       "  <thead>\n",
       "    <tr style=\"text-align: right;\">\n",
       "      <th></th>\n",
       "      <th>longitude</th>\n",
       "      <th>latitude</th>\n",
       "      <th>price</th>\n",
       "      <th>minimum_nights</th>\n",
       "      <th>number_of_reviews</th>\n",
       "      <th>reviews_per_month</th>\n",
       "      <th>calculated_host_listings_count</th>\n",
       "      <th>availability_365</th>\n",
       "    </tr>\n",
       "  </thead>\n",
       "  <tbody>\n",
       "    <tr>\n",
       "      <th>longitude</th>\n",
       "      <td>1.000000</td>\n",
       "      <td>0.080301</td>\n",
       "      <td>0.146318</td>\n",
       "      <td>0.060660</td>\n",
       "      <td>0.055084</td>\n",
       "      <td>0.134642</td>\n",
       "      <td>0.117041</td>\n",
       "      <td>0.083666</td>\n",
       "    </tr>\n",
       "    <tr>\n",
       "      <th>latitude</th>\n",
       "      <td>0.080301</td>\n",
       "      <td>1.000000</td>\n",
       "      <td>0.035428</td>\n",
       "      <td>0.027441</td>\n",
       "      <td>0.006246</td>\n",
       "      <td>0.007159</td>\n",
       "      <td>0.019375</td>\n",
       "      <td>0.005891</td>\n",
       "    </tr>\n",
       "    <tr>\n",
       "      <th>price</th>\n",
       "      <td>0.146318</td>\n",
       "      <td>0.035428</td>\n",
       "      <td>1.000000</td>\n",
       "      <td>0.046668</td>\n",
       "      <td>0.048225</td>\n",
       "      <td>0.052908</td>\n",
       "      <td>0.053746</td>\n",
       "      <td>0.080121</td>\n",
       "    </tr>\n",
       "    <tr>\n",
       "      <th>minimum_nights</th>\n",
       "      <td>0.060660</td>\n",
       "      <td>0.027441</td>\n",
       "      <td>0.046668</td>\n",
       "      <td>1.000000</td>\n",
       "      <td>0.076020</td>\n",
       "      <td>0.120703</td>\n",
       "      <td>0.118647</td>\n",
       "      <td>0.138901</td>\n",
       "    </tr>\n",
       "    <tr>\n",
       "      <th>number_of_reviews</th>\n",
       "      <td>0.055084</td>\n",
       "      <td>0.006246</td>\n",
       "      <td>0.048225</td>\n",
       "      <td>0.076020</td>\n",
       "      <td>1.000000</td>\n",
       "      <td>0.590374</td>\n",
       "      <td>0.073167</td>\n",
       "      <td>0.174477</td>\n",
       "    </tr>\n",
       "    <tr>\n",
       "      <th>reviews_per_month</th>\n",
       "      <td>0.134642</td>\n",
       "      <td>0.007159</td>\n",
       "      <td>0.052908</td>\n",
       "      <td>0.120703</td>\n",
       "      <td>0.590374</td>\n",
       "      <td>1.000000</td>\n",
       "      <td>0.048767</td>\n",
       "      <td>0.165376</td>\n",
       "    </tr>\n",
       "    <tr>\n",
       "      <th>calculated_host_listings_count</th>\n",
       "      <td>0.117041</td>\n",
       "      <td>0.019375</td>\n",
       "      <td>0.053746</td>\n",
       "      <td>0.118647</td>\n",
       "      <td>0.073167</td>\n",
       "      <td>0.048767</td>\n",
       "      <td>1.000000</td>\n",
       "      <td>0.225913</td>\n",
       "    </tr>\n",
       "    <tr>\n",
       "      <th>availability_365</th>\n",
       "      <td>0.083666</td>\n",
       "      <td>0.005891</td>\n",
       "      <td>0.080121</td>\n",
       "      <td>0.138901</td>\n",
       "      <td>0.174477</td>\n",
       "      <td>0.165376</td>\n",
       "      <td>0.225913</td>\n",
       "      <td>1.000000</td>\n",
       "    </tr>\n",
       "  </tbody>\n",
       "</table>\n",
       "</div>"
      ],
      "text/plain": [
       "                                longitude  latitude     price  minimum_nights  \\\n",
       "longitude                        1.000000  0.080301  0.146318        0.060660   \n",
       "latitude                         0.080301  1.000000  0.035428        0.027441   \n",
       "price                            0.146318  0.035428  1.000000        0.046668   \n",
       "minimum_nights                   0.060660  0.027441  0.046668        1.000000   \n",
       "number_of_reviews                0.055084  0.006246  0.048225        0.076020   \n",
       "reviews_per_month                0.134642  0.007159  0.052908        0.120703   \n",
       "calculated_host_listings_count   0.117041  0.019375  0.053746        0.118647   \n",
       "availability_365                 0.083666  0.005891  0.080121        0.138901   \n",
       "\n",
       "                                number_of_reviews  reviews_per_month  \\\n",
       "longitude                                0.055084           0.134642   \n",
       "latitude                                 0.006246           0.007159   \n",
       "price                                    0.048225           0.052908   \n",
       "minimum_nights                           0.076020           0.120703   \n",
       "number_of_reviews                        1.000000           0.590374   \n",
       "reviews_per_month                        0.590374           1.000000   \n",
       "calculated_host_listings_count           0.073167           0.048767   \n",
       "availability_365                         0.174477           0.165376   \n",
       "\n",
       "                                calculated_host_listings_count  \\\n",
       "longitude                                             0.117041   \n",
       "latitude                                              0.019375   \n",
       "price                                                 0.053746   \n",
       "minimum_nights                                        0.118647   \n",
       "number_of_reviews                                     0.073167   \n",
       "reviews_per_month                                     0.048767   \n",
       "calculated_host_listings_count                        1.000000   \n",
       "availability_365                                      0.225913   \n",
       "\n",
       "                                availability_365  \n",
       "longitude                               0.083666  \n",
       "latitude                                0.005891  \n",
       "price                                   0.080121  \n",
       "minimum_nights                          0.138901  \n",
       "number_of_reviews                       0.174477  \n",
       "reviews_per_month                       0.165376  \n",
       "calculated_host_listings_count          0.225913  \n",
       "availability_365                        1.000000  "
      ]
     },
     "execution_count": 100,
     "metadata": {},
     "output_type": "execute_result"
    }
   ],
   "source": [
    "# using absolute value of the correlation\n",
    "corrM = pd.concat([X_train, y_train] ,axis=1)[num_features].corr(method=\"pearson\").abs()\n",
    "corrM"
   ]
  },
  {
   "cell_type": "code",
   "execution_count": 101,
   "id": "2597826d",
   "metadata": {},
   "outputs": [
    {
     "data": {
      "image/png": "[encoded data removed]",
      "text/plain": [
       "<Figure size 1152x576 with 2 Axes>"
      ]
     },
     "metadata": {
      "needs_background": "light"
     },
     "output_type": "display_data"
    }
   ],
   "source": [
    "import seaborn as sn\n",
    "import matplotlib.pyplot as plt\n",
    "plt.figure(figsize = (16,8))\n",
    "sn.heatmap(corrM, annot=True)\n",
    "plt.show()"
   ]
  },
  {
   "cell_type": "code",
   "execution_count": 115,
   "id": "36fe243e",
   "metadata": {},
   "outputs": [],
   "source": [
    "df_corrm = corrM.unstack().drop_duplicates().sort_values(ascending=False).to_frame(name=\"corr\")"
   ]
  },
  {
   "cell_type": "code",
   "execution_count": 118,
   "id": "7b166b9f",
   "metadata": {},
   "outputs": [
    {
     "data": {
      "text/plain": [
       "corr    0.590374\n",
       "dtype: float64"
      ]
     },
     "execution_count": 118,
     "metadata": {},
     "output_type": "execute_result"
    }
   ],
   "source": [
    "df_corrm[df_corrm[\"corr\"] <1].max()"
   ]
  },
  {
   "cell_type": "markdown",
   "id": "5a30f432",
   "metadata": {},
   "source": [
    "### Q3 mutual information"
   ]
  },
  {
   "cell_type": "code",
   "execution_count": 121,
   "id": "d905bda7",
   "metadata": {},
   "outputs": [],
   "source": [
    "import numpy as np\n",
    "from sklearn.metrics import mutual_info_score"
   ]
  },
  {
   "cell_type": "code",
   "execution_count": 127,
   "id": "202169ae",
   "metadata": {},
   "outputs": [
    {
     "data": {
      "text/html": [
       "<div>\n",
       "<style scoped>\n",
       "    .dataframe tbody tr th:only-of-type {\n",
       "        vertical-align: middle;\n",
       "    }\n",
       "\n",
       "    .dataframe tbody tr th {\n",
       "        vertical-align: top;\n",
       "    }\n",
       "\n",
       "    .dataframe thead th {\n",
       "        text-align: right;\n",
       "    }\n",
       "</style>\n",
       "<table border=\"1\" class=\"dataframe\">\n",
       "  <thead>\n",
       "    <tr style=\"text-align: right;\">\n",
       "      <th></th>\n",
       "      <th>neighbourhood_group</th>\n",
       "      <th>room_type</th>\n",
       "      <th>longitude</th>\n",
       "      <th>latitude</th>\n",
       "      <th>minimum_nights</th>\n",
       "      <th>number_of_reviews</th>\n",
       "      <th>reviews_per_month</th>\n",
       "      <th>calculated_host_listings_count</th>\n",
       "      <th>availability_365</th>\n",
       "      <th>price</th>\n",
       "      <th>above_average</th>\n",
       "    </tr>\n",
       "  </thead>\n",
       "  <tbody>\n",
       "    <tr>\n",
       "      <th>13575</th>\n",
       "      <td>Brooklyn</td>\n",
       "      <td>Entire home/apt</td>\n",
       "      <td>-73.94495</td>\n",
       "      <td>40.72760</td>\n",
       "      <td>3</td>\n",
       "      <td>29</td>\n",
       "      <td>0.70</td>\n",
       "      <td>13</td>\n",
       "      <td>50</td>\n",
       "      <td>99</td>\n",
       "      <td>0</td>\n",
       "    </tr>\n",
       "    <tr>\n",
       "      <th>48476</th>\n",
       "      <td>Manhattan</td>\n",
       "      <td>Private room</td>\n",
       "      <td>-74.00498</td>\n",
       "      <td>40.70847</td>\n",
       "      <td>1</td>\n",
       "      <td>0</td>\n",
       "      <td>0.00</td>\n",
       "      <td>1</td>\n",
       "      <td>7</td>\n",
       "      <td>57</td>\n",
       "      <td>0</td>\n",
       "    </tr>\n",
       "    <tr>\n",
       "      <th>44499</th>\n",
       "      <td>Bronx</td>\n",
       "      <td>Entire home/apt</td>\n",
       "      <td>-73.92766</td>\n",
       "      <td>40.83149</td>\n",
       "      <td>40</td>\n",
       "      <td>0</td>\n",
       "      <td>0.00</td>\n",
       "      <td>1</td>\n",
       "      <td>0</td>\n",
       "      <td>70</td>\n",
       "      <td>0</td>\n",
       "    </tr>\n",
       "    <tr>\n",
       "      <th>17382</th>\n",
       "      <td>Brooklyn</td>\n",
       "      <td>Entire home/apt</td>\n",
       "      <td>-73.99407</td>\n",
       "      <td>40.66448</td>\n",
       "      <td>2</td>\n",
       "      <td>3</td>\n",
       "      <td>0.08</td>\n",
       "      <td>1</td>\n",
       "      <td>0</td>\n",
       "      <td>130</td>\n",
       "      <td>0</td>\n",
       "    </tr>\n",
       "    <tr>\n",
       "      <th>14638</th>\n",
       "      <td>Manhattan</td>\n",
       "      <td>Private room</td>\n",
       "      <td>-74.00012</td>\n",
       "      <td>40.74118</td>\n",
       "      <td>1</td>\n",
       "      <td>48</td>\n",
       "      <td>1.80</td>\n",
       "      <td>2</td>\n",
       "      <td>67</td>\n",
       "      <td>110</td>\n",
       "      <td>0</td>\n",
       "    </tr>\n",
       "    <tr>\n",
       "      <th>42752</th>\n",
       "      <td>Manhattan</td>\n",
       "      <td>Entire home/apt</td>\n",
       "      <td>-73.99633</td>\n",
       "      <td>40.75183</td>\n",
       "      <td>30</td>\n",
       "      <td>0</td>\n",
       "      <td>0.00</td>\n",
       "      <td>1</td>\n",
       "      <td>167</td>\n",
       "      <td>140</td>\n",
       "      <td>0</td>\n",
       "    </tr>\n",
       "    <tr>\n",
       "      <th>35909</th>\n",
       "      <td>Brooklyn</td>\n",
       "      <td>Private room</td>\n",
       "      <td>-73.91394</td>\n",
       "      <td>40.69855</td>\n",
       "      <td>3</td>\n",
       "      <td>2</td>\n",
       "      <td>0.31</td>\n",
       "      <td>1</td>\n",
       "      <td>365</td>\n",
       "      <td>63</td>\n",
       "      <td>0</td>\n",
       "    </tr>\n",
       "    <tr>\n",
       "      <th>42678</th>\n",
       "      <td>Manhattan</td>\n",
       "      <td>Entire home/apt</td>\n",
       "      <td>-73.94718</td>\n",
       "      <td>40.82734</td>\n",
       "      <td>4</td>\n",
       "      <td>3</td>\n",
       "      <td>1.13</td>\n",
       "      <td>1</td>\n",
       "      <td>6</td>\n",
       "      <td>85</td>\n",
       "      <td>0</td>\n",
       "    </tr>\n",
       "    <tr>\n",
       "      <th>31337</th>\n",
       "      <td>Brooklyn</td>\n",
       "      <td>Private room</td>\n",
       "      <td>-73.92069</td>\n",
       "      <td>40.70473</td>\n",
       "      <td>3</td>\n",
       "      <td>33</td>\n",
       "      <td>2.47</td>\n",
       "      <td>1</td>\n",
       "      <td>7</td>\n",
       "      <td>85</td>\n",
       "      <td>0</td>\n",
       "    </tr>\n",
       "    <tr>\n",
       "      <th>44629</th>\n",
       "      <td>Queens</td>\n",
       "      <td>Private room</td>\n",
       "      <td>-73.76511</td>\n",
       "      <td>40.76176</td>\n",
       "      <td>31</td>\n",
       "      <td>0</td>\n",
       "      <td>0.00</td>\n",
       "      <td>1</td>\n",
       "      <td>69</td>\n",
       "      <td>40</td>\n",
       "      <td>0</td>\n",
       "    </tr>\n",
       "  </tbody>\n",
       "</table>\n",
       "</div>"
      ],
      "text/plain": [
       "      neighbourhood_group        room_type  longitude  latitude  \\\n",
       "13575            Brooklyn  Entire home/apt  -73.94495  40.72760   \n",
       "48476           Manhattan     Private room  -74.00498  40.70847   \n",
       "44499               Bronx  Entire home/apt  -73.92766  40.83149   \n",
       "17382            Brooklyn  Entire home/apt  -73.99407  40.66448   \n",
       "14638           Manhattan     Private room  -74.00012  40.74118   \n",
       "42752           Manhattan  Entire home/apt  -73.99633  40.75183   \n",
       "35909            Brooklyn     Private room  -73.91394  40.69855   \n",
       "42678           Manhattan  Entire home/apt  -73.94718  40.82734   \n",
       "31337            Brooklyn     Private room  -73.92069  40.70473   \n",
       "44629              Queens     Private room  -73.76511  40.76176   \n",
       "\n",
       "       minimum_nights  number_of_reviews  reviews_per_month  \\\n",
       "13575               3                 29               0.70   \n",
       "48476               1                  0               0.00   \n",
       "44499              40                  0               0.00   \n",
       "17382               2                  3               0.08   \n",
       "14638               1                 48               1.80   \n",
       "42752              30                  0               0.00   \n",
       "35909               3                  2               0.31   \n",
       "42678               4                  3               1.13   \n",
       "31337               3                 33               2.47   \n",
       "44629              31                  0               0.00   \n",
       "\n",
       "       calculated_host_listings_count  availability_365  price  above_average  \n",
       "13575                              13                50     99              0  \n",
       "48476                               1                 7     57              0  \n",
       "44499                               1                 0     70              0  \n",
       "17382                               1                 0    130              0  \n",
       "14638                               2                67    110              0  \n",
       "42752                               1               167    140              0  \n",
       "35909                               1               365     63              0  \n",
       "42678                               1                 6     85              0  \n",
       "31337                               1                 7     85              0  \n",
       "44629                               1                69     40              0  "
      ]
     },
     "execution_count": 127,
     "metadata": {},
     "output_type": "execute_result"
    }
   ],
   "source": [
    "df_mi = pd.concat([X_train, y_train], axis=1)\n",
    "df_mi[\"above_average\"] = np.where(df_mi[\"price\"] >= 154, 1,0)\n",
    "df_mi.head(10)"
   ]
  },
  {
   "cell_type": "code",
   "execution_count": 129,
   "id": "53fc1947",
   "metadata": {},
   "outputs": [
    {
     "name": "stdout",
     "output_type": "stream",
     "text": [
      "rounded mutual information score neighbourhood_group vs above avg price: 0.05\n",
      "rounded mutual information score room_type vs above avg price: 0.14\n",
      "maximal mutual info score goes to: room_type\n"
     ]
    }
   ],
   "source": [
    "max_mi = [None,0]\n",
    "\n",
    "for feat in cat_features:\n",
    "    _mi = round(mutual_info_score(df_mi[feat], df_mi[\"above_average\"]),2)\n",
    "    print(f\"rounded mutual information score {feat} vs above avg price: {_mi}\")\n",
    "    if _mi > max_mi[1]:\n",
    "        max_mi[0] = feat\n",
    "        max_mi[1] = _mi\n",
    "\n",
    "print(f\"maximal mutual info score goes to: {max_mi[0]}\")\n"
   ]
  },
  {
   "cell_type": "markdown",
   "id": "2d684de2",
   "metadata": {},
   "source": [
    "## Q4"
   ]
  },
  {
   "cell_type": "code",
   "execution_count": 130,
   "id": "c1b5bbf4",
   "metadata": {},
   "outputs": [],
   "source": [
    "from sklearn.feature_extraction import DictVectorizer"
   ]
  },
  {
   "cell_type": "code",
   "execution_count": 183,
   "id": "0eee1df1",
   "metadata": {},
   "outputs": [],
   "source": [
    "y_train = np.where(y_train >= 154, 1,0)\n",
    "y_val = np.where(y_val >= 154, 1,0)"
   ]
  },
  {
   "cell_type": "code",
   "execution_count": 184,
   "id": "1da9fc70",
   "metadata": {},
   "outputs": [],
   "source": [
    "dicts = train_df[features].to_dict(orient=\"records\")\n",
    "dv = DictVectorizer(sparse=False)\n",
    "X_train = dv.fit_transform(dicts)"
   ]
  },
  {
   "cell_type": "code",
   "execution_count": 185,
   "id": "57d215b4",
   "metadata": {},
   "outputs": [],
   "source": [
    "val_dicts = validation_df[features].to_dict(orient=\"records\")\n",
    "X_val = dv.transform(val_dicts)"
   ]
  },
  {
   "cell_type": "code",
   "execution_count": 199,
   "id": "5de6495e",
   "metadata": {},
   "outputs": [],
   "source": [
    "model = LogisticRegression(solver='lbfgs', C=1.0, random_state=RANDOM_SEED)"
   ]
  },
  {
   "cell_type": "code",
   "execution_count": 187,
   "id": "a7c7dd99",
   "metadata": {
    "scrolled": true
   },
   "outputs": [
    {
     "name": "stderr",
     "output_type": "stream",
     "text": [
      "/Users/abarabas/devel/jupyter/venv/lib/python3.9/site-packages/sklearn/linear_model/_logistic.py:814: ConvergenceWarning: lbfgs failed to converge (status=1):\n",
      "STOP: TOTAL NO. of ITERATIONS REACHED LIMIT.\n",
      "\n",
      "Increase the number of iterations (max_iter) or scale the data as shown in:\n",
      "    https://scikit-learn.org/stable/modules/preprocessing.html\n",
      "Please also refer to the documentation for alternative solver options:\n",
      "    https://scikit-learn.org/stable/modules/linear_model.html#logistic-regression\n",
      "  n_iter_i = _check_optimize_result(\n"
     ]
    },
    {
     "data": {
      "text/plain": [
       "LogisticRegression(random_state=42)"
      ]
     },
     "execution_count": 187,
     "metadata": {},
     "output_type": "execute_result"
    }
   ],
   "source": [
    "model.fit(X_train, y_train)"
   ]
  },
  {
   "cell_type": "code",
   "execution_count": 190,
   "id": "5f3816a7",
   "metadata": {},
   "outputs": [],
   "source": [
    "y_pred = model.predict_proba(X_val)[:, 1]"
   ]
  },
  {
   "cell_type": "code",
   "execution_count": 202,
   "id": "de271538",
   "metadata": {},
   "outputs": [
    {
     "data": {
      "text/plain": [
       "0.7854586358523367"
      ]
     },
     "execution_count": 202,
     "metadata": {},
     "output_type": "execute_result"
    }
   ],
   "source": [
    "from sklearn.metrics import accuracy_score\n",
    "accuracy = accuracy_score(y_val, y_pred >= 0.5)\n",
    "accuracy"
   ]
  },
  {
   "cell_type": "markdown",
   "id": "79d9c67c",
   "metadata": {},
   "source": [
    "### Q5 feature elimination"
   ]
  },
  {
   "cell_type": "code",
   "execution_count": 220,
   "id": "f0836cf9",
   "metadata": {},
   "outputs": [],
   "source": [
    "q5_features = {\"neighbourhood_group\", \"room_type\", \"number_of_reviews\", \"reviews_per_month\"}\n",
    "\n",
    "dv = DictVectorizer(sparse=False)\n",
    "model = LogisticRegression(solver='lbfgs', C=1.0, random_state=RANDOM_SEED)\n",
    "model_versions=dict()\n",
    "feature_with_lowest_diff = None\n",
    "lowest_diff = 10000"
   ]
  },
  {
   "cell_type": "code",
   "execution_count": 221,
   "id": "b46da3a2",
   "metadata": {},
   "outputs": [
    {
     "name": "stderr",
     "output_type": "stream",
     "text": [
      "/Users/abarabas/devel/jupyter/venv/lib/python3.9/site-packages/sklearn/linear_model/_logistic.py:814: ConvergenceWarning: lbfgs failed to converge (status=1):\n",
      "STOP: TOTAL NO. of ITERATIONS REACHED LIMIT.\n",
      "\n",
      "Increase the number of iterations (max_iter) or scale the data as shown in:\n",
      "    https://scikit-learn.org/stable/modules/preprocessing.html\n",
      "Please also refer to the documentation for alternative solver options:\n",
      "    https://scikit-learn.org/stable/modules/linear_model.html#logistic-regression\n",
      "  n_iter_i = _check_optimize_result(\n"
     ]
    },
    {
     "name": "stdout",
     "output_type": "stream",
     "text": [
      "removed feature: neighbourhood_group : accuracy: 0.75 difference 0.03\n"
     ]
    },
    {
     "name": "stderr",
     "output_type": "stream",
     "text": [
      "/Users/abarabas/devel/jupyter/venv/lib/python3.9/site-packages/sklearn/linear_model/_logistic.py:814: ConvergenceWarning: lbfgs failed to converge (status=1):\n",
      "STOP: TOTAL NO. of ITERATIONS REACHED LIMIT.\n",
      "\n",
      "Increase the number of iterations (max_iter) or scale the data as shown in:\n",
      "    https://scikit-learn.org/stable/modules/preprocessing.html\n",
      "Please also refer to the documentation for alternative solver options:\n",
      "    https://scikit-learn.org/stable/modules/linear_model.html#logistic-regression\n",
      "  n_iter_i = _check_optimize_result(\n"
     ]
    },
    {
     "name": "stdout",
     "output_type": "stream",
     "text": [
      "removed feature: room_type : accuracy: 0.72 difference 0.06\n"
     ]
    },
    {
     "name": "stderr",
     "output_type": "stream",
     "text": [
      "/Users/abarabas/devel/jupyter/venv/lib/python3.9/site-packages/sklearn/linear_model/_logistic.py:814: ConvergenceWarning: lbfgs failed to converge (status=1):\n",
      "STOP: TOTAL NO. of ITERATIONS REACHED LIMIT.\n",
      "\n",
      "Increase the number of iterations (max_iter) or scale the data as shown in:\n",
      "    https://scikit-learn.org/stable/modules/preprocessing.html\n",
      "Please also refer to the documentation for alternative solver options:\n",
      "    https://scikit-learn.org/stable/modules/linear_model.html#logistic-regression\n",
      "  n_iter_i = _check_optimize_result(\n"
     ]
    },
    {
     "name": "stdout",
     "output_type": "stream",
     "text": [
      "removed feature: longitude : accuracy: 0.79 difference 0.0\n"
     ]
    },
    {
     "name": "stderr",
     "output_type": "stream",
     "text": [
      "/Users/abarabas/devel/jupyter/venv/lib/python3.9/site-packages/sklearn/linear_model/_logistic.py:814: ConvergenceWarning: lbfgs failed to converge (status=1):\n",
      "STOP: TOTAL NO. of ITERATIONS REACHED LIMIT.\n",
      "\n",
      "Increase the number of iterations (max_iter) or scale the data as shown in:\n",
      "    https://scikit-learn.org/stable/modules/preprocessing.html\n",
      "Please also refer to the documentation for alternative solver options:\n",
      "    https://scikit-learn.org/stable/modules/linear_model.html#logistic-regression\n",
      "  n_iter_i = _check_optimize_result(\n"
     ]
    },
    {
     "name": "stdout",
     "output_type": "stream",
     "text": [
      "removed feature: latitude : accuracy: 0.79 difference 0.0\n"
     ]
    },
    {
     "name": "stderr",
     "output_type": "stream",
     "text": [
      "/Users/abarabas/devel/jupyter/venv/lib/python3.9/site-packages/sklearn/linear_model/_logistic.py:814: ConvergenceWarning: lbfgs failed to converge (status=1):\n",
      "STOP: TOTAL NO. of ITERATIONS REACHED LIMIT.\n",
      "\n",
      "Increase the number of iterations (max_iter) or scale the data as shown in:\n",
      "    https://scikit-learn.org/stable/modules/preprocessing.html\n",
      "Please also refer to the documentation for alternative solver options:\n",
      "    https://scikit-learn.org/stable/modules/linear_model.html#logistic-regression\n",
      "  n_iter_i = _check_optimize_result(\n"
     ]
    },
    {
     "name": "stdout",
     "output_type": "stream",
     "text": [
      "removed feature: minimum_nights : accuracy: 0.78 difference 0.0\n"
     ]
    },
    {
     "name": "stderr",
     "output_type": "stream",
     "text": [
      "/Users/abarabas/devel/jupyter/venv/lib/python3.9/site-packages/sklearn/linear_model/_logistic.py:814: ConvergenceWarning: lbfgs failed to converge (status=1):\n",
      "STOP: TOTAL NO. of ITERATIONS REACHED LIMIT.\n",
      "\n",
      "Increase the number of iterations (max_iter) or scale the data as shown in:\n",
      "    https://scikit-learn.org/stable/modules/preprocessing.html\n",
      "Please also refer to the documentation for alternative solver options:\n",
      "    https://scikit-learn.org/stable/modules/linear_model.html#logistic-regression\n",
      "  n_iter_i = _check_optimize_result(\n"
     ]
    },
    {
     "name": "stdout",
     "output_type": "stream",
     "text": [
      "removed feature: number_of_reviews : accuracy: 0.79 difference 0.0\n"
     ]
    },
    {
     "name": "stderr",
     "output_type": "stream",
     "text": [
      "/Users/abarabas/devel/jupyter/venv/lib/python3.9/site-packages/sklearn/linear_model/_logistic.py:814: ConvergenceWarning: lbfgs failed to converge (status=1):\n",
      "STOP: TOTAL NO. of ITERATIONS REACHED LIMIT.\n",
      "\n",
      "Increase the number of iterations (max_iter) or scale the data as shown in:\n",
      "    https://scikit-learn.org/stable/modules/preprocessing.html\n",
      "Please also refer to the documentation for alternative solver options:\n",
      "    https://scikit-learn.org/stable/modules/linear_model.html#logistic-regression\n",
      "  n_iter_i = _check_optimize_result(\n"
     ]
    },
    {
     "name": "stdout",
     "output_type": "stream",
     "text": [
      "removed feature: reviews_per_month : accuracy: 0.79 difference 0.0\n"
     ]
    },
    {
     "name": "stderr",
     "output_type": "stream",
     "text": [
      "/Users/abarabas/devel/jupyter/venv/lib/python3.9/site-packages/sklearn/linear_model/_logistic.py:814: ConvergenceWarning: lbfgs failed to converge (status=1):\n",
      "STOP: TOTAL NO. of ITERATIONS REACHED LIMIT.\n",
      "\n",
      "Increase the number of iterations (max_iter) or scale the data as shown in:\n",
      "    https://scikit-learn.org/stable/modules/preprocessing.html\n",
      "Please also refer to the documentation for alternative solver options:\n",
      "    https://scikit-learn.org/stable/modules/linear_model.html#logistic-regression\n",
      "  n_iter_i = _check_optimize_result(\n"
     ]
    },
    {
     "name": "stdout",
     "output_type": "stream",
     "text": [
      "removed feature: calculated_host_listings_count : accuracy: 0.79 difference 0.0\n",
      "removed feature: availability_365 : accuracy: 0.78 difference 0.0\n"
     ]
    },
    {
     "name": "stderr",
     "output_type": "stream",
     "text": [
      "/Users/abarabas/devel/jupyter/venv/lib/python3.9/site-packages/sklearn/linear_model/_logistic.py:814: ConvergenceWarning: lbfgs failed to converge (status=1):\n",
      "STOP: TOTAL NO. of ITERATIONS REACHED LIMIT.\n",
      "\n",
      "Increase the number of iterations (max_iter) or scale the data as shown in:\n",
      "    https://scikit-learn.org/stable/modules/preprocessing.html\n",
      "Please also refer to the documentation for alternative solver options:\n",
      "    https://scikit-learn.org/stable/modules/linear_model.html#logistic-regression\n",
      "  n_iter_i = _check_optimize_result(\n"
     ]
    }
   ],
   "source": [
    "for removed_feature in features:\n",
    "    \n",
    "    _df_train = train_df.copy()\n",
    "    del _df_train[removed_feature]\n",
    "    tr_dict = _df_train.to_dict(orient=\"records\")\n",
    "    _X_train = dv.fit_transform(tr_dict)\n",
    "    \n",
    "    _df_val = validation_df.copy()\n",
    "    del _df_val[removed_feature]\n",
    "    val_dict = _df_val.to_dict(orient=\"records\")\n",
    "    _X_val = dv.fit_transform(val_dict)\n",
    "    \n",
    "    model.fit(_X_train, y_train)\n",
    "    \n",
    "    _y_pred = model.predict_proba(_X_val)[:,1]\n",
    "    \n",
    "    _acc = accuracy_score(y_val, _y_pred>=0.5)\n",
    "    _diff = abs(accuracy - _acc)\n",
    "    \n",
    "    print(f\"removed feature: {removed_feature} : accuracy: {round(_acc,2)} difference {round(_diff,2)}\")\n",
    "    \n",
    "    if _diff < lowest_diff and removed_feature in q5_features:\n",
    "        lowest_diff = _diff\n",
    "        feature_with_lowest_diff = removed_feature\n",
    "    \n",
    "    model_versions[removed_feature]=_diff\n",
    "    "
   ]
  },
  {
   "cell_type": "code",
   "execution_count": 222,
   "id": "d8857d47",
   "metadata": {},
   "outputs": [
    {
     "data": {
      "text/plain": [
       "('reviews_per_month', 0.0004090397791185474)"
      ]
     },
     "execution_count": 222,
     "metadata": {},
     "output_type": "execute_result"
    }
   ],
   "source": [
    "feature_with_lowest_diff , lowest_diff"
   ]
  },
  {
   "cell_type": "markdown",
   "id": "0fce30b4",
   "metadata": {},
   "source": [
    "## Q6 seeking alpha"
   ]
  },
  {
   "cell_type": "code",
   "execution_count": 234,
   "id": "45963645",
   "metadata": {
    "scrolled": true
   },
   "outputs": [],
   "source": [
    "import numpy as np\n",
    "from sklearn.linear_model import Ridge\n",
    "from sklearn.metrics import mean_squared_error\n",
    "from math import sqrt"
   ]
  },
  {
   "cell_type": "code",
   "execution_count": 275,
   "id": "b7c80ffb",
   "metadata": {},
   "outputs": [],
   "source": [
    "train_df_rl, validation_df_rl = train_test_split(train_validation_df, \n",
    "                                           test_size=0.25, \n",
    "                                           train_size=0.75, \n",
    "                                           random_state=RANDOM_SEED)\n"
   ]
  },
  {
   "cell_type": "code",
   "execution_count": 276,
   "id": "37861e4a",
   "metadata": {},
   "outputs": [],
   "source": [
    "y_train_rl = np.log1p(train_df_rl[\"price\"])\n",
    "X_train_rl = train_df_rl[features]\n",
    "y_val_rl = np.log1p(validation_df_rl[\"price\"])\n",
    "X_val_rl = validation_df_rl[features]\n",
    "alphas = [0, 0.01, 0.1, 1, 10]\n",
    "q6_results=dict()\n",
    "best_alpha, best_rmse = None, 1"
   ]
  },
  {
   "cell_type": "code",
   "execution_count": 277,
   "id": "e6a31953",
   "metadata": {},
   "outputs": [],
   "source": [
    "dv = DictVectorizer(sparse=False)\n",
    "train_dicts = X_train_rl.to_dict(orient=\"records\")\n",
    "X_train_rl = dv.fit_transform(train_dicts)"
   ]
  },
  {
   "cell_type": "code",
   "execution_count": 278,
   "id": "a0290ecf",
   "metadata": {},
   "outputs": [],
   "source": [
    "val_dicts = X_val_rl.to_dict(orient=\"records\")\n",
    "X_val_rl = dv.transform(val_dicts)"
   ]
  },
  {
   "cell_type": "code",
   "execution_count": 279,
   "id": "b7fae293",
   "metadata": {},
   "outputs": [
    {
     "name": "stdout",
     "output_type": "stream",
     "text": [
      "alpha : 0 , RMSE: 0.497\n",
      "alpha : 0.01 , RMSE: 0.497\n",
      "alpha : 0.1 , RMSE: 0.497\n",
      "alpha : 1 , RMSE: 0.497\n",
      "alpha : 10 , RMSE: 0.498\n"
     ]
    }
   ],
   "source": [
    "for alph in alphas:\n",
    "    lrmodel = Ridge(alpha=alph)\n",
    "    lrmodel.fit(X_train_rl, y_train_rl)\n",
    "    _y_pred = lrmodel.predict(X_val_rl)\n",
    "    _rmse = round(sqrt(mean_squared_error(y_val_rl, _y_pred)),3)\n",
    "    print(f\"alpha : {alph} , RMSE: {_rmse}\")\n",
    "    if _rmse < best_rmse or (_rmse == best_rmse and alph < best_alpha):\n",
    "        best_alpha, best_rmse = alph, _rmse"
   ]
  },
  {
   "cell_type": "code",
   "execution_count": 280,
   "id": "69647c3d",
   "metadata": {},
   "outputs": [
    {
     "data": {
      "text/plain": [
       "(0, 0.497)"
      ]
     },
     "execution_count": 280,
     "metadata": {},
     "output_type": "execute_result"
    }
   ],
   "source": [
    "best_alpha, round(best_rmse,3)"
   ]
  }
 ],
 "metadata": {
  "kernelspec": {
   "display_name": "Python 3 (ipykernel)",
   "language": "python",
   "name": "python3"
  },
  "language_info": {
   "codemirror_mode": {
    "name": "ipython",
    "version": 3
   },
   "file_extension": ".py",
   "mimetype": "text/x-python",
   "name": "python",
   "nbconvert_exporter": "python",
   "pygments_lexer": "ipython3",
   "version": "3.9.7"
  }
 },
 "nbformat": 4,
 "nbformat_minor": 5
}
