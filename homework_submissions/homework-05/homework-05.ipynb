{
 "cells": [
  {
   "cell_type": "markdown",
   "id": "78ab1f2a",
   "metadata": {},
   "source": [
    "## Q3 loading and using pickled model"
   ]
  },
  {
   "cell_type": "code",
   "execution_count": null,
   "id": "6050a29f",
   "metadata": {},
   "outputs": [],
   "source": [
    "from sklearn.linear_model import LogisticRegression\n",
    "import pickle"
   ]
  },
  {
   "cell_type": "code",
   "execution_count": 6,
   "id": "931492a4",
   "metadata": {},
   "outputs": [],
   "source": [
    "BASE_PATH = \"mlbookcamp-code/course-zoomcamp/05-deployment/homework\"\n",
    "with open(f\"{BASE_PATH}/dv.bin\",\"rb\") as dvf:\n",
    "    dv = pickle.load(dvf)"
   ]
  },
  {
   "cell_type": "code",
   "execution_count": 9,
   "id": "f4645ea9",
   "metadata": {
    "scrolled": true
   },
   "outputs": [
    {
     "data": {
      "text/plain": [
       "LogisticRegression()"
      ]
     },
     "execution_count": 9,
     "metadata": {},
     "output_type": "execute_result"
    }
   ],
   "source": [
    "with open(f\"{BASE_PATH}/model1.bin\", \"rb\") as modf:\n",
    "    model = pickle.load(modf)"
   ]
  },
  {
   "cell_type": "code",
   "execution_count": 10,
   "id": "9238007c",
   "metadata": {},
   "outputs": [],
   "source": [
    "customer = {\"contract\": \"two_year\", \"tenure\": 12, \"monthlycharges\": 19.7}\n",
    "X = dv.transform(customer)"
   ]
  },
  {
   "cell_type": "code",
   "execution_count": 12,
   "id": "9417877c",
   "metadata": {},
   "outputs": [],
   "source": [
    "y_pred = model.predict_proba(X)"
   ]
  },
  {
   "cell_type": "code",
   "execution_count": 16,
   "id": "c2198467",
   "metadata": {
    "scrolled": true
   },
   "outputs": [
    {
     "data": {
      "text/plain": [
       "array([0.11549581])"
      ]
     },
     "execution_count": 16,
     "metadata": {},
     "output_type": "execute_result"
    }
   ],
   "source": [
    "y_pred[:,1]"
   ]
  },
  {
   "cell_type": "markdown",
   "id": "0f19f5b8",
   "metadata": {},
   "source": [
    "## Q4 - model1 served by flask"
   ]
  },
  {
   "cell_type": "code",
   "execution_count": 17,
   "id": "98db1fe0",
   "metadata": {},
   "outputs": [],
   "source": [
    "import requests"
   ]
  },
  {
   "cell_type": "code",
   "execution_count": 60,
   "id": "abd2dc6d",
   "metadata": {
    "scrolled": true
   },
   "outputs": [
    {
     "data": {
      "text/plain": [
       "{'churn_decision': True, 'churn_probability': 0.9988892771007961}"
      ]
     },
     "execution_count": 60,
     "metadata": {},
     "output_type": "execute_result"
    }
   ],
   "source": [
    "url = \"http://localhost:9222/predict\"\n",
    "customer = {\"contract\": \"two_year\", \"tenure\":1, \"monthlycharges\":10}\n",
    "resp = requests.post(url, json=customer)\n",
    "resp.json()"
   ]
  },
  {
   "cell_type": "markdown",
   "id": "d529ead4",
   "metadata": {},
   "source": [
    "## Q6 - model2 served within Docker"
   ]
  },
  {
   "cell_type": "code",
   "execution_count": 63,
   "id": "1f2756e3",
   "metadata": {},
   "outputs": [
    {
     "data": {
      "text/plain": [
       "{'churn_decision': True, 'churn_probability': 0.7284944888182928}"
      ]
     },
     "execution_count": 63,
     "metadata": {},
     "output_type": "execute_result"
    }
   ],
   "source": [
    "customer_q6 = {\"contract\": \"two_year\", \"tenure\": 12, \"monthlycharges\": 10}\n",
    "resp = requests.post(url, json=customer_q6)\n",
    "resp.json()"
   ]
  }
 ],
 "metadata": {
  "kernelspec": {
   "display_name": "Python 3 (ipykernel)",
   "language": "python",
   "name": "python3"
  },
  "language_info": {
   "codemirror_mode": {
    "name": "ipython",
    "version": 3
   },
   "file_extension": ".py",
   "mimetype": "text/x-python",
   "name": "python",
   "nbconvert_exporter": "python",
   "pygments_lexer": "ipython3",
   "version": "3.9.7"
  }
 },
 "nbformat": 4,
 "nbformat_minor": 5
}
