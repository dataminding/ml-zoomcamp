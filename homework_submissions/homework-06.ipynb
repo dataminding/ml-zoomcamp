{
 "cells": [
  {
   "cell_type": "markdown",
   "metadata": {},
   "source": [
    "## 6.10 Homework\n",
    "\n",
    "The goal of this homework is to create a tree-based regression model for prediction apartment prices (column `'price'`).\n",
    "\n",
    "In this homework we'll again use the New York City Airbnb Open Data dataset - the same one we used in homework 2 and 3.\n",
    "\n",
    "You can take it from [Kaggle](https://www.kaggle.com/dgomonov/new-york-city-airbnb-open-data?select=AB_NYC_2019.csv)\n",
    "or download from [here](https://raw.githubusercontent.com/alexeygrigorev/datasets/master/AB_NYC_2019.csv)\n",
    "if you don't want to sign up to Kaggle.\n",
    "\n",
    "Let's load the data:"
   ]
  },
  {
   "cell_type": "code",
   "execution_count": 1,
   "metadata": {},
   "outputs": [],
   "source": [
    "import pandas as pd\n",
    "import numpy as np\n",
    "\n",
    "import matplotlib.pyplot as plt\n",
    "import seaborn as sns\n",
    "\n",
    "%matplotlib inline"
   ]
  },
  {
   "cell_type": "code",
   "execution_count": 2,
   "metadata": {},
   "outputs": [],
   "source": [
    "columns = [\n",
    "    'neighbourhood_group', 'room_type', 'latitude', 'longitude',\n",
    "    'minimum_nights', 'number_of_reviews','reviews_per_month',\n",
    "    'calculated_host_listings_count', 'availability_365',\n",
    "    'price'\n",
    "]\n",
    "\n",
    "df = pd.read_csv('AB_NYC_2019.csv', usecols=columns)\n",
    "df.reviews_per_month = df.reviews_per_month.fillna(0)"
   ]
  },
  {
   "cell_type": "markdown",
   "metadata": {},
   "source": [
    "* Apply the log tranform to `price`\n",
    "* Do train/validation/test split with 60%/20%/20% distribution. \n",
    "* Use the `train_test_split` function and set the `random_state` parameter to 1"
   ]
  },
  {
   "cell_type": "code",
   "execution_count": 3,
   "metadata": {},
   "outputs": [],
   "source": [
    "df.price = np.log1p(df.price)"
   ]
  },
  {
   "cell_type": "code",
   "execution_count": 4,
   "metadata": {},
   "outputs": [],
   "source": [
    "RANDOM_STATE=1\n",
    "FEATURE_COLUMNS = ['neighbourhood_group', 'room_type', 'latitude', 'longitude',\n",
    "    'minimum_nights', 'number_of_reviews','reviews_per_month',\n",
    "    'calculated_host_listings_count', 'availability_365',]"
   ]
  },
  {
   "cell_type": "code",
   "execution_count": 5,
   "metadata": {},
   "outputs": [],
   "source": [
    "from sklearn.model_selection import train_test_split\n",
    "\n",
    "train_validation_df, test_df  = train_test_split(df, test_size=0.2, train_size=0.8, random_state=RANDOM_STATE)\n",
    "train_df, val_df = train_test_split(train_validation_df,test_size = 0.25, \n",
    "                                    train_size=0.75, random_state=RANDOM_STATE)\n",
    "\n",
    "train_df  = train_df.reset_index(drop=True)\n",
    "val_df = val_df.reset_index(drop=True)\n",
    "\n",
    "y_train = train_df.price\n",
    "X_train = train_df[FEATURE_COLUMNS]\n",
    "\n",
    "y_val = val_df.price\n",
    "X_val = val_df[FEATURE_COLUMNS]"
   ]
  },
  {
   "cell_type": "code",
   "execution_count": 23,
   "metadata": {},
   "outputs": [
    {
     "data": {
      "text/html": [
       "<div>\n",
       "<style scoped>\n",
       "    .dataframe tbody tr th:only-of-type {\n",
       "        vertical-align: middle;\n",
       "    }\n",
       "\n",
       "    .dataframe tbody tr th {\n",
       "        vertical-align: top;\n",
       "    }\n",
       "\n",
       "    .dataframe thead th {\n",
       "        text-align: right;\n",
       "    }\n",
       "</style>\n",
       "<table border=\"1\" class=\"dataframe\">\n",
       "  <thead>\n",
       "    <tr style=\"text-align: right;\">\n",
       "      <th></th>\n",
       "      <th>neighbourhood_group</th>\n",
       "      <th>latitude</th>\n",
       "      <th>longitude</th>\n",
       "      <th>room_type</th>\n",
       "      <th>price</th>\n",
       "      <th>minimum_nights</th>\n",
       "      <th>number_of_reviews</th>\n",
       "      <th>reviews_per_month</th>\n",
       "      <th>calculated_host_listings_count</th>\n",
       "      <th>availability_365</th>\n",
       "    </tr>\n",
       "  </thead>\n",
       "  <tbody>\n",
       "    <tr>\n",
       "      <th>0</th>\n",
       "      <td>Queens</td>\n",
       "      <td>40.76434</td>\n",
       "      <td>-73.92132</td>\n",
       "      <td>Entire home/apt</td>\n",
       "      <td>4.709530</td>\n",
       "      <td>4</td>\n",
       "      <td>30</td>\n",
       "      <td>0.32</td>\n",
       "      <td>1</td>\n",
       "      <td>363</td>\n",
       "    </tr>\n",
       "    <tr>\n",
       "      <th>1</th>\n",
       "      <td>Brooklyn</td>\n",
       "      <td>40.73442</td>\n",
       "      <td>-73.95854</td>\n",
       "      <td>Private room</td>\n",
       "      <td>4.262680</td>\n",
       "      <td>5</td>\n",
       "      <td>2</td>\n",
       "      <td>0.16</td>\n",
       "      <td>1</td>\n",
       "      <td>0</td>\n",
       "    </tr>\n",
       "    <tr>\n",
       "      <th>2</th>\n",
       "      <td>Brooklyn</td>\n",
       "      <td>40.66359</td>\n",
       "      <td>-73.99487</td>\n",
       "      <td>Entire home/apt</td>\n",
       "      <td>6.133398</td>\n",
       "      <td>1</td>\n",
       "      <td>33</td>\n",
       "      <td>2.75</td>\n",
       "      <td>5</td>\n",
       "      <td>113</td>\n",
       "    </tr>\n",
       "    <tr>\n",
       "      <th>3</th>\n",
       "      <td>Brooklyn</td>\n",
       "      <td>40.63766</td>\n",
       "      <td>-74.02626</td>\n",
       "      <td>Private room</td>\n",
       "      <td>4.605170</td>\n",
       "      <td>3</td>\n",
       "      <td>1</td>\n",
       "      <td>0.12</td>\n",
       "      <td>2</td>\n",
       "      <td>362</td>\n",
       "    </tr>\n",
       "    <tr>\n",
       "      <th>4</th>\n",
       "      <td>Brooklyn</td>\n",
       "      <td>40.65118</td>\n",
       "      <td>-74.00842</td>\n",
       "      <td>Private room</td>\n",
       "      <td>7.601402</td>\n",
       "      <td>2</td>\n",
       "      <td>0</td>\n",
       "      <td>0.00</td>\n",
       "      <td>2</td>\n",
       "      <td>365</td>\n",
       "    </tr>\n",
       "  </tbody>\n",
       "</table>\n",
       "</div>"
      ],
      "text/plain": [
       "  neighbourhood_group  latitude  longitude        room_type     price  \\\n",
       "0              Queens  40.76434  -73.92132  Entire home/apt  4.709530   \n",
       "1            Brooklyn  40.73442  -73.95854     Private room  4.262680   \n",
       "2            Brooklyn  40.66359  -73.99487  Entire home/apt  6.133398   \n",
       "3            Brooklyn  40.63766  -74.02626     Private room  4.605170   \n",
       "4            Brooklyn  40.65118  -74.00842     Private room  7.601402   \n",
       "\n",
       "   minimum_nights  number_of_reviews  reviews_per_month  \\\n",
       "0               4                 30               0.32   \n",
       "1               5                  2               0.16   \n",
       "2               1                 33               2.75   \n",
       "3               3                  1               0.12   \n",
       "4               2                  0               0.00   \n",
       "\n",
       "   calculated_host_listings_count  availability_365  \n",
       "0                               1               363  \n",
       "1                               1                 0  \n",
       "2                               5               113  \n",
       "3                               2               362  \n",
       "4                               2               365  "
      ]
     },
     "execution_count": 23,
     "metadata": {},
     "output_type": "execute_result"
    }
   ],
   "source": [
    "train_df.head()"
   ]
  },
  {
   "cell_type": "markdown",
   "metadata": {},
   "source": [
    "Now, use `DictVectorizer` to turn train and validation into matrices:"
   ]
  },
  {
   "cell_type": "code",
   "execution_count": 7,
   "metadata": {},
   "outputs": [],
   "source": [
    "from sklearn.feature_extraction import DictVectorizer\n",
    "\n",
    "dicts = X_train.to_dict(orient=\"records\")\n",
    "dv = DictVectorizer(sparse=False)\n",
    "X_train = dv.fit_transform(dicts)\n",
    "\n",
    "val_dicts = X_val.to_dict(orient=\"records\")\n",
    "X_val = dv.transform(val_dicts)"
   ]
  },
  {
   "cell_type": "markdown",
   "metadata": {},
   "source": [
    "## Question 1\n",
    "\n",
    "Let's train a decision tree regressor to predict the price variable. \n",
    "\n",
    "* Train a model with `max_depth=1`"
   ]
  },
  {
   "cell_type": "code",
   "execution_count": 40,
   "metadata": {},
   "outputs": [
    {
     "data": {
      "text/plain": [
       "DecisionTreeRegressor(max_depth=1)"
      ]
     },
     "execution_count": 40,
     "metadata": {},
     "output_type": "execute_result"
    }
   ],
   "source": [
    "from sklearn.tree import DecisionTreeRegressor\n",
    "from sklearn.metrics import roc_auc_score\n",
    "\n",
    "dt = DecisionTreeRegressor(max_depth=1)\n",
    "dt.fit(X_train, y_train)"
   ]
  },
  {
   "cell_type": "code",
   "execution_count": 41,
   "metadata": {},
   "outputs": [
    {
     "name": "stdout",
     "output_type": "stream",
     "text": [
      "|--- room_type=Entire home/apt <= 0.50\n",
      "|   |--- value: [4.29]\n",
      "|--- room_type=Entire home/apt >  0.50\n",
      "|   |--- value: [5.15]\n",
      "\n"
     ]
    },
    {
     "name": "stderr",
     "output_type": "stream",
     "text": [
      "/Users/abarabas/devel/jupyter/venv/lib/python3.9/site-packages/sklearn/utils/deprecation.py:87: FutureWarning: Function get_feature_names is deprecated; get_feature_names is deprecated in 1.0 and will be removed in 1.2. Please use get_feature_names_out instead.\n",
      "  warnings.warn(msg, category=FutureWarning)\n"
     ]
    }
   ],
   "source": [
    "from sklearn.tree import export_text\n",
    "print(export_text(dt, feature_names=dv.get_feature_names()))"
   ]
  },
  {
   "cell_type": "markdown",
   "metadata": {},
   "source": [
    "Which feature is used for splitting the data?\n",
    "\n",
    "* `room_type`\n",
    "* `neighbourhood_group`\n",
    "* `number_of_reviews`\n",
    "* `reviews_per_month`"
   ]
  },
  {
   "cell_type": "markdown",
   "metadata": {},
   "source": [
    "## Question 2\n",
    "\n",
    "Train a random forest model with these parameters:\n",
    "\n",
    "* `n_estimators=10`\n",
    "* `random_state=1`\n",
    "* `n_jobs=-1`  (optional - to make training faster)"
   ]
  },
  {
   "cell_type": "code",
   "execution_count": 28,
   "metadata": {},
   "outputs": [],
   "source": [
    "from sklearn.ensemble import RandomForestRegressor"
   ]
  },
  {
   "cell_type": "code",
   "execution_count": 42,
   "metadata": {},
   "outputs": [],
   "source": [
    "rfc = RandomForestRegressor(n_estimators=10, random_state=1, n_jobs=-1)\n",
    "rfc.fit(X_train, y_train)\n",
    "\n",
    "y_pred = rfc.predict(X_val)"
   ]
  },
  {
   "cell_type": "code",
   "execution_count": 43,
   "metadata": {},
   "outputs": [
    {
     "data": {
      "text/plain": [
       "0.462"
      ]
     },
     "execution_count": 43,
     "metadata": {},
     "output_type": "execute_result"
    }
   ],
   "source": [
    "from sklearn.metrics import mean_squared_error\n",
    "from math import sqrt\n",
    "\n",
    "round(sqrt(mean_squared_error(y_val, y_pred)),3)"
   ]
  },
  {
   "cell_type": "markdown",
   "metadata": {},
   "source": [
    "What's the RMSE of this model on validation?\n",
    "\n",
    "* 0.059\n",
    "* 0.259\n",
    "* 0.459\n",
    "* 0.659"
   ]
  },
  {
   "cell_type": "markdown",
   "metadata": {},
   "source": [
    "## Question 3\n",
    "\n",
    "Now let's experiment with the `n_estimators` parameter\n",
    "\n",
    "* Try different values of this parameter from 10 to 200 with step 10\n",
    "* Set `random_state` to `1`\n",
    "* Evaluate the model on the validation dataset"
   ]
  },
  {
   "cell_type": "code",
   "execution_count": 49,
   "metadata": {},
   "outputs": [
    {
     "name": "stdout",
     "output_type": "stream",
     "text": [
      "N=10 RMSE:0.4616 diff: 0.4616\n",
      "N=20 RMSE:0.4482 diff: -0.0134\n",
      "N=30 RMSE:0.4455 diff: -0.0027\n",
      "N=40 RMSE:0.4436 diff: -0.0019\n",
      "N=50 RMSE:0.4423 diff: -0.0013\n",
      "N=60 RMSE:0.4416 diff: -0.0007\n",
      "N=70 RMSE:0.4412 diff: -0.0004\n",
      "N=80 RMSE:0.4411 diff: -0.0001\n",
      "N=90 RMSE:0.4405 diff: -0.0006\n",
      "N=100 RMSE:0.44 diff: -0.0005\n",
      "N=110 RMSE:0.4395 diff: -0.0005\n",
      "N=120 RMSE:0.4392 diff: -0.0003\n",
      "N=130 RMSE:0.4393 diff: 0.0001\n",
      "N=140 RMSE:0.439 diff: -0.0003\n",
      "N=150 RMSE:0.4389 diff: -0.0001\n",
      "N=160 RMSE:0.4387 diff: -0.0002\n",
      "N=170 RMSE:0.4386 diff: -0.0001\n",
      "N=180 RMSE:0.4388 diff: 0.0002\n",
      "N=190 RMSE:0.4387 diff: -0.0001\n",
      "N=200 RMSE:0.4387 diff: 0.0\n"
     ]
    }
   ],
   "source": [
    "prev_rmse= 0\n",
    "for n in range(10,201,10):\n",
    "    rfc = RandomForestRegressor(n_estimators=n, random_state=RANDOM_STATE, n_jobs=-1)\n",
    "    rfc.fit(X_train, y_train)\n",
    "\n",
    "    y_pred = rfc.predict(X_val)\n",
    "    rmse = round(sqrt(mean_squared_error(y_val, y_pred)),4)\n",
    "    diff = round(rmse-prev_rmse,4)\n",
    "    print(f\"N={n} RMSE:{rmse} diff: {diff}\")\n",
    "    prev_rmse=rmse"
   ]
  },
  {
   "cell_type": "markdown",
   "metadata": {},
   "source": [
    "After which value of `n_estimators` does RMSE stop improving?\n",
    "\n",
    "- 10\n",
    "- 50\n",
    "- 70\n",
    "- 120"
   ]
  },
  {
   "cell_type": "markdown",
   "metadata": {},
   "source": [
    "## Question 4\n",
    "\n",
    "Let's select the best `max_depth`:\n",
    "\n",
    "* Try different values of `max_depth`: `[10, 15, 20, 25]`\n",
    "* For each of these values, try different values of `n_estimators` from 10 till 200 (with step 10)\n",
    "* Fix the random seed: `random_state=1`"
   ]
  },
  {
   "cell_type": "code",
   "execution_count": 51,
   "metadata": {},
   "outputs": [
    {
     "name": "stdout",
     "output_type": "stream",
     "text": [
      "maxdepth= 10 N=10 RMSE:0.4456\n",
      "maxdepth= 10 N=20 RMSE:0.442\n",
      "maxdepth= 10 N=30 RMSE:0.4414\n",
      "maxdepth= 10 N=40 RMSE:0.4415\n",
      "maxdepth= 10 N=50 RMSE:0.4411\n",
      "maxdepth= 10 N=60 RMSE:0.441\n",
      "maxdepth= 10 N=70 RMSE:0.4408\n",
      "maxdepth= 10 N=80 RMSE:0.4406\n",
      "maxdepth= 10 N=90 RMSE:0.4403\n",
      "maxdepth= 10 N=100 RMSE:0.4401\n",
      "maxdepth= 10 N=110 RMSE:0.44\n",
      "maxdepth= 10 N=120 RMSE:0.4398\n",
      "maxdepth= 10 N=130 RMSE:0.4399\n",
      "maxdepth= 10 N=140 RMSE:0.4398\n",
      "maxdepth= 10 N=150 RMSE:0.4397\n",
      "maxdepth= 10 N=160 RMSE:0.4396\n",
      "maxdepth= 10 N=170 RMSE:0.4396\n",
      "maxdepth= 10 N=180 RMSE:0.4397\n",
      "maxdepth= 10 N=190 RMSE:0.4397\n",
      "maxdepth= 10 N=200 RMSE:0.4397\n",
      "\t\t best RMSE for maxdepth 10 : 0.4396\n",
      "maxdepth= 15 N=10 RMSE:0.4501\n",
      "maxdepth= 15 N=20 RMSE:0.4414\n",
      "maxdepth= 15 N=30 RMSE:0.4399\n",
      "maxdepth= 15 N=40 RMSE:0.4393\n",
      "maxdepth= 15 N=50 RMSE:0.4384\n",
      "maxdepth= 15 N=60 RMSE:0.438\n",
      "maxdepth= 15 N=70 RMSE:0.4375\n",
      "maxdepth= 15 N=80 RMSE:0.4373\n",
      "maxdepth= 15 N=90 RMSE:0.4369\n",
      "maxdepth= 15 N=100 RMSE:0.4365\n",
      "maxdepth= 15 N=110 RMSE:0.4363\n",
      "maxdepth= 15 N=120 RMSE:0.4362\n",
      "maxdepth= 15 N=130 RMSE:0.4363\n",
      "maxdepth= 15 N=140 RMSE:0.4362\n",
      "maxdepth= 15 N=150 RMSE:0.4362\n",
      "maxdepth= 15 N=160 RMSE:0.4361\n",
      "maxdepth= 15 N=170 RMSE:0.436\n",
      "maxdepth= 15 N=180 RMSE:0.4362\n",
      "maxdepth= 15 N=190 RMSE:0.4362\n",
      "maxdepth= 15 N=200 RMSE:0.4361\n",
      "\t\t best RMSE for maxdepth 15 : 0.436\n",
      "maxdepth= 20 N=10 RMSE:0.4584\n",
      "maxdepth= 20 N=20 RMSE:0.4459\n",
      "maxdepth= 20 N=30 RMSE:0.4432\n",
      "maxdepth= 20 N=40 RMSE:0.4417\n",
      "maxdepth= 20 N=50 RMSE:0.4407\n",
      "maxdepth= 20 N=60 RMSE:0.4401\n",
      "maxdepth= 20 N=70 RMSE:0.4397\n",
      "maxdepth= 20 N=80 RMSE:0.4397\n",
      "maxdepth= 20 N=90 RMSE:0.4392\n",
      "maxdepth= 20 N=100 RMSE:0.4388\n",
      "maxdepth= 20 N=110 RMSE:0.4383\n",
      "maxdepth= 20 N=120 RMSE:0.4381\n",
      "maxdepth= 20 N=130 RMSE:0.4382\n",
      "maxdepth= 20 N=140 RMSE:0.438\n",
      "maxdepth= 20 N=150 RMSE:0.4379\n",
      "maxdepth= 20 N=160 RMSE:0.4378\n",
      "maxdepth= 20 N=170 RMSE:0.4376\n",
      "maxdepth= 20 N=180 RMSE:0.4377\n",
      "maxdepth= 20 N=190 RMSE:0.4376\n",
      "maxdepth= 20 N=200 RMSE:0.4376\n",
      "\t\t best RMSE for maxdepth 20 : 0.4376\n",
      "maxdepth= 25 N=10 RMSE:0.4609\n",
      "maxdepth= 25 N=20 RMSE:0.4472\n",
      "maxdepth= 25 N=30 RMSE:0.4445\n",
      "maxdepth= 25 N=40 RMSE:0.4431\n",
      "maxdepth= 25 N=50 RMSE:0.4423\n",
      "maxdepth= 25 N=60 RMSE:0.4415\n",
      "maxdepth= 25 N=70 RMSE:0.441\n",
      "maxdepth= 25 N=80 RMSE:0.4409\n",
      "maxdepth= 25 N=90 RMSE:0.4403\n",
      "maxdepth= 25 N=100 RMSE:0.4399\n",
      "maxdepth= 25 N=110 RMSE:0.4395\n",
      "maxdepth= 25 N=120 RMSE:0.4392\n",
      "maxdepth= 25 N=130 RMSE:0.4393\n",
      "maxdepth= 25 N=140 RMSE:0.439\n",
      "maxdepth= 25 N=150 RMSE:0.439\n",
      "maxdepth= 25 N=160 RMSE:0.4388\n",
      "maxdepth= 25 N=170 RMSE:0.4387\n",
      "maxdepth= 25 N=180 RMSE:0.4388\n",
      "maxdepth= 25 N=190 RMSE:0.4387\n",
      "maxdepth= 25 N=200 RMSE:0.4387\n",
      "\t\t best RMSE for maxdepth 25 : 0.4387\n"
     ]
    }
   ],
   "source": [
    "prev_rmse= 0\n",
    "for md in [10, 15, 20, 25]:\n",
    "    \n",
    "    best = 10\n",
    "    for n in range(10,201,10):\n",
    "        \n",
    "        rfc = RandomForestRegressor(n_estimators=n, random_state=RANDOM_STATE, n_jobs=-1, max_depth = md)\n",
    "        rfc.fit(X_train, y_train)\n",
    "\n",
    "        y_pred = rfc.predict(X_val)\n",
    "        rmse = round(sqrt(mean_squared_error(y_val, y_pred)),4)\n",
    "        diff = round(rmse-prev_rmse,4)\n",
    "        if rmse < best:\n",
    "            best = rmse\n",
    "        print(f\"maxdepth= {md} N={n} RMSE:{rmse}\")\n",
    "        prev_rmse=rmse\n",
    "    print(f\"\\t\\t best RMSE for maxdepth {md} : {best}\")"
   ]
  },
  {
   "cell_type": "markdown",
   "metadata": {},
   "source": [
    "What's the best `max_depth`:\n",
    "\n",
    "* 10\n",
    "* 15\n",
    "* 20\n",
    "* 25\n",
    "\n",
    "Bonus question (not graded):\n",
    "\n",
    "Will the answer be different if we change the seed for the model?"
   ]
  },
  {
   "cell_type": "markdown",
   "metadata": {},
   "source": [
    "## Question 5\n",
    "\n",
    "We can extract feature importance information from tree-based models. \n",
    "\n",
    "At each step of the decision tree learning algorith, it finds the best split. \n",
    "When doint it, we can calculate \"gain\" - the reduction in impurity before and after the split. \n",
    "This gain is quite useful in understanding what are the imporatant features \n",
    "for tree-based models.\n",
    "\n",
    "In Scikit-Learn, tree-based models contain this information in the `feature_importances_` field. \n",
    "\n",
    "For this homework question, we'll find the most important feature:\n",
    "\n",
    "* Train the model with these parametes:\n",
    "    * `n_estimators=10`,\n",
    "    * `max_depth=20`,\n",
    "    * `random_state=1`,\n",
    "    * `n_jobs=-1` (optional)\n",
    "* Get the feature importance information from this model"
   ]
  },
  {
   "cell_type": "code",
   "execution_count": 53,
   "metadata": {},
   "outputs": [
    {
     "data": {
      "text/plain": [
       "RandomForestRegressor(max_depth=20, n_estimators=10, n_jobs=-1, random_state=1)"
      ]
     },
     "execution_count": 53,
     "metadata": {},
     "output_type": "execute_result"
    }
   ],
   "source": [
    "rfc_q5 = RandomForestRegressor(n_estimators=10, max_depth=20, random_state=1, n_jobs=-1)\n",
    "rfc_q5.fit(X_train, y_train)"
   ]
  },
  {
   "cell_type": "code",
   "execution_count": 72,
   "metadata": {},
   "outputs": [],
   "source": [
    "df_importance = pd.DataFrame(data=rfc_q5.feature_importances_, index= dv.feature_names_, columns=[\"importance\"])"
   ]
  },
  {
   "cell_type": "code",
   "execution_count": 73,
   "metadata": {},
   "outputs": [
    {
     "data": {
      "text/html": [
       "<div>\n",
       "<style scoped>\n",
       "    .dataframe tbody tr th:only-of-type {\n",
       "        vertical-align: middle;\n",
       "    }\n",
       "\n",
       "    .dataframe tbody tr th {\n",
       "        vertical-align: top;\n",
       "    }\n",
       "\n",
       "    .dataframe thead th {\n",
       "        text-align: right;\n",
       "    }\n",
       "</style>\n",
       "<table border=\"1\" class=\"dataframe\">\n",
       "  <thead>\n",
       "    <tr style=\"text-align: right;\">\n",
       "      <th></th>\n",
       "      <th>importance</th>\n",
       "    </tr>\n",
       "  </thead>\n",
       "  <tbody>\n",
       "    <tr>\n",
       "      <th>neighbourhood_group=Staten Island</th>\n",
       "      <td>0.000084</td>\n",
       "    </tr>\n",
       "    <tr>\n",
       "      <th>neighbourhood_group=Bronx</th>\n",
       "      <td>0.000265</td>\n",
       "    </tr>\n",
       "    <tr>\n",
       "      <th>neighbourhood_group=Brooklyn</th>\n",
       "      <td>0.000966</td>\n",
       "    </tr>\n",
       "    <tr>\n",
       "      <th>neighbourhood_group=Queens</th>\n",
       "      <td>0.001166</td>\n",
       "    </tr>\n",
       "    <tr>\n",
       "      <th>room_type=Private room</th>\n",
       "      <td>0.004032</td>\n",
       "    </tr>\n",
       "    <tr>\n",
       "      <th>room_type=Shared room</th>\n",
       "      <td>0.005023</td>\n",
       "    </tr>\n",
       "    <tr>\n",
       "      <th>calculated_host_listings_count</th>\n",
       "      <td>0.030102</td>\n",
       "    </tr>\n",
       "    <tr>\n",
       "      <th>neighbourhood_group=Manhattan</th>\n",
       "      <td>0.034047</td>\n",
       "    </tr>\n",
       "    <tr>\n",
       "      <th>number_of_reviews</th>\n",
       "      <td>0.041594</td>\n",
       "    </tr>\n",
       "    <tr>\n",
       "      <th>minimum_nights</th>\n",
       "      <td>0.053252</td>\n",
       "    </tr>\n",
       "    <tr>\n",
       "      <th>reviews_per_month</th>\n",
       "      <td>0.054430</td>\n",
       "    </tr>\n",
       "    <tr>\n",
       "      <th>availability_365</th>\n",
       "      <td>0.076264</td>\n",
       "    </tr>\n",
       "    <tr>\n",
       "      <th>latitude</th>\n",
       "      <td>0.152775</td>\n",
       "    </tr>\n",
       "    <tr>\n",
       "      <th>longitude</th>\n",
       "      <td>0.154101</td>\n",
       "    </tr>\n",
       "    <tr>\n",
       "      <th>room_type=Entire home/apt</th>\n",
       "      <td>0.391898</td>\n",
       "    </tr>\n",
       "  </tbody>\n",
       "</table>\n",
       "</div>"
      ],
      "text/plain": [
       "                                   importance\n",
       "neighbourhood_group=Staten Island    0.000084\n",
       "neighbourhood_group=Bronx            0.000265\n",
       "neighbourhood_group=Brooklyn         0.000966\n",
       "neighbourhood_group=Queens           0.001166\n",
       "room_type=Private room               0.004032\n",
       "room_type=Shared room                0.005023\n",
       "calculated_host_listings_count       0.030102\n",
       "neighbourhood_group=Manhattan        0.034047\n",
       "number_of_reviews                    0.041594\n",
       "minimum_nights                       0.053252\n",
       "reviews_per_month                    0.054430\n",
       "availability_365                     0.076264\n",
       "latitude                             0.152775\n",
       "longitude                            0.154101\n",
       "room_type=Entire home/apt            0.391898"
      ]
     },
     "execution_count": 73,
     "metadata": {},
     "output_type": "execute_result"
    }
   ],
   "source": [
    "df_importance.sort_values(by=\"importance\")"
   ]
  },
  {
   "cell_type": "markdown",
   "metadata": {},
   "source": [
    "What's the most important feature? \n",
    "\n",
    "* `neighbourhood_group=Manhattan`\n",
    "* `room_type=Entire home/apt`\t\n",
    "* `longitude`\n",
    "* `latitude`"
   ]
  },
  {
   "cell_type": "markdown",
   "metadata": {},
   "source": [
    "## Question 6"
   ]
  },
  {
   "cell_type": "markdown",
   "metadata": {},
   "source": [
    "Now let's train an XGBoost model! For this question, we'll tune the `eta` parameter\n",
    "\n",
    "* Install XGBoost\n",
    "* Create DMatrix for train and validation\n",
    "* Create a watchlist\n",
    "* Train a model with these parameters for 100 rounds:\n",
    "\n",
    "```\n",
    "xgb_params = {\n",
    "    'eta': 0.3, \n",
    "    'max_depth': 6,\n",
    "    'min_child_weight': 1,\n",
    "    \n",
    "    'objective': 'reg:squarederror',\n",
    "    'nthread': 8,\n",
    "    \n",
    "    'seed': 1,\n",
    "    'verbosity': 1,\n",
    "}\n",
    "```"
   ]
  },
  {
   "cell_type": "code",
   "execution_count": 1,
   "metadata": {},
   "outputs": [
    {
     "name": "stdout",
     "output_type": "stream",
     "text": [
      "Requirement already satisfied: xgboost in /Users/abarabas/devel/jupyter/venv/lib/python3.9/site-packages (1.5.0)\n",
      "Requirement already satisfied: scipy in /Users/abarabas/devel/jupyter/venv/lib/python3.9/site-packages (from xgboost) (1.7.1)\n",
      "Requirement already satisfied: numpy in /Users/abarabas/devel/jupyter/venv/lib/python3.9/site-packages (from xgboost) (1.21.2)\n",
      "\u001b[33mWARNING: You are using pip version 21.2.3; however, version 21.3 is available.\n",
      "You should consider upgrading via the '/Users/abarabas/devel/jupyter/venv/bin/python -m pip install --upgrade pip' command.\u001b[0m\n"
     ]
    }
   ],
   "source": [
    "!pip install xgboost\n"
   ]
  },
  {
   "cell_type": "code",
   "execution_count": null,
   "metadata": {},
   "outputs": [],
   "source": [
    "import xgboost as xgb\n",
    "features = dv.get_feature_names()\n",
    "dtrain = xgb.DMatrix(X_train, label=y_train, feature_names=features)\n",
    "dval = xgb.DMatrix(X_val, label=y_val, feature_names=features)"
   ]
  },
  {
   "cell_type": "markdown",
   "metadata": {},
   "source": [
    "### my kernel dies at this step so I didn't finish this tasks..."
   ]
  },
  {
   "cell_type": "code",
   "execution_count": null,
   "metadata": {},
   "outputs": [],
   "source": [
    "xgb_params = {\n",
    "    'eta': 0.3, \n",
    "    'max_depth': 6,\n",
    "    'min_child_weight': 1,\n",
    "    \n",
    "    'objective': 'reg:squarederror',\n",
    "    'nthread': 8,\n",
    "    \n",
    "    'seed': 1,\n",
    "    'verbosity': 1,\n",
    "}\n",
    "\n",
    "model = xgb.train(xgb_params, dtrain, num_boost_round=100)"
   ]
  },
  {
   "cell_type": "code",
   "execution_count": null,
   "metadata": {},
   "outputs": [],
   "source": []
  },
  {
   "cell_type": "code",
   "execution_count": null,
   "metadata": {},
   "outputs": [],
   "source": []
  },
  {
   "cell_type": "markdown",
   "metadata": {},
   "source": [
    "Now change `eta` first to `0.1` and then to `0.01`"
   ]
  },
  {
   "cell_type": "code",
   "execution_count": null,
   "metadata": {},
   "outputs": [],
   "source": []
  },
  {
   "cell_type": "markdown",
   "metadata": {},
   "source": [
    "Which eta leads to the best RMSE score on the validation dataset?\n",
    "\n",
    "* 0.3\n",
    "* 0.1\n",
    "* 0.01"
   ]
  },
  {
   "cell_type": "markdown",
   "metadata": {},
   "source": [
    "## Submit the results\n",
    "\n",
    "\n",
    "Submit your results here: https://forms.gle/wQgFkYE6CtdDed4w8\n",
    "\n",
    "It's possible that your answers won't match exactly. If it's the case, select the closest one.\n",
    "\n",
    "\n",
    "## Deadline\n",
    "\n",
    "\n",
    "The deadline for submitting is 20 October 2021, 17:00 CET (Wednesday). After that, the form will be closed.\n",
    "\n"
   ]
  }
 ],
 "metadata": {
  "kernelspec": {
   "display_name": "Python 3 (ipykernel)",
   "language": "python",
   "name": "python3"
  },
  "language_info": {
   "codemirror_mode": {
    "name": "ipython",
    "version": 3
   },
   "file_extension": ".py",
   "mimetype": "text/x-python",
   "name": "python",
   "nbconvert_exporter": "python",
   "pygments_lexer": "ipython3",
   "version": "3.9.7"
  }
 },
 "nbformat": 4,
 "nbformat_minor": 2
}
