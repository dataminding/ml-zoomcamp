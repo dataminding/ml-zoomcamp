{
 "cells": [
  {
   "cell_type": "markdown",
   "id": "e23fbc2d",
   "metadata": {},
   "source": [
    "## Q1 converting Keras model to TF-Lite"
   ]
  },
  {
   "cell_type": "code",
   "execution_count": 9,
   "id": "aa9caaeb",
   "metadata": {},
   "outputs": [],
   "source": [
    "from tensorflow import keras\n",
    "import tensorflow as tf"
   ]
  },
  {
   "cell_type": "code",
   "execution_count": 8,
   "id": "34245e4a",
   "metadata": {},
   "outputs": [
    {
     "name": "stderr",
     "output_type": "stream",
     "text": [
      "2021-12-01 21:20:32.908936: I tensorflow/core/platform/cpu_feature_guard.cc:151] This TensorFlow binary is optimized with oneAPI Deep Neural Network Library (oneDNN) to use the following CPU instructions in performance-critical operations:  AVX2 FMA\n",
      "To enable them in other operations, rebuild TensorFlow with the appropriate compiler flags.\n"
     ]
    }
   ],
   "source": [
    "model = keras.models.load_model('dogs_cats_10_0.687.h5')"
   ]
  },
  {
   "cell_type": "code",
   "execution_count": 10,
   "id": "f5dc4ed6",
   "metadata": {},
   "outputs": [
    {
     "name": "stderr",
     "output_type": "stream",
     "text": [
      "2021-12-01 21:21:43.800832: W tensorflow/python/util/util.cc:368] Sets are not currently considered sequences, but this may change in the future, so consider avoiding using them.\n"
     ]
    },
    {
     "name": "stdout",
     "output_type": "stream",
     "text": [
      "INFO:tensorflow:Assets written to: /var/folders/sv/0_vx_sd17318_hf3rq61b32h0000gp/T/tmp__65rls7/assets\n"
     ]
    },
    {
     "name": "stderr",
     "output_type": "stream",
     "text": [
      "2021-12-01 21:21:45.213380: W tensorflow/compiler/mlir/lite/python/tf_tfl_flatbuffer_helpers.cc:363] Ignored output_format.\n",
      "2021-12-01 21:21:45.213396: W tensorflow/compiler/mlir/lite/python/tf_tfl_flatbuffer_helpers.cc:366] Ignored drop_control_dependency.\n",
      "WARNING:absl:Buffer deduplication procedure will be skipped when flatbuffer library is not properly loaded\n",
      "2021-12-01 21:21:45.216833: I tensorflow/cc/saved_model/reader.cc:43] Reading SavedModel from: /var/folders/sv/0_vx_sd17318_hf3rq61b32h0000gp/T/tmp__65rls7\n",
      "2021-12-01 21:21:45.220769: I tensorflow/cc/saved_model/reader.cc:107] Reading meta graph with tags { serve }\n",
      "2021-12-01 21:21:45.220785: I tensorflow/cc/saved_model/reader.cc:148] Reading SavedModel debug info (if present) from: /var/folders/sv/0_vx_sd17318_hf3rq61b32h0000gp/T/tmp__65rls7\n",
      "2021-12-01 21:21:45.236490: I tensorflow/cc/saved_model/loader.cc:210] Restoring SavedModel bundle.\n",
      "2021-12-01 21:21:45.428126: I tensorflow/cc/saved_model/loader.cc:194] Running initialization op on SavedModel bundle at path: /var/folders/sv/0_vx_sd17318_hf3rq61b32h0000gp/T/tmp__65rls7\n",
      "2021-12-01 21:21:45.451220: I tensorflow/cc/saved_model/loader.cc:283] SavedModel load for tags { serve }; Status: success: OK. Took 234389 microseconds.\n",
      "2021-12-01 21:21:45.555902: I tensorflow/compiler/mlir/tensorflow/utils/dump_mlir_util.cc:237] disabling MLIR crash reproducer, set env var `MLIR_CRASH_REPRODUCER_DIRECTORY` to enable.\n"
     ]
    }
   ],
   "source": [
    "converter = tf.lite.TFLiteConverter.from_keras_model(model)\n",
    "\n",
    "tflite_model = converter.convert()\n",
    "\n",
    "with open('dogs_cats.tflite', 'wb') as f_out:\n",
    "    f_out.write(tflite_model)"
   ]
  },
  {
   "cell_type": "code",
   "execution_count": 13,
   "id": "5469175c",
   "metadata": {},
   "outputs": [
    {
     "name": "stdout",
     "output_type": "stream",
     "text": [
      "-rw-r--r--   1 abarabas  staff    43M Dec  1 21:21 dogs_cats.tflite\r\n"
     ]
    }
   ],
   "source": [
    "!ls -lha | grep tflite"
   ]
  },
  {
   "cell_type": "markdown",
   "id": "107bcbe5",
   "metadata": {},
   "source": [
    "## Q2 output index"
   ]
  },
  {
   "cell_type": "code",
   "execution_count": 14,
   "id": "94a9b127",
   "metadata": {},
   "outputs": [],
   "source": [
    "import tensorflow.lite as tflite"
   ]
  },
  {
   "cell_type": "code",
   "execution_count": 15,
   "id": "85d05f36",
   "metadata": {},
   "outputs": [],
   "source": [
    "interpreter = tflite.Interpreter(model_path='dogs_cats.tflite')\n",
    "interpreter.allocate_tensors()"
   ]
  },
  {
   "cell_type": "code",
   "execution_count": 16,
   "id": "cab8a1ba",
   "metadata": {},
   "outputs": [
    {
     "data": {
      "text/plain": [
       "[{'name': 'serving_default_conv2d_1_input:0',\n",
       "  'index': 0,\n",
       "  'shape': array([  1, 150, 150,   3], dtype=int32),\n",
       "  'shape_signature': array([ -1, 150, 150,   3], dtype=int32),\n",
       "  'dtype': numpy.float32,\n",
       "  'quantization': (0.0, 0),\n",
       "  'quantization_parameters': {'scales': array([], dtype=float32),\n",
       "   'zero_points': array([], dtype=int32),\n",
       "   'quantized_dimension': 0},\n",
       "  'sparsity_parameters': {}}]"
      ]
     },
     "execution_count": 16,
     "metadata": {},
     "output_type": "execute_result"
    }
   ],
   "source": [
    "interpreter.get_input_details()"
   ]
  },
  {
   "cell_type": "code",
   "execution_count": 17,
   "id": "9dd6be15",
   "metadata": {},
   "outputs": [
    {
     "data": {
      "text/plain": [
       "[{'name': 'StatefulPartitionedCall:0',\n",
       "  'index': 13,\n",
       "  'shape': array([1, 1], dtype=int32),\n",
       "  'shape_signature': array([-1,  1], dtype=int32),\n",
       "  'dtype': numpy.float32,\n",
       "  'quantization': (0.0, 0),\n",
       "  'quantization_parameters': {'scales': array([], dtype=float32),\n",
       "   'zero_points': array([], dtype=int32),\n",
       "   'quantized_dimension': 0},\n",
       "  'sparsity_parameters': {}}]"
      ]
     },
     "execution_count": 17,
     "metadata": {},
     "output_type": "execute_result"
    }
   ],
   "source": [
    "interpreter.get_output_details()"
   ]
  },
  {
   "cell_type": "code",
   "execution_count": 18,
   "id": "d9999f12",
   "metadata": {},
   "outputs": [
    {
     "data": {
      "text/plain": [
       "13"
      ]
     },
     "execution_count": 18,
     "metadata": {},
     "output_type": "execute_result"
    }
   ],
   "source": [
    "interpreter.get_output_details()[0]['index']"
   ]
  },
  {
   "cell_type": "code",
   "execution_count": 19,
   "id": "d9fec172",
   "metadata": {},
   "outputs": [],
   "source": [
    "input_index = interpreter.get_input_details()[0][\"index\"]\n",
    "output_index = interpreter.get_output_details()[0][\"index\"]"
   ]
  },
  {
   "cell_type": "markdown",
   "id": "1c12106c",
   "metadata": {},
   "source": [
    "## Q3 image preprocessing"
   ]
  },
  {
   "cell_type": "code",
   "execution_count": 21,
   "id": "cada71f9",
   "metadata": {},
   "outputs": [],
   "source": [
    "from io import BytesIO\n",
    "from urllib import request\n",
    "\n",
    "from PIL import Image\n",
    "\n",
    "def download_image(url):\n",
    "    with request.urlopen(url) as resp:\n",
    "        buffer = resp.read()\n",
    "    stream = BytesIO(buffer)\n",
    "    img = Image.open(stream)\n",
    "    return img\n",
    "\n",
    "\n",
    "def prepare_image(img, target_size):\n",
    "    if img.mode != 'RGB':\n",
    "        img = img.convert('RGB')\n",
    "    img = img.resize(target_size, Image.NEAREST)\n",
    "    return img"
   ]
  },
  {
   "cell_type": "code",
   "execution_count": 23,
   "id": "db4c800a",
   "metadata": {},
   "outputs": [
    {
     "name": "stdout",
     "output_type": "stream",
     "text": [
      "  % Total    % Received % Xferd  Average Speed   Time    Time     Time  Current\n",
      "                                 Dload  Upload   Total   Spent    Left  Speed\n",
      "100 99389  100 99389    0     0   315k      0 --:--:-- --:--:-- --:--:--  315k\n",
      "curl: (6) Could not resolve host: Pug_600.jpg\n"
     ]
    }
   ],
   "source": [
    "! curl https://upload.wikimedia.org/wikipedia/commons/9/9a/Pug_600.jpg -O Pug_600.jpg"
   ]
  },
  {
   "cell_type": "code",
   "execution_count": 100,
   "id": "dcf4cde9",
   "metadata": {},
   "outputs": [],
   "source": [
    "def preprocess_image(url):\n",
    "    raw_img = download_image(url)\n",
    "    img = prepare_image(raw_img, target_size)\n",
    "    x = np.array(img, dtype='float32')\n",
    "    # rescaling\n",
    "    return x/255"
   ]
  },
  {
   "cell_type": "code",
   "execution_count": 101,
   "id": "f8d6d0f4",
   "metadata": {},
   "outputs": [
    {
     "data": {
      "text/plain": [
       "0.7058824"
      ]
     },
     "execution_count": 101,
     "metadata": {},
     "output_type": "execute_result"
    }
   ],
   "source": [
    "x = preprocess_image(\"https://upload.wikimedia.org/wikipedia/commons/9/9a/Pug_600.jpg\")\n",
    "# the R component of the first pixel\n",
    "x[0][0][0]"
   ]
  },
  {
   "cell_type": "markdown",
   "id": "87bbb3b2",
   "metadata": {},
   "source": [
    "## Q4 applying the model"
   ]
  },
  {
   "cell_type": "code",
   "execution_count": 102,
   "id": "c95eecbf",
   "metadata": {},
   "outputs": [],
   "source": [
    "import numpy as np\n",
    "def predict(x):\n",
    "    X = np.array([x])\n",
    "    interpreter.set_tensor(input_index, X)\n",
    "\n",
    "    interpreter.invoke()\n",
    "    preds = interpreter.get_tensor(output_index)\n",
    "    return preds"
   ]
  },
  {
   "cell_type": "code",
   "execution_count": 103,
   "id": "d2c451b3",
   "metadata": {},
   "outputs": [
    {
     "data": {
      "text/plain": [
       "0.770491"
      ]
     },
     "execution_count": 103,
     "metadata": {},
     "output_type": "execute_result"
    }
   ],
   "source": [
    "pred = predict(x)\n",
    "pred[0][0]"
   ]
  }
 ],
 "metadata": {
  "kernelspec": {
   "display_name": "Python 3 (ipykernel)",
   "language": "python",
   "name": "python3"
  },
  "language_info": {
   "codemirror_mode": {
    "name": "ipython",
    "version": 3
   },
   "file_extension": ".py",
   "mimetype": "text/x-python",
   "name": "python",
   "nbconvert_exporter": "python",
   "pygments_lexer": "ipython3",
   "version": "3.9.7"
  }
 },
 "nbformat": 4,
 "nbformat_minor": 5
}
