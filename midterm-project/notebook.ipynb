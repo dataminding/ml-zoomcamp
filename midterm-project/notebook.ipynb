{
 "cells": [
  {
   "cell_type": "code",
   "execution_count": 97,
   "id": "9f752b80",
   "metadata": {},
   "outputs": [],
   "source": [
    "import pandas as pd\n",
    "import numpy as np\n",
    "import matplotlib.pyplot as plt\n",
    "import seaborn as sns\n",
    "from IPython.display import display\n",
    "%matplotlib inline"
   ]
  },
  {
   "cell_type": "code",
   "execution_count": 3,
   "id": "3718726d",
   "metadata": {},
   "outputs": [],
   "source": [
    "RANDOM_STATE=111"
   ]
  },
  {
   "cell_type": "markdown",
   "id": "0e7b1d42",
   "metadata": {},
   "source": [
    "### Getting the dataset\n",
    "\n",
    "The dataset is packed in a zipped folder on UC Irvine's page, thus we need to download and extract the zip folder before we start working with it.\n",
    "Besides the daily and hourly bike sharing datasets, the folder contains a README file too - here we'll use just the hourly one called `hour.csv`"
   ]
  },
  {
   "cell_type": "code",
   "execution_count": 362,
   "id": "111d570c",
   "metadata": {},
   "outputs": [],
   "source": [
    "import requests\n",
    "import os\n",
    "import shutil"
   ]
  },
  {
   "cell_type": "code",
   "execution_count": 369,
   "id": "f0b68877",
   "metadata": {},
   "outputs": [],
   "source": [
    "URL= \"https://archive.ics.uci.edu/ml/machine-learning-databases/00275/Bike-Sharing-Dataset.zip\"\n",
    "FILENAME = URL.split(\"/\")[-1]\n",
    "LOCAL_FOLDER=\"./data\"\n",
    "\n",
    "LOCAL_FILEPATH_ZIP=os.path.join(LOCAL_FOLDER,FILENAME)\n",
    "LOCAL_FILEPATH_HOURLY_CSV= os.path.join(LOCAL_FOLDER,\"hour.csv\")\n",
    "\n",
    "resp = requests.get(URL)\n",
    "resp.raise_for_status()"
   ]
  },
  {
   "cell_type": "code",
   "execution_count": 370,
   "id": "c3032301",
   "metadata": {},
   "outputs": [],
   "source": [
    "os.makedirs(LOCAL_FOLDER, exist_ok=True)\n",
    "with open(LOCAL_FILEPATH_ZIP, \"wb\") as zipin:\n",
    "    zipin.write(resp.content)"
   ]
  },
  {
   "cell_type": "code",
   "execution_count": 371,
   "id": "4867f3a2",
   "metadata": {},
   "outputs": [
    {
     "name": "stdout",
     "output_type": "stream",
     "text": [
      "total 2952\r\n",
      "-rw-r--r--  1 abarabas  staff   273K Oct 30 20:41 Bike-Sharing-Dataset.zip\r\n",
      "-rw-r--r--  1 abarabas  staff   5.5K Oct 30 20:39 Readme.txt\r\n",
      "-rw-r--r--  1 abarabas  staff    56K Oct 30 20:39 day.csv\r\n",
      "-rw-r--r--  1 abarabas  staff   1.1M Oct 30 20:39 hour.csv\r\n"
     ]
    }
   ],
   "source": [
    "! ls -lh  data"
   ]
  },
  {
   "cell_type": "code",
   "execution_count": 372,
   "id": "eea65e68",
   "metadata": {},
   "outputs": [],
   "source": [
    "shutil.unpack_archive(LOCAL_FILEPATH_ZIP, extract_dir=LOCAL_FOLDER)"
   ]
  },
  {
   "cell_type": "code",
   "execution_count": 373,
   "id": "bab1a0a7",
   "metadata": {},
   "outputs": [
    {
     "name": "stdout",
     "output_type": "stream",
     "text": [
      "total 4912\r\n",
      "-rw-r--r--  1 abarabas  staff   273K Oct 30 20:41 Bike-Sharing-Dataset.zip\r\n",
      "-rw-r--r--  1 abarabas  staff   5.5K Oct 30 20:41 Readme.txt\r\n",
      "-rw-r--r--  1 abarabas  staff    56K Oct 30 20:41 day.csv\r\n",
      "-rw-r--r--  1 abarabas  staff   1.1M Oct 30 20:41 hour.csv\r\n"
     ]
    }
   ],
   "source": [
    "! ls -lh  data"
   ]
  },
  {
   "cell_type": "code",
   "execution_count": 374,
   "id": "81a5c4d3",
   "metadata": {},
   "outputs": [],
   "source": [
    "df = pd.read_csv(LOCAL_FILEPATH_HOURLY_CSV, header=0)"
   ]
  },
  {
   "cell_type": "code",
   "execution_count": 445,
   "id": "9ca109f7",
   "metadata": {
    "scrolled": true
   },
   "outputs": [
    {
     "data": {
      "text/html": [
       "<div>\n",
       "<style scoped>\n",
       "    .dataframe tbody tr th:only-of-type {\n",
       "        vertical-align: middle;\n",
       "    }\n",
       "\n",
       "    .dataframe tbody tr th {\n",
       "        vertical-align: top;\n",
       "    }\n",
       "\n",
       "    .dataframe thead th {\n",
       "        text-align: right;\n",
       "    }\n",
       "</style>\n",
       "<table border=\"1\" class=\"dataframe\">\n",
       "  <thead>\n",
       "    <tr style=\"text-align: right;\">\n",
       "      <th></th>\n",
       "      <th>instant</th>\n",
       "      <th>dteday</th>\n",
       "      <th>season</th>\n",
       "      <th>yr</th>\n",
       "      <th>mnth</th>\n",
       "      <th>hr</th>\n",
       "      <th>holiday</th>\n",
       "      <th>weekday</th>\n",
       "      <th>workingday</th>\n",
       "      <th>weathersit</th>\n",
       "      <th>temp</th>\n",
       "      <th>atemp</th>\n",
       "      <th>hum</th>\n",
       "      <th>windspeed</th>\n",
       "      <th>casual</th>\n",
       "      <th>registered</th>\n",
       "      <th>cnt</th>\n",
       "    </tr>\n",
       "  </thead>\n",
       "  <tbody>\n",
       "    <tr>\n",
       "      <th>0</th>\n",
       "      <td>1</td>\n",
       "      <td>2011-01-01</td>\n",
       "      <td>1</td>\n",
       "      <td>0</td>\n",
       "      <td>1</td>\n",
       "      <td>0</td>\n",
       "      <td>0</td>\n",
       "      <td>6</td>\n",
       "      <td>0</td>\n",
       "      <td>1</td>\n",
       "      <td>0.24</td>\n",
       "      <td>0.2879</td>\n",
       "      <td>0.81</td>\n",
       "      <td>0.0</td>\n",
       "      <td>3</td>\n",
       "      <td>13</td>\n",
       "      <td>16</td>\n",
       "    </tr>\n",
       "    <tr>\n",
       "      <th>1</th>\n",
       "      <td>2</td>\n",
       "      <td>2011-01-01</td>\n",
       "      <td>1</td>\n",
       "      <td>0</td>\n",
       "      <td>1</td>\n",
       "      <td>1</td>\n",
       "      <td>0</td>\n",
       "      <td>6</td>\n",
       "      <td>0</td>\n",
       "      <td>1</td>\n",
       "      <td>0.22</td>\n",
       "      <td>0.2727</td>\n",
       "      <td>0.80</td>\n",
       "      <td>0.0</td>\n",
       "      <td>8</td>\n",
       "      <td>32</td>\n",
       "      <td>40</td>\n",
       "    </tr>\n",
       "    <tr>\n",
       "      <th>2</th>\n",
       "      <td>3</td>\n",
       "      <td>2011-01-01</td>\n",
       "      <td>1</td>\n",
       "      <td>0</td>\n",
       "      <td>1</td>\n",
       "      <td>2</td>\n",
       "      <td>0</td>\n",
       "      <td>6</td>\n",
       "      <td>0</td>\n",
       "      <td>1</td>\n",
       "      <td>0.22</td>\n",
       "      <td>0.2727</td>\n",
       "      <td>0.80</td>\n",
       "      <td>0.0</td>\n",
       "      <td>5</td>\n",
       "      <td>27</td>\n",
       "      <td>32</td>\n",
       "    </tr>\n",
       "    <tr>\n",
       "      <th>3</th>\n",
       "      <td>4</td>\n",
       "      <td>2011-01-01</td>\n",
       "      <td>1</td>\n",
       "      <td>0</td>\n",
       "      <td>1</td>\n",
       "      <td>3</td>\n",
       "      <td>0</td>\n",
       "      <td>6</td>\n",
       "      <td>0</td>\n",
       "      <td>1</td>\n",
       "      <td>0.24</td>\n",
       "      <td>0.2879</td>\n",
       "      <td>0.75</td>\n",
       "      <td>0.0</td>\n",
       "      <td>3</td>\n",
       "      <td>10</td>\n",
       "      <td>13</td>\n",
       "    </tr>\n",
       "    <tr>\n",
       "      <th>4</th>\n",
       "      <td>5</td>\n",
       "      <td>2011-01-01</td>\n",
       "      <td>1</td>\n",
       "      <td>0</td>\n",
       "      <td>1</td>\n",
       "      <td>4</td>\n",
       "      <td>0</td>\n",
       "      <td>6</td>\n",
       "      <td>0</td>\n",
       "      <td>1</td>\n",
       "      <td>0.24</td>\n",
       "      <td>0.2879</td>\n",
       "      <td>0.75</td>\n",
       "      <td>0.0</td>\n",
       "      <td>0</td>\n",
       "      <td>1</td>\n",
       "      <td>1</td>\n",
       "    </tr>\n",
       "  </tbody>\n",
       "</table>\n",
       "</div>"
      ],
      "text/plain": [
       "   instant      dteday  season  yr  mnth  hr  holiday  weekday  workingday  \\\n",
       "0        1  2011-01-01       1   0     1   0        0        6           0   \n",
       "1        2  2011-01-01       1   0     1   1        0        6           0   \n",
       "2        3  2011-01-01       1   0     1   2        0        6           0   \n",
       "3        4  2011-01-01       1   0     1   3        0        6           0   \n",
       "4        5  2011-01-01       1   0     1   4        0        6           0   \n",
       "\n",
       "   weathersit  temp   atemp   hum  windspeed  casual  registered  cnt  \n",
       "0           1  0.24  0.2879  0.81        0.0       3          13   16  \n",
       "1           1  0.22  0.2727  0.80        0.0       8          32   40  \n",
       "2           1  0.22  0.2727  0.80        0.0       5          27   32  \n",
       "3           1  0.24  0.2879  0.75        0.0       3          10   13  \n",
       "4           1  0.24  0.2879  0.75        0.0       0           1    1  "
      ]
     },
     "execution_count": 445,
     "metadata": {},
     "output_type": "execute_result"
    }
   ],
   "source": [
    "df.head()"
   ]
  },
  {
   "cell_type": "markdown",
   "id": "5c6fe7a8",
   "metadata": {},
   "source": [
    "## EDA\n",
    "In this section, I'll explore the followings:\n",
    "- missing values\n",
    "- ranges of values\n",
    "- analysis of the target variable\n",
    "- feature importance analysis\n",
    "\n",
    "Initial considerations:\n",
    " - column `instant` is an index, we're not gonna use it to build the model\n",
    " - all the features are numeric, and normalized where needed (temperature, felt temperature, humidity)\n",
    " - rental counts by registered and normal users are available but we'll use just the overall as target variable  (`cnt`=`registered` + `casual`)\n",
    " - date (`dteday`) and year (`yr`) won't be used to build the model\n",
    " \n"
   ]
  },
  {
   "cell_type": "code",
   "execution_count": 376,
   "id": "be8e84f6",
   "metadata": {},
   "outputs": [
    {
     "data": {
      "text/plain": [
       "season        0\n",
       "mnth          0\n",
       "hr            0\n",
       "holiday       0\n",
       "weekday       0\n",
       "workingday    0\n",
       "weathersit    0\n",
       "temp          0\n",
       "atemp         0\n",
       "hum           0\n",
       "windspeed     0\n",
       "cnt           0\n",
       "dtype: int64"
      ]
     },
     "execution_count": 376,
     "metadata": {},
     "output_type": "execute_result"
    }
   ],
   "source": [
    "selected_cols = [ 'season', 'mnth', 'hr', 'holiday', 'weekday',\n",
    "       'workingday', 'weathersit', 'temp', 'atemp', 'hum', 'windspeed', 'cnt']\n",
    "# let's see the potentially missing values!\n",
    "df[selected_cols].isnull().sum()"
   ]
  },
  {
   "cell_type": "markdown",
   "id": "51b85a28",
   "metadata": {},
   "source": [
    "- we don't have missing values for any of the columns, we can go ahead\n",
    "- let's see value the ranges! at first, we take a look at the features with (supposedly) discrete features, e.g. season from which we have 4 (in Washington DC the climate is continental) or weekday which is either 0 or 1\n",
    "- besides the value set of each features we can also see how the number of rentals distribute across the values"
   ]
  },
  {
   "cell_type": "code",
   "execution_count": 127,
   "id": "5e0d8b1d",
   "metadata": {},
   "outputs": [
    {
     "data": {
      "text/html": [
       "<div>\n",
       "<style scoped>\n",
       "    .dataframe tbody tr th:only-of-type {\n",
       "        vertical-align: middle;\n",
       "    }\n",
       "\n",
       "    .dataframe tbody tr th {\n",
       "        vertical-align: top;\n",
       "    }\n",
       "\n",
       "    .dataframe thead th {\n",
       "        text-align: right;\n",
       "    }\n",
       "</style>\n",
       "<table border=\"1\" class=\"dataframe\">\n",
       "  <thead>\n",
       "    <tr style=\"text-align: right;\">\n",
       "      <th></th>\n",
       "      <th>season</th>\n",
       "      <th>cnt_rec</th>\n",
       "      <th>sum_rentals</th>\n",
       "    </tr>\n",
       "  </thead>\n",
       "  <tbody>\n",
       "    <tr>\n",
       "      <th>0</th>\n",
       "      <td>1</td>\n",
       "      <td>4242</td>\n",
       "      <td>471348</td>\n",
       "    </tr>\n",
       "    <tr>\n",
       "      <th>1</th>\n",
       "      <td>2</td>\n",
       "      <td>4409</td>\n",
       "      <td>918589</td>\n",
       "    </tr>\n",
       "    <tr>\n",
       "      <th>2</th>\n",
       "      <td>3</td>\n",
       "      <td>4496</td>\n",
       "      <td>1061129</td>\n",
       "    </tr>\n",
       "    <tr>\n",
       "      <th>3</th>\n",
       "      <td>4</td>\n",
       "      <td>4232</td>\n",
       "      <td>841613</td>\n",
       "    </tr>\n",
       "  </tbody>\n",
       "</table>\n",
       "</div>"
      ],
      "text/plain": [
       "   season  cnt_rec  sum_rentals\n",
       "0       1     4242       471348\n",
       "1       2     4409       918589\n",
       "2       3     4496      1061129\n",
       "3       4     4232       841613"
      ]
     },
     "metadata": {},
     "output_type": "display_data"
    },
    {
     "data": {
      "text/html": [
       "<div>\n",
       "<style scoped>\n",
       "    .dataframe tbody tr th:only-of-type {\n",
       "        vertical-align: middle;\n",
       "    }\n",
       "\n",
       "    .dataframe tbody tr th {\n",
       "        vertical-align: top;\n",
       "    }\n",
       "\n",
       "    .dataframe thead th {\n",
       "        text-align: right;\n",
       "    }\n",
       "</style>\n",
       "<table border=\"1\" class=\"dataframe\">\n",
       "  <thead>\n",
       "    <tr style=\"text-align: right;\">\n",
       "      <th></th>\n",
       "      <th>mnth</th>\n",
       "      <th>cnt_rec</th>\n",
       "      <th>sum_rentals</th>\n",
       "    </tr>\n",
       "  </thead>\n",
       "  <tbody>\n",
       "    <tr>\n",
       "      <th>0</th>\n",
       "      <td>1</td>\n",
       "      <td>1429</td>\n",
       "      <td>134933</td>\n",
       "    </tr>\n",
       "    <tr>\n",
       "      <th>1</th>\n",
       "      <td>2</td>\n",
       "      <td>1341</td>\n",
       "      <td>151352</td>\n",
       "    </tr>\n",
       "    <tr>\n",
       "      <th>2</th>\n",
       "      <td>3</td>\n",
       "      <td>1473</td>\n",
       "      <td>228920</td>\n",
       "    </tr>\n",
       "    <tr>\n",
       "      <th>3</th>\n",
       "      <td>4</td>\n",
       "      <td>1437</td>\n",
       "      <td>269094</td>\n",
       "    </tr>\n",
       "    <tr>\n",
       "      <th>4</th>\n",
       "      <td>5</td>\n",
       "      <td>1488</td>\n",
       "      <td>331686</td>\n",
       "    </tr>\n",
       "    <tr>\n",
       "      <th>5</th>\n",
       "      <td>6</td>\n",
       "      <td>1440</td>\n",
       "      <td>346342</td>\n",
       "    </tr>\n",
       "    <tr>\n",
       "      <th>6</th>\n",
       "      <td>7</td>\n",
       "      <td>1488</td>\n",
       "      <td>344948</td>\n",
       "    </tr>\n",
       "    <tr>\n",
       "      <th>7</th>\n",
       "      <td>8</td>\n",
       "      <td>1475</td>\n",
       "      <td>351194</td>\n",
       "    </tr>\n",
       "    <tr>\n",
       "      <th>8</th>\n",
       "      <td>9</td>\n",
       "      <td>1437</td>\n",
       "      <td>345991</td>\n",
       "    </tr>\n",
       "    <tr>\n",
       "      <th>9</th>\n",
       "      <td>10</td>\n",
       "      <td>1451</td>\n",
       "      <td>322352</td>\n",
       "    </tr>\n",
       "    <tr>\n",
       "      <th>10</th>\n",
       "      <td>11</td>\n",
       "      <td>1437</td>\n",
       "      <td>254831</td>\n",
       "    </tr>\n",
       "    <tr>\n",
       "      <th>11</th>\n",
       "      <td>12</td>\n",
       "      <td>1483</td>\n",
       "      <td>211036</td>\n",
       "    </tr>\n",
       "  </tbody>\n",
       "</table>\n",
       "</div>"
      ],
      "text/plain": [
       "    mnth  cnt_rec  sum_rentals\n",
       "0      1     1429       134933\n",
       "1      2     1341       151352\n",
       "2      3     1473       228920\n",
       "3      4     1437       269094\n",
       "4      5     1488       331686\n",
       "5      6     1440       346342\n",
       "6      7     1488       344948\n",
       "7      8     1475       351194\n",
       "8      9     1437       345991\n",
       "9     10     1451       322352\n",
       "10    11     1437       254831\n",
       "11    12     1483       211036"
      ]
     },
     "metadata": {},
     "output_type": "display_data"
    },
    {
     "data": {
      "text/html": [
       "<div>\n",
       "<style scoped>\n",
       "    .dataframe tbody tr th:only-of-type {\n",
       "        vertical-align: middle;\n",
       "    }\n",
       "\n",
       "    .dataframe tbody tr th {\n",
       "        vertical-align: top;\n",
       "    }\n",
       "\n",
       "    .dataframe thead th {\n",
       "        text-align: right;\n",
       "    }\n",
       "</style>\n",
       "<table border=\"1\" class=\"dataframe\">\n",
       "  <thead>\n",
       "    <tr style=\"text-align: right;\">\n",
       "      <th></th>\n",
       "      <th>hr</th>\n",
       "      <th>cnt_rec</th>\n",
       "      <th>sum_rentals</th>\n",
       "    </tr>\n",
       "  </thead>\n",
       "  <tbody>\n",
       "    <tr>\n",
       "      <th>0</th>\n",
       "      <td>0</td>\n",
       "      <td>726</td>\n",
       "      <td>39130</td>\n",
       "    </tr>\n",
       "    <tr>\n",
       "      <th>1</th>\n",
       "      <td>1</td>\n",
       "      <td>724</td>\n",
       "      <td>24164</td>\n",
       "    </tr>\n",
       "    <tr>\n",
       "      <th>2</th>\n",
       "      <td>2</td>\n",
       "      <td>715</td>\n",
       "      <td>16352</td>\n",
       "    </tr>\n",
       "    <tr>\n",
       "      <th>3</th>\n",
       "      <td>3</td>\n",
       "      <td>697</td>\n",
       "      <td>8174</td>\n",
       "    </tr>\n",
       "    <tr>\n",
       "      <th>4</th>\n",
       "      <td>4</td>\n",
       "      <td>697</td>\n",
       "      <td>4428</td>\n",
       "    </tr>\n",
       "    <tr>\n",
       "      <th>5</th>\n",
       "      <td>5</td>\n",
       "      <td>717</td>\n",
       "      <td>14261</td>\n",
       "    </tr>\n",
       "    <tr>\n",
       "      <th>6</th>\n",
       "      <td>6</td>\n",
       "      <td>725</td>\n",
       "      <td>55132</td>\n",
       "    </tr>\n",
       "    <tr>\n",
       "      <th>7</th>\n",
       "      <td>7</td>\n",
       "      <td>727</td>\n",
       "      <td>154171</td>\n",
       "    </tr>\n",
       "    <tr>\n",
       "      <th>8</th>\n",
       "      <td>8</td>\n",
       "      <td>727</td>\n",
       "      <td>261001</td>\n",
       "    </tr>\n",
       "    <tr>\n",
       "      <th>9</th>\n",
       "      <td>9</td>\n",
       "      <td>727</td>\n",
       "      <td>159438</td>\n",
       "    </tr>\n",
       "    <tr>\n",
       "      <th>10</th>\n",
       "      <td>10</td>\n",
       "      <td>727</td>\n",
       "      <td>126257</td>\n",
       "    </tr>\n",
       "    <tr>\n",
       "      <th>11</th>\n",
       "      <td>11</td>\n",
       "      <td>727</td>\n",
       "      <td>151320</td>\n",
       "    </tr>\n",
       "    <tr>\n",
       "      <th>12</th>\n",
       "      <td>12</td>\n",
       "      <td>728</td>\n",
       "      <td>184414</td>\n",
       "    </tr>\n",
       "    <tr>\n",
       "      <th>13</th>\n",
       "      <td>13</td>\n",
       "      <td>729</td>\n",
       "      <td>184919</td>\n",
       "    </tr>\n",
       "    <tr>\n",
       "      <th>14</th>\n",
       "      <td>14</td>\n",
       "      <td>729</td>\n",
       "      <td>175652</td>\n",
       "    </tr>\n",
       "    <tr>\n",
       "      <th>15</th>\n",
       "      <td>15</td>\n",
       "      <td>729</td>\n",
       "      <td>183149</td>\n",
       "    </tr>\n",
       "    <tr>\n",
       "      <th>16</th>\n",
       "      <td>16</td>\n",
       "      <td>730</td>\n",
       "      <td>227748</td>\n",
       "    </tr>\n",
       "    <tr>\n",
       "      <th>17</th>\n",
       "      <td>17</td>\n",
       "      <td>730</td>\n",
       "      <td>336860</td>\n",
       "    </tr>\n",
       "    <tr>\n",
       "      <th>18</th>\n",
       "      <td>18</td>\n",
       "      <td>728</td>\n",
       "      <td>309772</td>\n",
       "    </tr>\n",
       "    <tr>\n",
       "      <th>19</th>\n",
       "      <td>19</td>\n",
       "      <td>728</td>\n",
       "      <td>226789</td>\n",
       "    </tr>\n",
       "    <tr>\n",
       "      <th>20</th>\n",
       "      <td>20</td>\n",
       "      <td>728</td>\n",
       "      <td>164550</td>\n",
       "    </tr>\n",
       "    <tr>\n",
       "      <th>21</th>\n",
       "      <td>21</td>\n",
       "      <td>728</td>\n",
       "      <td>125445</td>\n",
       "    </tr>\n",
       "    <tr>\n",
       "      <th>22</th>\n",
       "      <td>22</td>\n",
       "      <td>728</td>\n",
       "      <td>95612</td>\n",
       "    </tr>\n",
       "    <tr>\n",
       "      <th>23</th>\n",
       "      <td>23</td>\n",
       "      <td>728</td>\n",
       "      <td>63941</td>\n",
       "    </tr>\n",
       "  </tbody>\n",
       "</table>\n",
       "</div>"
      ],
      "text/plain": [
       "    hr  cnt_rec  sum_rentals\n",
       "0    0      726        39130\n",
       "1    1      724        24164\n",
       "2    2      715        16352\n",
       "3    3      697         8174\n",
       "4    4      697         4428\n",
       "5    5      717        14261\n",
       "6    6      725        55132\n",
       "7    7      727       154171\n",
       "8    8      727       261001\n",
       "9    9      727       159438\n",
       "10  10      727       126257\n",
       "11  11      727       151320\n",
       "12  12      728       184414\n",
       "13  13      729       184919\n",
       "14  14      729       175652\n",
       "15  15      729       183149\n",
       "16  16      730       227748\n",
       "17  17      730       336860\n",
       "18  18      728       309772\n",
       "19  19      728       226789\n",
       "20  20      728       164550\n",
       "21  21      728       125445\n",
       "22  22      728        95612\n",
       "23  23      728        63941"
      ]
     },
     "metadata": {},
     "output_type": "display_data"
    },
    {
     "data": {
      "text/html": [
       "<div>\n",
       "<style scoped>\n",
       "    .dataframe tbody tr th:only-of-type {\n",
       "        vertical-align: middle;\n",
       "    }\n",
       "\n",
       "    .dataframe tbody tr th {\n",
       "        vertical-align: top;\n",
       "    }\n",
       "\n",
       "    .dataframe thead th {\n",
       "        text-align: right;\n",
       "    }\n",
       "</style>\n",
       "<table border=\"1\" class=\"dataframe\">\n",
       "  <thead>\n",
       "    <tr style=\"text-align: right;\">\n",
       "      <th></th>\n",
       "      <th>holiday</th>\n",
       "      <th>cnt_rec</th>\n",
       "      <th>sum_rentals</th>\n",
       "    </tr>\n",
       "  </thead>\n",
       "  <tbody>\n",
       "    <tr>\n",
       "      <th>0</th>\n",
       "      <td>0</td>\n",
       "      <td>16879</td>\n",
       "      <td>3214244</td>\n",
       "    </tr>\n",
       "    <tr>\n",
       "      <th>1</th>\n",
       "      <td>1</td>\n",
       "      <td>500</td>\n",
       "      <td>78435</td>\n",
       "    </tr>\n",
       "  </tbody>\n",
       "</table>\n",
       "</div>"
      ],
      "text/plain": [
       "   holiday  cnt_rec  sum_rentals\n",
       "0        0    16879      3214244\n",
       "1        1      500        78435"
      ]
     },
     "metadata": {},
     "output_type": "display_data"
    },
    {
     "data": {
      "text/html": [
       "<div>\n",
       "<style scoped>\n",
       "    .dataframe tbody tr th:only-of-type {\n",
       "        vertical-align: middle;\n",
       "    }\n",
       "\n",
       "    .dataframe tbody tr th {\n",
       "        vertical-align: top;\n",
       "    }\n",
       "\n",
       "    .dataframe thead th {\n",
       "        text-align: right;\n",
       "    }\n",
       "</style>\n",
       "<table border=\"1\" class=\"dataframe\">\n",
       "  <thead>\n",
       "    <tr style=\"text-align: right;\">\n",
       "      <th></th>\n",
       "      <th>weekday</th>\n",
       "      <th>cnt_rec</th>\n",
       "      <th>sum_rentals</th>\n",
       "    </tr>\n",
       "  </thead>\n",
       "  <tbody>\n",
       "    <tr>\n",
       "      <th>0</th>\n",
       "      <td>0</td>\n",
       "      <td>2502</td>\n",
       "      <td>444027</td>\n",
       "    </tr>\n",
       "    <tr>\n",
       "      <th>1</th>\n",
       "      <td>1</td>\n",
       "      <td>2479</td>\n",
       "      <td>455503</td>\n",
       "    </tr>\n",
       "    <tr>\n",
       "      <th>2</th>\n",
       "      <td>2</td>\n",
       "      <td>2453</td>\n",
       "      <td>469109</td>\n",
       "    </tr>\n",
       "    <tr>\n",
       "      <th>3</th>\n",
       "      <td>3</td>\n",
       "      <td>2475</td>\n",
       "      <td>473048</td>\n",
       "    </tr>\n",
       "    <tr>\n",
       "      <th>4</th>\n",
       "      <td>4</td>\n",
       "      <td>2471</td>\n",
       "      <td>485395</td>\n",
       "    </tr>\n",
       "    <tr>\n",
       "      <th>5</th>\n",
       "      <td>5</td>\n",
       "      <td>2487</td>\n",
       "      <td>487790</td>\n",
       "    </tr>\n",
       "    <tr>\n",
       "      <th>6</th>\n",
       "      <td>6</td>\n",
       "      <td>2512</td>\n",
       "      <td>477807</td>\n",
       "    </tr>\n",
       "  </tbody>\n",
       "</table>\n",
       "</div>"
      ],
      "text/plain": [
       "   weekday  cnt_rec  sum_rentals\n",
       "0        0     2502       444027\n",
       "1        1     2479       455503\n",
       "2        2     2453       469109\n",
       "3        3     2475       473048\n",
       "4        4     2471       485395\n",
       "5        5     2487       487790\n",
       "6        6     2512       477807"
      ]
     },
     "metadata": {},
     "output_type": "display_data"
    },
    {
     "data": {
      "text/html": [
       "<div>\n",
       "<style scoped>\n",
       "    .dataframe tbody tr th:only-of-type {\n",
       "        vertical-align: middle;\n",
       "    }\n",
       "\n",
       "    .dataframe tbody tr th {\n",
       "        vertical-align: top;\n",
       "    }\n",
       "\n",
       "    .dataframe thead th {\n",
       "        text-align: right;\n",
       "    }\n",
       "</style>\n",
       "<table border=\"1\" class=\"dataframe\">\n",
       "  <thead>\n",
       "    <tr style=\"text-align: right;\">\n",
       "      <th></th>\n",
       "      <th>workingday</th>\n",
       "      <th>cnt_rec</th>\n",
       "      <th>sum_rentals</th>\n",
       "    </tr>\n",
       "  </thead>\n",
       "  <tbody>\n",
       "    <tr>\n",
       "      <th>0</th>\n",
       "      <td>0</td>\n",
       "      <td>5514</td>\n",
       "      <td>1000269</td>\n",
       "    </tr>\n",
       "    <tr>\n",
       "      <th>1</th>\n",
       "      <td>1</td>\n",
       "      <td>11865</td>\n",
       "      <td>2292410</td>\n",
       "    </tr>\n",
       "  </tbody>\n",
       "</table>\n",
       "</div>"
      ],
      "text/plain": [
       "   workingday  cnt_rec  sum_rentals\n",
       "0           0     5514      1000269\n",
       "1           1    11865      2292410"
      ]
     },
     "metadata": {},
     "output_type": "display_data"
    },
    {
     "data": {
      "text/html": [
       "<div>\n",
       "<style scoped>\n",
       "    .dataframe tbody tr th:only-of-type {\n",
       "        vertical-align: middle;\n",
       "    }\n",
       "\n",
       "    .dataframe tbody tr th {\n",
       "        vertical-align: top;\n",
       "    }\n",
       "\n",
       "    .dataframe thead th {\n",
       "        text-align: right;\n",
       "    }\n",
       "</style>\n",
       "<table border=\"1\" class=\"dataframe\">\n",
       "  <thead>\n",
       "    <tr style=\"text-align: right;\">\n",
       "      <th></th>\n",
       "      <th>weathersit</th>\n",
       "      <th>cnt_rec</th>\n",
       "      <th>sum_rentals</th>\n",
       "    </tr>\n",
       "  </thead>\n",
       "  <tbody>\n",
       "    <tr>\n",
       "      <th>0</th>\n",
       "      <td>1</td>\n",
       "      <td>11413</td>\n",
       "      <td>2338173</td>\n",
       "    </tr>\n",
       "    <tr>\n",
       "      <th>1</th>\n",
       "      <td>2</td>\n",
       "      <td>4544</td>\n",
       "      <td>795952</td>\n",
       "    </tr>\n",
       "    <tr>\n",
       "      <th>2</th>\n",
       "      <td>3</td>\n",
       "      <td>1419</td>\n",
       "      <td>158331</td>\n",
       "    </tr>\n",
       "    <tr>\n",
       "      <th>3</th>\n",
       "      <td>4</td>\n",
       "      <td>3</td>\n",
       "      <td>223</td>\n",
       "    </tr>\n",
       "  </tbody>\n",
       "</table>\n",
       "</div>"
      ],
      "text/plain": [
       "   weathersit  cnt_rec  sum_rentals\n",
       "0           1    11413      2338173\n",
       "1           2     4544       795952\n",
       "2           3     1419       158331\n",
       "3           4        3          223"
      ]
     },
     "metadata": {},
     "output_type": "display_data"
    },
    {
     "data": {
      "image/png": "[encoded data removed]",
      "text/plain": [
       "<Figure size 864x288 with 1 Axes>"
      ]
     },
     "metadata": {},
     "output_type": "display_data"
    },
    {
     "data": {
      "image/png": "[encoded data removed]",
      "text/plain": [
       "<Figure size 864x288 with 1 Axes>"
      ]
     },
     "metadata": {},
     "output_type": "display_data"
    },
    {
     "data": {
      "image/png": "[encoded data removed]",
      "text/plain": [
       "<Figure size 864x288 with 1 Axes>"
      ]
     },
     "metadata": {},
     "output_type": "display_data"
    },
    {
     "data": {
      "image/png": "[encoded data removed]",
      "text/plain": [
       "<Figure size 864x288 with 1 Axes>"
      ]
     },
     "metadata": {},
     "output_type": "display_data"
    },
    {
     "data": {
      "image/png": "[encoded data removed]",
      "text/plain": [
       "<Figure size 864x288 with 1 Axes>"
      ]
     },
     "metadata": {},
     "output_type": "display_data"
    },
    {
     "data": {
      "image/png": "[encoded data removed]",
      "text/plain": [
       "<Figure size 864x288 with 1 Axes>"
      ]
     },
     "metadata": {},
     "output_type": "display_data"
    },
    {
     "data": {
      "image/png": "[encoded data removed]",
      "text/plain": [
       "<Figure size 864x288 with 1 Axes>"
      ]
     },
     "metadata": {},
     "output_type": "display_data"
    }
   ],
   "source": [
    "discrete_features = [ \"season\", \"mnth\", \"hr\", \"holiday\", \"weekday\", \"workingday\", \"weathersit\"]\n",
    "\n",
    "def plot_feature_w_cnt(feature, size=(12,4)):\n",
    "        plt.figure(figsize=size)\n",
    "        plt_df = df[[feature,\"cnt\"]] \\\n",
    "                .groupby(feature) \\\n",
    "                .agg(cnt_rec=(feature,\"count\"), sum_rentals=(\"cnt\",\"sum\")) \\\n",
    "                .reset_index()\n",
    "        display(plt_df)\n",
    "        sns.barplot(x=plt_df[feature], y=plt_df[\"sum_rentals\"])\n",
    "        \n",
    "\n",
    "sns.set_theme(style=\"whitegrid\")\n",
    "for feature in discrete_features:\n",
    "    plot_feature_w_cnt(feature)"
   ]
  },
  {
   "cell_type": "markdown",
   "id": "22e7aa6f",
   "metadata": {},
   "source": [
    "- we have all the possible values for the considered features (e.g. we have samples for all the four seasons and weather types)\n",
    "- some things we can observe using the DFs and charts:\n",
    "    - most of the rentals happen in the fall\n",
    "    - there are only a few rentals by 4AM , while the busiest times are by 8AM and 5-6PM\n",
    "    - although there are nominally more rentals on holidays, considering the proportion of workingdays vs holidays, there are more daily rentals on holidays\n",
    "    - there were only a 3 hours when the weather was \"Heavy Rain + Ice Pallets + Thunderstorm + Mist, Snow + Fog\"\n",
    "    but there were still some rentals\n",
    "    \n",
    "#### let's see the continous variables,  including the target variable `cnt`!"
   ]
  },
  {
   "cell_type": "code",
   "execution_count": 131,
   "id": "7d82e0d5",
   "metadata": {},
   "outputs": [
    {
     "data": {
      "image/png": "[encoded data removed]",
      "text/plain": [
       "<Figure size 1152x144 with 1 Axes>"
      ]
     },
     "metadata": {},
     "output_type": "display_data"
    },
    {
     "data": {
      "image/png": "[encoded data removed]",
      "text/plain": [
       "<Figure size 1152x144 with 1 Axes>"
      ]
     },
     "metadata": {},
     "output_type": "display_data"
    },
    {
     "data": {
      "image/png": "[encoded data removed]",
      "text/plain": [
       "<Figure size 1152x144 with 1 Axes>"
      ]
     },
     "metadata": {},
     "output_type": "display_data"
    },
    {
     "data": {
      "image/png": "[encoded data removed]",
      "text/plain": [
       "<Figure size 1152x144 with 1 Axes>"
      ]
     },
     "metadata": {},
     "output_type": "display_data"
    },
    {
     "data": {
      "image/png": "[encoded data removed]",
      "text/plain": [
       "<Figure size 1152x144 with 1 Axes>"
      ]
     },
     "metadata": {},
     "output_type": "display_data"
    }
   ],
   "source": [
    "continous_vars = [c for c in selected_cols if c not in discrete_features]\n",
    "for cf in continous_vars:\n",
    "    plt.figure(figsize=(16,2))\n",
    "    sns.boxplot(x=df[cf])"
   ]
  },
  {
   "cell_type": "markdown",
   "id": "1881bea7",
   "metadata": {},
   "source": [
    "- the values are normalized indeed (between 0 and 1)\n",
    "- the temperatures and humidity span from 0 to 1, while the highest windspeed is by 0.5, with some outliers\n",
    "- `cnt` has a high spread and lots of outliers, which can be seen on the below histogram too. thus, I applied a `log1p` transformation on it, after which the distribution of values look way better"
   ]
  },
  {
   "cell_type": "code",
   "execution_count": 135,
   "id": "1121c03f",
   "metadata": {},
   "outputs": [
    {
     "data": {
      "text/plain": [
       "<AxesSubplot:xlabel='cnt', ylabel='Count'>"
      ]
     },
     "execution_count": 135,
     "metadata": {},
     "output_type": "execute_result"
    },
    {
     "data": {
      "image/png": "[encoded data removed]",
      "text/plain": [
       "<Figure size 1152x144 with 1 Axes>"
      ]
     },
     "metadata": {},
     "output_type": "display_data"
    }
   ],
   "source": [
    "plt.figure(figsize=(16,2))\n",
    "sns.histplot(df.cnt,bins=50)"
   ]
  },
  {
   "cell_type": "code",
   "execution_count": 136,
   "id": "ccfe5458",
   "metadata": {},
   "outputs": [],
   "source": [
    "df[\"cnt\"] = np.log1p(df.cnt)"
   ]
  },
  {
   "cell_type": "code",
   "execution_count": 138,
   "id": "dc64a9e1",
   "metadata": {
    "scrolled": true
   },
   "outputs": [
    {
     "data": {
      "text/plain": [
       "<AxesSubplot:xlabel='cnt', ylabel='Count'>"
      ]
     },
     "execution_count": 138,
     "metadata": {},
     "output_type": "execute_result"
    },
    {
     "data": {
      "image/png": "[encoded data removed]",
      "text/plain": [
       "<Figure size 1152x144 with 1 Axes>"
      ]
     },
     "metadata": {},
     "output_type": "display_data"
    }
   ],
   "source": [
    "plt.figure(figsize=(16,2))\n",
    "sns.histplot(df.cnt, bins=50, color=\"green\")"
   ]
  },
  {
   "cell_type": "code",
   "execution_count": null,
   "id": "35da0b42",
   "metadata": {},
   "outputs": [],
   "source": []
  },
  {
   "cell_type": "markdown",
   "id": "c8fb6e26",
   "metadata": {},
   "source": [
    "## Building the model"
   ]
  },
  {
   "cell_type": "code",
   "execution_count": 229,
   "id": "aa178af6",
   "metadata": {},
   "outputs": [],
   "source": [
    "from sklearn.model_selection import train_test_split\n",
    "from sklearn.metrics import mean_squared_error\n",
    "\n",
    "df_train, df_test = train_test_split(df, test_size=0.3 , random_state=RANDOM_STATE)"
   ]
  },
  {
   "cell_type": "markdown",
   "id": "dedcff75",
   "metadata": {},
   "source": [
    "## creating train and test datasets"
   ]
  },
  {
   "cell_type": "code",
   "execution_count": 290,
   "id": "9b6de15b",
   "metadata": {},
   "outputs": [],
   "source": [
    "features = [ 'season', 'mnth', 'hr', 'holiday', 'weekday', \n",
    "            'workingday', 'weathersit', 'temp', 'atemp', 'hum', 'windspeed',]\n",
    "\n",
    "df_train= df_train.reset_index(drop=True)\n",
    "df_test = df_test.reset_index(drop=True)\n",
    "\n",
    "X_train = df_train[features]\n",
    "y_train = df_train.cnt\n",
    "\n",
    "X_val = df_test[features]\n",
    "y_val = df_test.cnt"
   ]
  },
  {
   "cell_type": "code",
   "execution_count": 380,
   "id": "ed21eac6",
   "metadata": {},
   "outputs": [],
   "source": [
    "perf_metrics=list()\n",
    "overall_best_rmse = 1000000"
   ]
  },
  {
   "cell_type": "code",
   "execution_count": 302,
   "id": "e7570b18",
   "metadata": {},
   "outputs": [],
   "source": [
    "def calculate_rmse(y_val,y_pred):\n",
    "    return round(mean_squared_error(y_val,y_pred, squared=False),3)\n",
    "\n",
    "def plot_predicted_vs_target(y_pred, y_val, model_name=\"\"):\n",
    "    plt.figure(figsize=(16,4))\n",
    "    hp=sns.histplot(y_val, label='target', color='blue',  alpha=0.6, bins=100)\n",
    "    hp=sns.histplot(y_pred, label='prediction', color='red', alpha=0.5, bins=100)\n",
    "    hp.legend()\n",
    "    hp.set_title(model_name)"
   ]
  },
  {
   "cell_type": "markdown",
   "id": "473ae226",
   "metadata": {},
   "source": [
    "## first try: simple linear regression"
   ]
  },
  {
   "cell_type": "code",
   "execution_count": 381,
   "id": "3e84cbe3",
   "metadata": {
    "scrolled": true
   },
   "outputs": [
    {
     "name": "stdout",
     "output_type": "stream",
     "text": [
      "linear regression, RMSE: 1.035\n"
     ]
    }
   ],
   "source": [
    "from sklearn.linear_model import LinearRegression\n",
    "\n",
    "model = LinearRegression()\n",
    "\n",
    "model.fit(X_train, y_train)\n",
    "\n",
    "y_pred = model.predict(X_val)\n",
    "\n",
    "rmse_lre = calculate_rmse(y_val,y_pred)\n",
    "perf_metrics.append({\"model_name\": str(model),\"model\": model, \"tuning\": None, \"rmse\": rmse_lre})\n",
    "print(f\"linear regression, RMSE: {rmse_lre}\")\n",
    "if rmse_lre < overall_best_rmse:\n",
    "    overall_best_rmse= rmse_lre"
   ]
  },
  {
   "cell_type": "code",
   "execution_count": 382,
   "id": "ad46dee0",
   "metadata": {},
   "outputs": [
    {
     "data": {
      "image/png": "[encoded data removed]",
      "text/plain": [
       "<Figure size 1152x288 with 1 Axes>"
      ]
     },
     "metadata": {},
     "output_type": "display_data"
    }
   ],
   "source": [
    "plot_predicted_vs_target(y_pred, y_val,\"Linear regression\" )"
   ]
  },
  {
   "cell_type": "markdown",
   "id": "367be170",
   "metadata": {},
   "source": [
    "### well, it seems there is room for improvement in case of RMSE=1.035 - let's try Ridge and Lasso regressions with different regularizations!"
   ]
  },
  {
   "cell_type": "code",
   "execution_count": 383,
   "id": "01c600ab",
   "metadata": {},
   "outputs": [
    {
     "name": "stdout",
     "output_type": "stream",
     "text": [
      "Ridge, alpha=0 : RMSE: 1.035\n",
      "Ridge, alpha=1e-05 : RMSE: 1.035\n",
      "Ridge, alpha=0.0001 : RMSE: 1.035\n",
      "Ridge, alpha=0.001 : RMSE: 1.035\n",
      "Ridge, alpha=0.01 : RMSE: 1.035\n",
      "Ridge, alpha=0.1 : RMSE: 1.035\n",
      "Ridge, alpha=0.2 : RMSE: 1.035\n",
      "Ridge, alpha=0.3 : RMSE: 1.035\n",
      "Ridge, alpha=0.5 : RMSE: 1.035\n",
      "Ridge, alpha=0.6 : RMSE: 1.035\n",
      "Ridge, alpha=1 : RMSE: 1.035\n"
     ]
    }
   ],
   "source": [
    "from sklearn.linear_model import Ridge, Lasso\n",
    "\n",
    "def run_ridge_experiment(alpha):\n",
    "\n",
    "    ridge = Ridge(alpha=alpha, random_state=RANDOM_STATE)\n",
    "    \n",
    "    ridge.fit(X_train, y_train)\n",
    "\n",
    "    y_pred_rdg = ridge.predict(X_val)\n",
    "\n",
    "    return calculate_rmse(y_val,y_pred_rdg), ridge\n",
    "\n",
    "\n",
    "alphas = [0, 0.00001, 0.0001, 0.001, 0.01, 0.1, 0.2, 0.3, 0.5, 0.6, 1]\n",
    "for a in alphas:\n",
    "    rmse, ridge = run_ridge_experiment(a)\n",
    "    if rmse < overall_best_rmse:\n",
    "        overall_best_rmse = rmse\n",
    "    print(f\"Ridge, alpha={a} : RMSE: {rmse}\")\n",
    "    perf_metrics.append({\"model_name\": str(ridge), \"model\": ridge, \"tuning\": {\"alpha\":a}, \"rmse\": rmse})\n",
    "    "
   ]
  },
  {
   "cell_type": "code",
   "execution_count": 400,
   "id": "ebf84e35",
   "metadata": {
    "scrolled": true
   },
   "outputs": [
    {
     "name": "stdout",
     "output_type": "stream",
     "text": [
      "Lasso, alpha=1e-05 : RMSE: 1.035\n",
      "Lasso, alpha=0.0001 : RMSE: 1.035\n",
      "Lasso, alpha=0.001 : RMSE: 1.035\n",
      "Lasso, alpha=0.01 : RMSE: 1.039\n",
      "Lasso, alpha=0.1 : RMSE: 1.149\n",
      "Lasso, alpha=0.2 : RMSE: 1.159\n",
      "Lasso, alpha=0.3 : RMSE: 1.161\n",
      "Lasso, alpha=0.5 : RMSE: 1.167\n",
      "Lasso, alpha=0.6 : RMSE: 1.171\n",
      "Lasso, alpha=1 : RMSE: 1.176\n"
     ]
    }
   ],
   "source": [
    "def run_lasso_experiment(alpha):\n",
    "    lasso = Lasso(alpha=alpha, random_state=RANDOM_STATE)\n",
    "    lasso.fit(X_train, y_train)\n",
    "\n",
    "    y_pred_lss = lasso.predict(X_val)\n",
    "\n",
    "    return calculate_rmse(y_val,y_pred_lss), lasso\n",
    "\n",
    "\n",
    "# Lasso with alpha==0 is LinearRegression\n",
    "for a in [a for a in alphas if a >0]:\n",
    "    res, lasso = run_lasso_experiment(a)\n",
    "    if res < overall_best_rmse:\n",
    "        overall_best_rmse = res\n",
    "    print(f\"Lasso, alpha={a} : RMSE: {res}\")\n",
    "    perf_metrics.append({ \"model_name\": str(lasso),\"model\": lasso, \"tuning\": {\"alpha\":a}, \"rmse\": res})\n"
   ]
  },
  {
   "cell_type": "markdown",
   "id": "e98fc99f",
   "metadata": {},
   "source": [
    "### the best RMSE didn't improved significantly but it's still above 1.0.\n",
    "### let's see if using the `DecisionTreeRegressor` can improve the RMSE! we'll tune the `max_depth` , `min_samples_split` and `min_samples_leaf` parameters step by step."
   ]
  },
  {
   "cell_type": "code",
   "execution_count": 387,
   "id": "4c8ab08b",
   "metadata": {},
   "outputs": [
    {
     "name": "stdout",
     "output_type": "stream",
     "text": [
      "DecisionTreeRegressor, max_depth=1 : RMSE: 0.93\n",
      "DecisionTreeRegressor, max_depth=2 : RMSE: 0.86\n",
      "DecisionTreeRegressor, max_depth=3 : RMSE: 0.767\n",
      "DecisionTreeRegressor, max_depth=4 : RMSE: 0.705\n",
      "DecisionTreeRegressor, max_depth=5 : RMSE: 0.627\n",
      "DecisionTreeRegressor, max_depth=6 : RMSE: 0.587\n",
      "DecisionTreeRegressor, max_depth=7 : RMSE: 0.523\n",
      "DecisionTreeRegressor, max_depth=8 : RMSE: 0.485\n",
      "DecisionTreeRegressor, max_depth=9 : RMSE: 0.472\n",
      "DecisionTreeRegressor, max_depth=10 : RMSE: 0.464\n",
      "DecisionTreeRegressor, max_depth=11 : RMSE: 0.473\n",
      "DecisionTreeRegressor, max_depth=12 : RMSE: 0.483\n",
      "DecisionTreeRegressor, max_depth=13 : RMSE: 0.493\n",
      "DecisionTreeRegressor, max_depth=14 : RMSE: 0.5\n"
     ]
    }
   ],
   "source": [
    "from sklearn.tree import DecisionTreeRegressor\n",
    "\n",
    "# using the sklearn defaults for min_samples_split and min_samples_lead\n",
    "def run_treeregressor_experiment(max_depth, min_samples_split=2, min_samples_leaf=1):\n",
    "\n",
    "    trgr = DecisionTreeRegressor(max_depth=max_depth,\n",
    "                                 min_samples_split=min_samples_split, \n",
    "                                 min_samples_leaf=min_samples_leaf, random_state=RANDOM_STATE)\n",
    "    trgr.fit(X_train,y_train)\n",
    "    y_pred_trgr = trgr.predict(X_val)\n",
    "    return calculate_rmse(y_val, y_pred_trgr), trgr\n",
    "\n",
    "depths=range(1,15)\n",
    "min_splits=[2,3,5,10,15,50,100,150,200]\n",
    "min_leafs=[1, 5, 10, 15, 20, 50, 100, 200]\n",
    "\n",
    "best_rmse=10000\n",
    "best_depth=None\n",
    "for d in depths:\n",
    "    _rmse, _model = run_treeregressor_experiment(max_depth=d)\n",
    "    if _rmse < best_rmse:\n",
    "        best_rmse = _rmse\n",
    "        best_depth = d\n",
    "        if _rmse < overall_best_rmse:\n",
    "            overall_best_rmse= _rmse\n",
    "    print(f\"DecisionTreeRegressor, max_depth={d} : RMSE: {_rmse}\")\n",
    "    perf_metrics.append({\"model_name\": str(_model), \"model\": _model, \"tuning\": {\"max_depth\":d}, \"rmse\": _rmse})\n",
    "    "
   ]
  },
  {
   "cell_type": "code",
   "execution_count": 389,
   "id": "fa109352",
   "metadata": {
    "scrolled": true
   },
   "outputs": [
    {
     "data": {
      "text/plain": [
       "(10, 0.464, 0.464)"
      ]
     },
     "execution_count": 389,
     "metadata": {},
     "output_type": "execute_result"
    }
   ],
   "source": [
    "best_depth, best_rmse, overall_best_rmse"
   ]
  },
  {
   "cell_type": "markdown",
   "id": "2c1eaf3d",
   "metadata": {},
   "source": [
    "### using the `DecisionTreeRegressor` means significant improvement, the RMSE is already below 0.5. let's continue the tuning, using `max_depth=10` (where RMSE was the lowest) !"
   ]
  },
  {
   "cell_type": "code",
   "execution_count": 390,
   "id": "0343beb7",
   "metadata": {},
   "outputs": [
    {
     "name": "stdout",
     "output_type": "stream",
     "text": [
      "DecisionTreeRegressor, {'max_depth': 10, 'min_samples_split': 2} : RMSE: 0.464\n",
      "DecisionTreeRegressor, {'max_depth': 10, 'min_samples_split': 3} : RMSE: 0.464\n",
      "DecisionTreeRegressor, {'max_depth': 10, 'min_samples_split': 5} : RMSE: 0.463\n",
      "DecisionTreeRegressor, {'max_depth': 10, 'min_samples_split': 10} : RMSE: 0.456\n",
      "DecisionTreeRegressor, {'max_depth': 10, 'min_samples_split': 15} : RMSE: 0.454\n",
      "DecisionTreeRegressor, {'max_depth': 10, 'min_samples_split': 50} : RMSE: 0.459\n",
      "DecisionTreeRegressor, {'max_depth': 10, 'min_samples_split': 100} : RMSE: 0.474\n",
      "DecisionTreeRegressor, {'max_depth': 10, 'min_samples_split': 150} : RMSE: 0.493\n",
      "DecisionTreeRegressor, {'max_depth': 10, 'min_samples_split': 200} : RMSE: 0.51\n"
     ]
    },
    {
     "data": {
      "text/plain": [
       "(15, 0.454, 0.454)"
      ]
     },
     "execution_count": 390,
     "metadata": {},
     "output_type": "execute_result"
    }
   ],
   "source": [
    "\n",
    "for s in min_splits:\n",
    "    _rmse, _mdl = run_treeregressor_experiment(max_depth=10, min_samples_split=s)\n",
    "    if _rmse < best_rmse:\n",
    "        best_rmse = _rmse\n",
    "        best_mss = s\n",
    "        if _rmse < overall_best_rmse:\n",
    "            overall_best_rmse= _rmse\n",
    "    tuning_params={\"max_depth\":10, \"min_samples_split\":s}\n",
    "    print(f\"DecisionTreeRegressor, {tuning_params} : RMSE: {_rmse}\")\n",
    "    perf_metrics.append({\"model\": _mdl, \"model_name\": str(_mdl),\n",
    "                         \"tuning\": tuning_params, \n",
    "                         \"rmse\": _rmse})\n",
    "best_mss, best_rmse, overall_best_rmse"
   ]
  },
  {
   "cell_type": "markdown",
   "id": "f696b59f",
   "metadata": {},
   "source": [
    "### let's go with `min_samples_split=15` !"
   ]
  },
  {
   "cell_type": "code",
   "execution_count": 392,
   "id": "ffb601b2",
   "metadata": {},
   "outputs": [
    {
     "name": "stdout",
     "output_type": "stream",
     "text": [
      "DecisionTreeRegressor, {'max_depth': 10, 'min_samples_split': 15, 'min_samples_leaf': 1} : RMSE: 0.454\n",
      "DecisionTreeRegressor, {'max_depth': 10, 'min_samples_split': 15, 'min_samples_leaf': 5} : RMSE: 0.456\n",
      "DecisionTreeRegressor, {'max_depth': 10, 'min_samples_split': 15, 'min_samples_leaf': 10} : RMSE: 0.456\n",
      "DecisionTreeRegressor, {'max_depth': 10, 'min_samples_split': 15, 'min_samples_leaf': 15} : RMSE: 0.452\n",
      "DecisionTreeRegressor, {'max_depth': 10, 'min_samples_split': 15, 'min_samples_leaf': 20} : RMSE: 0.457\n",
      "DecisionTreeRegressor, {'max_depth': 10, 'min_samples_split': 15, 'min_samples_leaf': 50} : RMSE: 0.494\n",
      "DecisionTreeRegressor, {'max_depth': 10, 'min_samples_split': 15, 'min_samples_leaf': 100} : RMSE: 0.538\n",
      "DecisionTreeRegressor, {'max_depth': 10, 'min_samples_split': 15, 'min_samples_leaf': 200} : RMSE: 0.618\n"
     ]
    }
   ],
   "source": [
    "best_msl = None\n",
    "\n",
    "for l in min_leafs:\n",
    "    _rmse, _mdlml = run_treeregressor_experiment(max_depth=10, min_samples_split=15, min_samples_leaf=l)\n",
    "    if _rmse < best_rmse:\n",
    "        best_rmse = _rmse\n",
    "        best_msl = l\n",
    "        if _rmse < overall_best_rmse:\n",
    "            overall_best_rmse= _rmse\n",
    "    tuning={\"max_depth\":10, \"min_samples_split\":15, \"min_samples_leaf\": l}\n",
    "    print(f\"DecisionTreeRegressor, {tuning} : RMSE: {_rmse}\")\n",
    "    perf_metrics.append({\"model\": _mdlml, \"model_name\": str(_mdlml), \n",
    "                         \"tuning\": tuning, \n",
    "                         \"rmse\": _rmse})"
   ]
  },
  {
   "cell_type": "code",
   "execution_count": 393,
   "id": "3865fde7",
   "metadata": {},
   "outputs": [
    {
     "data": {
      "text/plain": [
       "(15, 0.452, 0.452)"
      ]
     },
     "execution_count": 393,
     "metadata": {},
     "output_type": "execute_result"
    }
   ],
   "source": [
    "best_msl, best_rmse, overall_best_rmse"
   ]
  },
  {
   "cell_type": "markdown",
   "id": "f3823770",
   "metadata": {},
   "source": [
    "### so our \"winner\" model for DecisionTreeRegressor is: `DecisionTreeRegressor(max_depth=10, min_samples_split=15, min_samples_leaf=15)` . let's visualize the distribution the predicted vs real values!\n"
   ]
  },
  {
   "cell_type": "code",
   "execution_count": 349,
   "id": "870f18b5",
   "metadata": {},
   "outputs": [],
   "source": [
    "best_decisiontree_regressor = DecisionTreeRegressor(max_depth=10, min_samples_split=15, min_samples_leaf=15)"
   ]
  },
  {
   "cell_type": "code",
   "execution_count": 317,
   "id": "e1a40465",
   "metadata": {},
   "outputs": [],
   "source": [
    "best_decisiontree_regressor.fit(X_train,y_train)\n",
    "y_pred_best_trgr = best_decisiontree_regressor.predict(X_val)"
   ]
  },
  {
   "cell_type": "code",
   "execution_count": 318,
   "id": "87334e6c",
   "metadata": {
    "scrolled": false
   },
   "outputs": [
    {
     "data": {
      "image/png": "[encoded data removed]",
      "text/plain": [
       "<Figure size 1152x288 with 1 Axes>"
      ]
     },
     "metadata": {},
     "output_type": "display_data"
    }
   ],
   "source": [
    "plot_predicted_vs_target(y_pred_best_trgr, y_val,\n",
    "                         \"DecisionTreeRegressor(max_depth=10, min_samples_split=15, min_samples_leaf=15)\" )"
   ]
  },
  {
   "cell_type": "markdown",
   "id": "610cb06e",
   "metadata": {},
   "source": [
    "- apparently we have some outliers (prediction is way higher than the target) among the predictions of `DecisionTreeRegressor`\n",
    "\n",
    "## let's see the RandomForestRegressor! \n",
    "\n",
    "I'll tune the same parameters as did for the DecisionTreeRegressor, namely `max_depth`, `min_samples_split` and\n",
    "`min_samples_leaf`"
   ]
  },
  {
   "cell_type": "code",
   "execution_count": 158,
   "id": "6f538d93",
   "metadata": {},
   "outputs": [],
   "source": [
    "from sklearn.ensemble import RandomForestRegressor"
   ]
  },
  {
   "cell_type": "code",
   "execution_count": 394,
   "id": "db3e0ecc",
   "metadata": {
    "scrolled": false
   },
   "outputs": [
    {
     "name": "stdout",
     "output_type": "stream",
     "text": [
      "RandomForestRegressor, max_depth=1 : RMSE: 0.91\n",
      "RandomForestRegressor, max_depth=2 : RMSE: 0.838\n",
      "RandomForestRegressor, max_depth=3 : RMSE: 0.742\n",
      "RandomForestRegressor, max_depth=4 : RMSE: 0.665\n",
      "RandomForestRegressor, max_depth=5 : RMSE: 0.592\n",
      "RandomForestRegressor, max_depth=6 : RMSE: 0.546\n",
      "RandomForestRegressor, max_depth=7 : RMSE: 0.487\n",
      "RandomForestRegressor, max_depth=8 : RMSE: 0.45\n",
      "RandomForestRegressor, max_depth=9 : RMSE: 0.427\n",
      "RandomForestRegressor, max_depth=10 : RMSE: 0.412\n",
      "RandomForestRegressor, max_depth=11 : RMSE: 0.402\n",
      "RandomForestRegressor, max_depth=12 : RMSE: 0.396\n",
      "RandomForestRegressor, max_depth=13 : RMSE: 0.393\n",
      "RandomForestRegressor, max_depth=14 : RMSE: 0.39\n",
      "RandomForestRegressor, max_depth=15 : RMSE: 0.389\n",
      "RandomForestRegressor, max_depth=16 : RMSE: 0.388\n",
      "RandomForestRegressor, max_depth=17 : RMSE: 0.387\n",
      "RandomForestRegressor, max_depth=18 : RMSE: 0.386\n",
      "RandomForestRegressor, max_depth=19 : RMSE: 0.385\n",
      "RandomForestRegressor, max_depth=20 : RMSE: 0.385\n",
      "RandomForestRegressor, max_depth=21 : RMSE: 0.385\n",
      "RandomForestRegressor, max_depth=22 : RMSE: 0.385\n",
      "RandomForestRegressor, max_depth=23 : RMSE: 0.385\n",
      "RandomForestRegressor, max_depth=24 : RMSE: 0.385\n",
      "\n",
      "\t best max_depth value: 19 with RMSE of 0.385\n"
     ]
    }
   ],
   "source": [
    "def run_rfr_experiment(max_depth, min_samples_split=2, min_samples_leaf=1):\n",
    "    \n",
    "    rfr = RandomForestRegressor(max_depth=max_depth, \n",
    "                               min_samples_split=min_samples_split,\n",
    "                               min_samples_leaf=min_samples_leaf,\n",
    "                               n_jobs=-1,\n",
    "                               random_state=RANDOM_STATE)\n",
    "    rfr.fit(X_train,y_train)\n",
    "    y_pred_rfr = rfr.predict(X_val)\n",
    "    return calculate_rmse(y_val, y_pred_rfr) , rfr\n",
    "\n",
    "depths=range(1,25)\n",
    "min_splits=[2,3,5,10,15,50,100,150,200]\n",
    "min_leafs=[1, 5, 10, 15, 20, 50, 100, 200]\n",
    "\n",
    "best_rmse_rfr=10000\n",
    "best_depth_rfr=None\n",
    "for d in depths:\n",
    "    _rmse, _rfr = run_rfr_experiment(max_depth=d)\n",
    "    if _rmse < best_rmse_rfr:\n",
    "        best_rmse_rfr = _rmse\n",
    "        best_depth_rfr = d\n",
    "        if _rmse < overall_best_rmse:\n",
    "            overall_best_rmse = _rmse\n",
    "    print(f\"RandomForestRegressor, max_depth={d} : RMSE: {_rmse}\")\n",
    "    perf_metrics.append({\"model_name\": str(_rfr), \"model\": _rfr, \"tuning\": {\"max_depth\":d}, \"rmse\": _rmse})\n",
    "\n",
    "print(f\"\\n\\t best max_depth value: {best_depth_rfr} with RMSE of {best_rmse_rfr}\") "
   ]
  },
  {
   "cell_type": "code",
   "execution_count": 395,
   "id": "cd6836b2",
   "metadata": {},
   "outputs": [
    {
     "data": {
      "text/plain": [
       "0.385"
      ]
     },
     "execution_count": 395,
     "metadata": {},
     "output_type": "execute_result"
    }
   ],
   "source": [
    "overall_best_rmse"
   ]
  },
  {
   "cell_type": "markdown",
   "id": "ff5c0b74",
   "metadata": {},
   "source": [
    "#### max_depth of 19 seems to be winning but let's check the performance with some of the values in the 16-23 range!"
   ]
  },
  {
   "cell_type": "code",
   "execution_count": 396,
   "id": "68a0ae4d",
   "metadata": {},
   "outputs": [
    {
     "name": "stdout",
     "output_type": "stream",
     "text": [
      "RandomForestRegressor, {'max_depth': 16, 'min_samples_leaf': 1} , RMSE: 0.388\n",
      "RandomForestRegressor, {'max_depth': 18, 'min_samples_leaf': 1} , RMSE: 0.386\n",
      "RandomForestRegressor, {'max_depth': 19, 'min_samples_leaf': 1} , RMSE: 0.385\n",
      "RandomForestRegressor, {'max_depth': 22, 'min_samples_leaf': 1} , RMSE: 0.385\n",
      "RandomForestRegressor, {'max_depth': 16, 'min_samples_leaf': 5} , RMSE: 0.396\n",
      "RandomForestRegressor, {'max_depth': 18, 'min_samples_leaf': 5} , RMSE: 0.395\n",
      "RandomForestRegressor, {'max_depth': 19, 'min_samples_leaf': 5} , RMSE: 0.395\n",
      "RandomForestRegressor, {'max_depth': 22, 'min_samples_leaf': 5} , RMSE: 0.395\n",
      "RandomForestRegressor, {'max_depth': 16, 'min_samples_leaf': 10} , RMSE: 0.407\n",
      "RandomForestRegressor, {'max_depth': 18, 'min_samples_leaf': 10} , RMSE: 0.407\n",
      "RandomForestRegressor, {'max_depth': 19, 'min_samples_leaf': 10} , RMSE: 0.407\n",
      "RandomForestRegressor, {'max_depth': 22, 'min_samples_leaf': 10} , RMSE: 0.407\n",
      "RandomForestRegressor, {'max_depth': 16, 'min_samples_leaf': 15} , RMSE: 0.417\n",
      "RandomForestRegressor, {'max_depth': 18, 'min_samples_leaf': 15} , RMSE: 0.417\n",
      "RandomForestRegressor, {'max_depth': 19, 'min_samples_leaf': 15} , RMSE: 0.417\n",
      "RandomForestRegressor, {'max_depth': 22, 'min_samples_leaf': 15} , RMSE: 0.417\n",
      "RandomForestRegressor, {'max_depth': 16, 'min_samples_leaf': 20} , RMSE: 0.427\n",
      "RandomForestRegressor, {'max_depth': 18, 'min_samples_leaf': 20} , RMSE: 0.427\n",
      "RandomForestRegressor, {'max_depth': 19, 'min_samples_leaf': 20} , RMSE: 0.427\n",
      "RandomForestRegressor, {'max_depth': 22, 'min_samples_leaf': 20} , RMSE: 0.427\n",
      "RandomForestRegressor, {'max_depth': 16, 'min_samples_leaf': 50} , RMSE: 0.475\n",
      "RandomForestRegressor, {'max_depth': 18, 'min_samples_leaf': 50} , RMSE: 0.475\n",
      "RandomForestRegressor, {'max_depth': 19, 'min_samples_leaf': 50} , RMSE: 0.475\n",
      "RandomForestRegressor, {'max_depth': 22, 'min_samples_leaf': 50} , RMSE: 0.475\n",
      "RandomForestRegressor, {'max_depth': 16, 'min_samples_leaf': 100} , RMSE: 0.536\n",
      "RandomForestRegressor, {'max_depth': 18, 'min_samples_leaf': 100} , RMSE: 0.536\n",
      "RandomForestRegressor, {'max_depth': 19, 'min_samples_leaf': 100} , RMSE: 0.536\n",
      "RandomForestRegressor, {'max_depth': 22, 'min_samples_leaf': 100} , RMSE: 0.536\n",
      "RandomForestRegressor, {'max_depth': 16, 'min_samples_leaf': 200} , RMSE: 0.633\n",
      "RandomForestRegressor, {'max_depth': 18, 'min_samples_leaf': 200} , RMSE: 0.633\n",
      "RandomForestRegressor, {'max_depth': 19, 'min_samples_leaf': 200} , RMSE: 0.633\n",
      "RandomForestRegressor, {'max_depth': 22, 'min_samples_leaf': 200} , RMSE: 0.633\n",
      "\n",
      "\t best result: max_depth=19, min_samples_leaf=1 ,RMSE= 0.385\n"
     ]
    }
   ],
   "source": [
    "best_rmse_rfr2=10000\n",
    "best_msl_rfr=-1\n",
    "best_depth_rfr2=111111\n",
    "\n",
    "for ml in min_leafs:\n",
    "    for depth in [16,18,19,22]:\n",
    "        _rmse, _rf = run_rfr_experiment(max_depth=depth, min_samples_leaf=ml)\n",
    "        if _rmse < best_rmse_rfr2:\n",
    "            best_rmse_rfr2 = _rmse\n",
    "            best_depth_rfr2 = depth\n",
    "            best_msl_rfr=ml\n",
    "            if _rmse < overall_best_rmse:\n",
    "                overall_best_rmse = _rmse\n",
    "        tuning = {\"max_depth\":depth, \"min_samples_leaf\":ml}\n",
    "        print(f\"RandomForestRegressor, {tuning} , RMSE: {_rmse}\")\n",
    "        perf_metrics.append({\"model_name\": str(_rf), \"model\": _rf, \"tuning\": tuning , \"rmse\": _rmse})\n",
    "print(f\"\\n\\t best result: max_depth={best_depth_rfr2}, min_samples_leaf={best_msl_rfr} ,RMSE= {best_rmse_rfr2}\") "
   ]
  },
  {
   "cell_type": "markdown",
   "id": "19ac249e",
   "metadata": {},
   "source": [
    "### it seems min_samples_leaf is the best at its default (1). now let's see our last parameter-to-tune: `min_samples_split` !"
   ]
  },
  {
   "cell_type": "code",
   "execution_count": 397,
   "id": "130ca6e4",
   "metadata": {
    "scrolled": false
   },
   "outputs": [
    {
     "name": "stdout",
     "output_type": "stream",
     "text": [
      "RandomForestRegressor, {'max_depth': 22, 'min_samples_leaf': 1, 'min_samples_split': 2} , RMSE: 0.385\n",
      "RandomForestRegressor, {'max_depth': 22, 'min_samples_leaf': 1, 'min_samples_split': 3} , RMSE: 0.385\n",
      "RandomForestRegressor, {'max_depth': 22, 'min_samples_leaf': 1, 'min_samples_split': 5} , RMSE: 0.386\n",
      "RandomForestRegressor, {'max_depth': 22, 'min_samples_leaf': 1, 'min_samples_split': 10} , RMSE: 0.388\n",
      "RandomForestRegressor, {'max_depth': 22, 'min_samples_leaf': 1, 'min_samples_split': 15} , RMSE: 0.391\n",
      "RandomForestRegressor, {'max_depth': 22, 'min_samples_leaf': 1, 'min_samples_split': 50} , RMSE: 0.417\n",
      "RandomForestRegressor, {'max_depth': 22, 'min_samples_leaf': 1, 'min_samples_split': 100} , RMSE: 0.452\n",
      "RandomForestRegressor, {'max_depth': 22, 'min_samples_leaf': 1, 'min_samples_split': 150} , RMSE: 0.479\n",
      "RandomForestRegressor, {'max_depth': 22, 'min_samples_leaf': 1, 'min_samples_split': 200} , RMSE: 0.504\n",
      "\n",
      "\t best result: min_samples_split=2 ,RMSE= 0.385\n"
     ]
    }
   ],
   "source": [
    "best_rmse_rfr_mss=10000\n",
    "best_mss= -1\n",
    "best_depth_mss=111111\n",
    "\n",
    "for ms in min_splits:\n",
    "    _rmse, _rrr = run_rfr_experiment(max_depth=22, min_samples_split=ms, min_samples_leaf=1)\n",
    "    if _rmse < best_rmse_rfr_mss:\n",
    "        best_rmse_rfr_mss=_rmse\n",
    "        best_mss = ms\n",
    "        if _rmse < overall_best_rmse:\n",
    "            overall_best_rmse = _rmse\n",
    "    tuning = {\"max_depth\":22, \"min_samples_leaf\":1, \"min_samples_split\":ms}\n",
    "    print(f\"RandomForestRegressor, {tuning} , RMSE: {_rmse}\")\n",
    "    perf_metrics.append({\"model\": _rrr,\"model_name\":str(_rrr), \"tuning\": tuning , \"rmse\": _rmse})\n",
    "print(f\"\\n\\t best result: min_samples_split={best_mss} ,RMSE= {best_rmse_rfr_mss}\") "
   ]
  },
  {
   "cell_type": "markdown",
   "id": "64861d63",
   "metadata": {},
   "source": [
    "### apparently, the random forest regressor results the lowest RMSE, and it can be achieved using several different tuning values. let's see the global ranking of all the models we have trained, in order to validate that it's the best model we have!"
   ]
  },
  {
   "cell_type": "code",
   "execution_count": 404,
   "id": "7aa11667",
   "metadata": {},
   "outputs": [
    {
     "data": {
      "text/html": [
       "<div>\n",
       "<style scoped>\n",
       "    .dataframe tbody tr th:only-of-type {\n",
       "        vertical-align: middle;\n",
       "    }\n",
       "\n",
       "    .dataframe tbody tr th {\n",
       "        vertical-align: top;\n",
       "    }\n",
       "\n",
       "    .dataframe thead th {\n",
       "        text-align: right;\n",
       "    }\n",
       "</style>\n",
       "<table border=\"1\" class=\"dataframe\">\n",
       "  <thead>\n",
       "    <tr style=\"text-align: right;\">\n",
       "      <th></th>\n",
       "      <th>model_name</th>\n",
       "      <th>tuning</th>\n",
       "      <th>rmse</th>\n",
       "    </tr>\n",
       "  </thead>\n",
       "  <tbody>\n",
       "    <tr>\n",
       "      <th>85</th>\n",
       "      <td>RandomForestRegressor(max_depth=19, n_jobs=-1, random_state=111)</td>\n",
       "      <td>{'max_depth': 19}</td>\n",
       "      <td>0.385</td>\n",
       "    </tr>\n",
       "    <tr>\n",
       "      <th>86</th>\n",
       "      <td>RandomForestRegressor(max_depth=20, n_jobs=-1, random_state=111)</td>\n",
       "      <td>{'max_depth': 20}</td>\n",
       "      <td>0.385</td>\n",
       "    </tr>\n",
       "    <tr>\n",
       "      <th>87</th>\n",
       "      <td>RandomForestRegressor(max_depth=21, n_jobs=-1, random_state=111)</td>\n",
       "      <td>{'max_depth': 21}</td>\n",
       "      <td>0.385</td>\n",
       "    </tr>\n",
       "    <tr>\n",
       "      <th>88</th>\n",
       "      <td>RandomForestRegressor(max_depth=22, n_jobs=-1, random_state=111)</td>\n",
       "      <td>{'max_depth': 22}</td>\n",
       "      <td>0.385</td>\n",
       "    </tr>\n",
       "    <tr>\n",
       "      <th>89</th>\n",
       "      <td>RandomForestRegressor(max_depth=23, n_jobs=-1, random_state=111)</td>\n",
       "      <td>{'max_depth': 23}</td>\n",
       "      <td>0.385</td>\n",
       "    </tr>\n",
       "    <tr>\n",
       "      <th>90</th>\n",
       "      <td>RandomForestRegressor(max_depth=24, n_jobs=-1, random_state=111)</td>\n",
       "      <td>{'max_depth': 24}</td>\n",
       "      <td>0.385</td>\n",
       "    </tr>\n",
       "    <tr>\n",
       "      <th>93</th>\n",
       "      <td>RandomForestRegressor(max_depth=19, n_jobs=-1, random_state=111)</td>\n",
       "      <td>{'max_depth': 19, 'min_samples_leaf': 1}</td>\n",
       "      <td>0.385</td>\n",
       "    </tr>\n",
       "    <tr>\n",
       "      <th>94</th>\n",
       "      <td>RandomForestRegressor(max_depth=22, n_jobs=-1, random_state=111)</td>\n",
       "      <td>{'max_depth': 22, 'min_samples_leaf': 1}</td>\n",
       "      <td>0.385</td>\n",
       "    </tr>\n",
       "    <tr>\n",
       "      <th>123</th>\n",
       "      <td>RandomForestRegressor(max_depth=22, n_jobs=-1, random_state=111)</td>\n",
       "      <td>{'max_depth': 22, 'min_samples_leaf': 1, 'min_samples_split': 2}</td>\n",
       "      <td>0.385</td>\n",
       "    </tr>\n",
       "    <tr>\n",
       "      <th>124</th>\n",
       "      <td>RandomForestRegressor(max_depth=22, min_samples_split=3, n_jobs=-1,\\n                      random_state=111)</td>\n",
       "      <td>{'max_depth': 22, 'min_samples_leaf': 1, 'min_samples_split': 3}</td>\n",
       "      <td>0.385</td>\n",
       "    </tr>\n",
       "  </tbody>\n",
       "</table>\n",
       "</div>"
      ],
      "text/plain": [
       "                                                                                                       model_name  \\\n",
       "85                                               RandomForestRegressor(max_depth=19, n_jobs=-1, random_state=111)   \n",
       "86                                               RandomForestRegressor(max_depth=20, n_jobs=-1, random_state=111)   \n",
       "87                                               RandomForestRegressor(max_depth=21, n_jobs=-1, random_state=111)   \n",
       "88                                               RandomForestRegressor(max_depth=22, n_jobs=-1, random_state=111)   \n",
       "89                                               RandomForestRegressor(max_depth=23, n_jobs=-1, random_state=111)   \n",
       "90                                               RandomForestRegressor(max_depth=24, n_jobs=-1, random_state=111)   \n",
       "93                                               RandomForestRegressor(max_depth=19, n_jobs=-1, random_state=111)   \n",
       "94                                               RandomForestRegressor(max_depth=22, n_jobs=-1, random_state=111)   \n",
       "123                                              RandomForestRegressor(max_depth=22, n_jobs=-1, random_state=111)   \n",
       "124  RandomForestRegressor(max_depth=22, min_samples_split=3, n_jobs=-1,\\n                      random_state=111)   \n",
       "\n",
       "                                                               tuning   rmse  \n",
       "85                                                  {'max_depth': 19}  0.385  \n",
       "86                                                  {'max_depth': 20}  0.385  \n",
       "87                                                  {'max_depth': 21}  0.385  \n",
       "88                                                  {'max_depth': 22}  0.385  \n",
       "89                                                  {'max_depth': 23}  0.385  \n",
       "90                                                  {'max_depth': 24}  0.385  \n",
       "93                           {'max_depth': 19, 'min_samples_leaf': 1}  0.385  \n",
       "94                           {'max_depth': 22, 'min_samples_leaf': 1}  0.385  \n",
       "123  {'max_depth': 22, 'min_samples_leaf': 1, 'min_samples_split': 2}  0.385  \n",
       "124  {'max_depth': 22, 'min_samples_leaf': 1, 'min_samples_split': 3}  0.385  "
      ]
     },
     "execution_count": 404,
     "metadata": {},
     "output_type": "execute_result"
    }
   ],
   "source": [
    "pd.options.display.max_colwidth = 150\n",
    "df_perf= pd.DataFrame.from_dict(perf_metrics)\n",
    "df_perf = df_perf[df_perf.rmse == overall_best_rmse]\n",
    "df_perf[[\"model_name\",\"tuning\",\"rmse\"]].sort_values(by=\"rmse\", ascending=True)"
   ]
  },
  {
   "cell_type": "markdown",
   "id": "c506dd9b",
   "metadata": {},
   "source": [
    "##  let's pick one of the less restrictive models, e.g. our winning model is RandomForestRegressor(max_depth=19)\n",
    "- let's visualize the target vs predicted values!"
   ]
  },
  {
   "cell_type": "code",
   "execution_count": 405,
   "id": "e1f20808",
   "metadata": {},
   "outputs": [],
   "source": [
    "best_randomforest_regressor = RandomForestRegressor(max_depth=19)\n",
    "best_randomforest_regressor.fit(X_train,y_train)\n",
    "y_pred_best_rfrgr = best_randomforest_regressor.predict(X_val)"
   ]
  },
  {
   "cell_type": "code",
   "execution_count": 406,
   "id": "e8658c1f",
   "metadata": {},
   "outputs": [
    {
     "data": {
      "image/png": "[encoded data removed]",
      "text/plain": [
       "<Figure size 1152x288 with 1 Axes>"
      ]
     },
     "metadata": {},
     "output_type": "display_data"
    }
   ],
   "source": [
    "plot_predicted_vs_target(y_pred_best_rfrgr, y_val, \n",
    "                         \"RandomForestRegressor(max_depth=19)\")"
   ]
  },
  {
   "cell_type": "markdown",
   "id": "4b4126b0",
   "metadata": {},
   "source": [
    "- while we don't have so many outliers (errors with high difference) than in the case of DecisionTreeRegressor, the predictions are usually more accurate, but in the lower region of rentals the errors are more frequent"
   ]
  },
  {
   "cell_type": "code",
   "execution_count": 443,
   "id": "e854d3db",
   "metadata": {},
   "outputs": [],
   "source": [
    "# finally, we export the winner model\n",
    "import pickle\n",
    "with open(\"milestone_model.pickle\",\"wb\") as pf:\n",
    "    pickle.dump(best_randomforest_regressor, pf)"
   ]
  }
 ],
 "metadata": {
  "kernelspec": {
   "display_name": "Python 3 (ipykernel)",
   "language": "python",
   "name": "python3"
  },
  "language_info": {
   "codemirror_mode": {
    "name": "ipython",
    "version": 3
   },
   "file_extension": ".py",
   "mimetype": "text/x-python",
   "name": "python",
   "nbconvert_exporter": "python",
   "pygments_lexer": "ipython3",
   "version": "3.9.7"
  }
 },
 "nbformat": 4,
 "nbformat_minor": 5
}
